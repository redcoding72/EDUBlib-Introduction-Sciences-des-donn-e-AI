{
  "cells": [
    {
      "cell_type": "markdown",
      "metadata": {
        "id": "view-in-github",
        "colab_type": "text"
      },
      "source": [
        "<a href=\"https://colab.research.google.com/github/redcoding72/EDUBlib-Introduction-Sciences-des-donn-e-AI/blob/main/pratique_collecte_nosql.ipynb\" target=\"_parent\"><img src=\"https://colab.research.google.com/assets/colab-badge.svg\" alt=\"Open In Colab\"/></a>"
      ]
    },
    {
      "cell_type": "markdown",
      "metadata": {
        "id": "Cj-vXbhSbdQf"
      },
      "source": [
        "# Pratique Collecte à partir de BD NoSQL"
      ]
    },
    {
      "cell_type": "code",
      "execution_count": 22,
      "metadata": {
        "id": "AgMh5PO9bdQn",
        "outputId": "63af2dfd-1bd4-448f-c4bf-ac6454f1c103",
        "colab": {
          "base_uri": "https://localhost:8080/"
        }
      },
      "outputs": [
        {
          "output_type": "stream",
          "name": "stdout",
          "text": [
            "Looking in indexes: https://pypi.org/simple, https://us-python.pkg.dev/colab-wheels/public/simple/\n",
            "Requirement already satisfied: pymongo in /usr/local/lib/python3.7/dist-packages (4.1.1)\n"
          ]
        }
      ],
      "source": [
        "!pip install pymongo"
      ]
    },
    {
      "cell_type": "code",
      "execution_count": 23,
      "metadata": {
        "id": "IopBaAYMbdQq"
      },
      "outputs": [],
      "source": [
        "import datetime\n",
        "from pymongo import MongoClient\n",
        "client = MongoClient('localhost', 27017)\n",
        "\n",
        "#Collection\n",
        "bd = client.db.posts_coll\n",
        "\n",
        "#Créer les posts\n",
        "posts={\"auteur\":\"Flouflou\",\n",
        "\n",
        "         \"texte\":\"Mon premier post du mois\",\n",
        "\n",
        "         \"tags\":[\"python\",\"mongodb\"],\n",
        "\n",
        "         \"date\":datetime.datetime.utcnow()\n",
        "\n",
        "}"
      ]
    },
    {
      "cell_type": "code",
      "execution_count": null,
      "metadata": {
        "id": "LTdwe2ocbdQr"
      },
      "outputs": [],
      "source": [
        "#Insertion d'un seul post\n",
        "post_id = bd.insert_one(posts).inserted_id\n",
        "print(post_id)"
      ]
    },
    {
      "cell_type": "code",
      "execution_count": null,
      "metadata": {
        "id": "Mrwe7umubdQs"
      },
      "outputs": [],
      "source": [
        "#Obtenir un post\n",
        "import pprint as p\n",
        "p.pprint(bd.find_one())"
      ]
    },
    {
      "cell_type": "code",
      "execution_count": null,
      "metadata": {
        "id": "yT0gLYWabdQs"
      },
      "outputs": [],
      "source": [
        "#recherche par un critere\n",
        "curseur = bd.find({\"auteur\":\"Flouflou\"})\n",
        "p.print(list(curseur))"
      ]
    },
    {
      "cell_type": "code",
      "execution_count": null,
      "metadata": {
        "id": "s0I6UfrDbdQt"
      },
      "outputs": [],
      "source": [
        "#insertion en mode batch\n",
        "liste_post =[\n",
        "\n",
        "{\"auteur\":\"FlouClair\",\n",
        "\n",
        "         \"texte\":\"Le renard saute la barriere\",\n",
        "\n",
        "         \"tags\":[\"renard\",\"barriere\"],\n",
        "\n",
        "         \"date\":datetime.datetime.utcnow()},\n",
        "\n",
        "{\"auteur\":\"ClairClair\",\n",
        "\n",
        "         \"texte\":\"les moutons n'ont aucune chance\",\n",
        "\n",
        "         \"tags\":[\"mouton\",\"chance\"],\n",
        "\n",
        "         \"date\":datetime.datetime.utcnow()}\n",
        "\n",
        "]"
      ]
    },
    {
      "cell_type": "code",
      "execution_count": null,
      "metadata": {
        "id": "0pbdio7bbdQu"
      },
      "outputs": [],
      "source": [
        "#recuperer les IDs des posts insérés\n",
        "#afficher les IDS\n",
        "resultats = bd.insert_many(liste_post)\n",
        "print(resultats.inserted_id)"
      ]
    },
    {
      "cell_type": "code",
      "execution_count": null,
      "metadata": {
        "id": "3PWJeSKCbdQv"
      },
      "outputs": [],
      "source": [
        "#Recuperer les posts\n",
        "for p in bd.find():\n",
        "  print(p)"
      ]
    },
    {
      "cell_type": "code",
      "execution_count": null,
      "metadata": {
        "id": "t5o7WoiBbdQv"
      },
      "outputs": [],
      "source": [
        "#Afficher le nombre de documents dans la collection\n",
        "print(bd.count_document({}))"
      ]
    }
  ],
  "metadata": {
    "kernelspec": {
      "display_name": "Python 3",
      "language": "python",
      "name": "python3"
    },
    "language_info": {
      "codemirror_mode": {
        "name": "ipython",
        "version": 3
      },
      "file_extension": ".py",
      "mimetype": "text/x-python",
      "name": "python",
      "nbconvert_exporter": "python",
      "pygments_lexer": "ipython3",
      "version": "3.8.5"
    },
    "colab": {
      "name": "pratique_collecte_nosql.ipynb",
      "provenance": [],
      "include_colab_link": true
    }
  },
  "nbformat": 4,
  "nbformat_minor": 0
}