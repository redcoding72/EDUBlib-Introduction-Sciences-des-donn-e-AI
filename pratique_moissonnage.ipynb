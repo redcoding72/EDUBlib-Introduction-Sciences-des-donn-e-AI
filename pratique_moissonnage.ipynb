{
  "cells": [
    {
      "cell_type": "markdown",
      "metadata": {
        "id": "view-in-github",
        "colab_type": "text"
      },
      "source": [
        "<a href=\"https://colab.research.google.com/github/redcoding72/EDUBlib-Introduction-Sciences-des-donn-e-AI/blob/main/pratique_moissonnage.ipynb\" target=\"_parent\"><img src=\"https://colab.research.google.com/assets/colab-badge.svg\" alt=\"Open In Colab\"/></a>"
      ]
    },
    {
      "cell_type": "code",
      "execution_count": 38,
      "metadata": {
        "id": "-zbdQPZ-YT50"
      },
      "outputs": [],
      "source": [
        "import requests\n",
        "from bs4 import BeautifulSoup\n",
        "\n",
        "def main():\n",
        "    #adresse sur meteo canada pour recupérer la meteo de la ville de montreal \n",
        "    adresse=\"https://meteo.gc.ca/city/pages/qc-147_metric_f.html\"\n",
        "    html = get_html_from_url(adresse)\n",
        "    report = get_meteo_from_htmlpage(html)\n",
        "\n",
        "    print('Condition météo: {} \\n Location:{} \\n Temperature:{}'.format(report[0],report[1],report[2]))\n",
        "\n",
        "    "
      ]
    },
    {
      "cell_type": "code",
      "execution_count": 29,
      "metadata": {
        "id": "EHZm9sc7YT55"
      },
      "outputs": [],
      "source": [
        "def get_html_from_url(adresse):\n",
        "    response = requests.get(adresse).content   \n",
        "    # Parse du contenu HTML\n",
        "    soup = BeautifulSoup(response, \"html.parser\")    \n",
        "    print(\"=\" * 50)\n",
        "    #Afficher le titre obtenu de la page\n",
        "    print(soup.title.get_text)\n",
        "    print(\"=\" * 50)\n",
        "    return soup"
      ]
    },
    {
      "cell_type": "code",
      "execution_count": 30,
      "metadata": {
        "id": "rubzFmGyYT56"
      },
      "outputs": [],
      "source": [
        "def get_meteo_from_htmlpage(html):\n",
        "    #Recuperer les prévisions  {\"class\": \"pdg-tp-0\"}\n",
        "    prevision = html.find(\"tr\",attrs={\"class\":\"pdg-tp-0\"}) \n",
        "    #Recuperer location {\"id\": \"wb-cont\"}\n",
        "    location = html.find(\"h1\",attrs={\"id\":\"wb-cont\"}) \n",
        "    #Recuperer la temperature {\"class\": \"wxo-metric-hide\"}\n",
        "    temperature = html.find(\"span\",attrs={\"class\":\"wxo-metric-hide\"}) \n",
        "    #recuperer le report à partir des prévisinos\n",
        "    report = prevision.get_text(),location.get_text,temperature.get_text()\n",
        "    return report    \n",
        " "
      ]
    },
    {
      "cell_type": "code",
      "execution_count": 39,
      "metadata": {
        "id": "IrWBl6Y8YT57",
        "outputId": "7f1ea56d-81cf-4daf-e126-adf9580ec16b",
        "colab": {
          "base_uri": "https://localhost:8080/"
        }
      },
      "outputs": [
        {
          "output_type": "stream",
          "name": "stdout",
          "text": [
            "==================================================\n",
            "<bound method Tag.get_text of <title>Montréal, QC - Prévisions sur 7 jours - d'Environnement Canada</title>>\n",
            "==================================================\n",
            "Condition météo: \n",
            "Ce soir et cette nuit\n",
            "Quelques averses cessant après minuit. Nuageux par la suite. Risque d'un orage ce soir. Vents du nord-est de 20 km/h. Minimum 12.\n",
            " \n",
            " Location:<bound method Tag.get_text of <h1 id=\"wb-cont\" property=\"name\">Montréal, <abbr title=\"Québec\">QC</abbr>\n",
            "</h1>> \n",
            " Temperature:14°C\n"
          ]
        }
      ],
      "source": [
        "if __name__ == '__main__':\n",
        "    main()"
      ]
    }
  ],
  "metadata": {
    "kernelspec": {
      "display_name": "Python 3",
      "language": "python",
      "name": "python3"
    },
    "language_info": {
      "codemirror_mode": {
        "name": "ipython",
        "version": 3
      },
      "file_extension": ".py",
      "mimetype": "text/x-python",
      "name": "python",
      "nbconvert_exporter": "python",
      "pygments_lexer": "ipython3",
      "version": "3.8.5"
    },
    "colab": {
      "name": "pratique_moissonnage.ipynb",
      "provenance": [],
      "include_colab_link": true
    }
  },
  "nbformat": 4,
  "nbformat_minor": 0
}