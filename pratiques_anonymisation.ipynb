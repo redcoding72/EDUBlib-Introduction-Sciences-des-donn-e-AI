{
  "cells": [
    {
      "cell_type": "markdown",
      "metadata": {
        "id": "view-in-github",
        "colab_type": "text"
      },
      "source": [
        "<a href=\"https://colab.research.google.com/github/redcoding72/EDUBlib-Introduction-Sciences-des-donn-e-AI/blob/main/pratiques_anonymisation.ipynb\" target=\"_parent\"><img src=\"https://colab.research.google.com/assets/colab-badge.svg\" alt=\"Open In Colab\"/></a>"
      ]
    },
    {
      "cell_type": "markdown",
      "id": "conscious-dallas",
      "metadata": {
        "id": "conscious-dallas"
      },
      "source": [
        "<a href=\"https://colab.research.google.com/github/pia-fcse-bdeb/Cours-EDUlib/blob/master/module-3/Exercices/pratiques_anonymisation.ipynb\">\n",
        "  <img src=\"https://colab.research.google.com/assets/colab-badge.svg\" alt=\"Open In Colab\"/>\n",
        "</a>"
      ]
    },
    {
      "cell_type": "markdown",
      "id": "statewide-camera",
      "metadata": {
        "id": "statewide-camera"
      },
      "source": [
        "# Pratique Anonymisation des données"
      ]
    },
    {
      "cell_type": "markdown",
      "id": "absolute-airplane",
      "metadata": {
        "id": "absolute-airplane"
      },
      "source": [
        "## Lire le fichier de données en utilisant pandas.read_csv"
      ]
    },
    {
      "cell_type": "markdown",
      "id": "alleged-welsh",
      "metadata": {
        "id": "alleged-welsh"
      },
      "source": [
        "On vous fournit les lignes de codes qui permettent de charger les données, vous pouvez soit :\n",
        "* Télécharger le fichier de données et procéder à son chargement sur votre machine locale ou bien sur google Colab. Pour cela, il vous faut décommenter la **cellule A** et commenter la **cellule B**.\n",
        "* Charger les données directement depuis google drive sans avoir à télécharger le fichier sur votre machine locale. Pour ce faire, utilisez les lignes de code de la **cellule B**.\n"
      ]
    },
    {
      "cell_type": "markdown",
      "id": "incorporate-border",
      "metadata": {
        "id": "incorporate-border"
      },
      "source": [
        "### Cellule A"
      ]
    },
    {
      "cell_type": "code",
      "execution_count": null,
      "id": "gentle-colon",
      "metadata": {
        "id": "gentle-colon"
      },
      "outputs": [],
      "source": [
        "# # importer la librairie pandas\n",
        "# import pandas as pd\n",
        "# # lecture du fichier de données\n",
        "# data = pd.read_csv(\"data_voyage.csv\")"
      ]
    },
    {
      "cell_type": "markdown",
      "id": "dried-environment",
      "metadata": {
        "id": "dried-environment"
      },
      "source": [
        "### Cellule B"
      ]
    },
    {
      "cell_type": "code",
      "execution_count": null,
      "id": "smooth-transsexual",
      "metadata": {
        "id": "smooth-transsexual"
      },
      "outputs": [],
      "source": [
        "# importer la librairie pandas\n",
        "import pandas as pd\n",
        "\n",
        "# charger les données contenues dans un fichiers csv se trouvant sur drive\n",
        "URL         = 'https://drive.google.com/file/d/1OsyrafDAXSsrlAGbgi3fT7S1-Aqs5HtC/view?usp=sharing'\n",
        "\n",
        "data_voyage = 'https://drive.google.com/uc?export=download&id='+URL.split('/')[-2]\n",
        "data = pd.read_csv(data_voyage)"
      ]
    },
    {
      "cell_type": "code",
      "execution_count": null,
      "id": "flexible-military",
      "metadata": {
        "id": "flexible-military"
      },
      "outputs": [],
      "source": [
        "# créer une copie pour ne pas toucher au dataframe d'origine \n",
        "df = data.copy()"
      ]
    },
    {
      "cell_type": "markdown",
      "id": "every-works",
      "metadata": {
        "id": "every-works"
      },
      "source": [
        "* A titre informatif, le fichier de données (complètement fictif) est de petite taille, on peut donc se permettre de l'afficher en entier."
      ]
    },
    {
      "cell_type": "code",
      "execution_count": null,
      "id": "loved-bangladesh",
      "metadata": {
        "id": "loved-bangladesh"
      },
      "outputs": [],
      "source": [
        "display(df)"
      ]
    },
    {
      "cell_type": "markdown",
      "id": "varied-bones",
      "metadata": {
        "id": "varied-bones"
      },
      "source": [
        "# Solutionnaire"
      ]
    },
    {
      "cell_type": "code",
      "execution_count": null,
      "id": "contained-sensitivity",
      "metadata": {
        "id": "contained-sensitivity",
        "outputId": "d8363c51-6e6d-4768-fd96-0b49bdad0ff0"
      },
      "outputs": [
        {
          "data": {
            "text/html": [
              "<div>\n",
              "<style scoped>\n",
              "    .dataframe tbody tr th:only-of-type {\n",
              "        vertical-align: middle;\n",
              "    }\n",
              "\n",
              "    .dataframe tbody tr th {\n",
              "        vertical-align: top;\n",
              "    }\n",
              "\n",
              "    .dataframe thead th {\n",
              "        text-align: right;\n",
              "    }\n",
              "</style>\n",
              "<table border=\"1\" class=\"dataframe\">\n",
              "  <thead>\n",
              "    <tr style=\"text-align: right;\">\n",
              "      <th></th>\n",
              "      <th>Nom</th>\n",
              "      <th>Genre</th>\n",
              "      <th>Age</th>\n",
              "      <th>Siege</th>\n",
              "      <th>Ticket</th>\n",
              "      <th>Prix</th>\n",
              "    </tr>\n",
              "  </thead>\n",
              "  <tbody>\n",
              "    <tr>\n",
              "      <th>0</th>\n",
              "      <td>Elina</td>\n",
              "      <td>féminin</td>\n",
              "      <td>24</td>\n",
              "      <td>B106</td>\n",
              "      <td>F12178</td>\n",
              "      <td>475.99</td>\n",
              "    </tr>\n",
              "    <tr>\n",
              "      <th>1</th>\n",
              "      <td>Henry</td>\n",
              "      <td>masculin</td>\n",
              "      <td>7</td>\n",
              "      <td>C217</td>\n",
              "      <td>P03213</td>\n",
              "      <td>219.99</td>\n",
              "    </tr>\n",
              "    <tr>\n",
              "      <th>2</th>\n",
              "      <td>Samuel</td>\n",
              "      <td>masculin</td>\n",
              "      <td>36</td>\n",
              "      <td>C212</td>\n",
              "      <td>P03214</td>\n",
              "      <td>269.99</td>\n",
              "    </tr>\n",
              "    <tr>\n",
              "      <th>3</th>\n",
              "      <td>Olivier</td>\n",
              "      <td>masculin</td>\n",
              "      <td>28</td>\n",
              "      <td>B110</td>\n",
              "      <td>H12165</td>\n",
              "      <td>449.99</td>\n",
              "    </tr>\n",
              "    <tr>\n",
              "      <th>4</th>\n",
              "      <td>Marguerite</td>\n",
              "      <td>féminin</td>\n",
              "      <td>65</td>\n",
              "      <td>A009</td>\n",
              "      <td>01F014</td>\n",
              "      <td>868.99</td>\n",
              "    </tr>\n",
              "    <tr>\n",
              "      <th>5</th>\n",
              "      <td>Joseph</td>\n",
              "      <td>masculin</td>\n",
              "      <td>48</td>\n",
              "      <td>A023</td>\n",
              "      <td>F01048</td>\n",
              "      <td>623.99</td>\n",
              "    </tr>\n",
              "    <tr>\n",
              "      <th>6</th>\n",
              "      <td>Adam</td>\n",
              "      <td>masculin</td>\n",
              "      <td>25</td>\n",
              "      <td>C210</td>\n",
              "      <td>P03276</td>\n",
              "      <td>249.99</td>\n",
              "    </tr>\n",
              "    <tr>\n",
              "      <th>7</th>\n",
              "      <td>Albert</td>\n",
              "      <td>masculin</td>\n",
              "      <td>58</td>\n",
              "      <td>B123</td>\n",
              "      <td>H12180</td>\n",
              "      <td>425.99</td>\n",
              "    </tr>\n",
              "    <tr>\n",
              "      <th>8</th>\n",
              "      <td>Myriam</td>\n",
              "      <td>féminin</td>\n",
              "      <td>42</td>\n",
              "      <td>B132</td>\n",
              "      <td>H12195</td>\n",
              "      <td>412.99</td>\n",
              "    </tr>\n",
              "    <tr>\n",
              "      <th>9</th>\n",
              "      <td>Manda</td>\n",
              "      <td>féminin</td>\n",
              "      <td>18</td>\n",
              "      <td>A027</td>\n",
              "      <td>F01054</td>\n",
              "      <td>599.99</td>\n",
              "    </tr>\n",
              "    <tr>\n",
              "      <th>10</th>\n",
              "      <td>Pierre</td>\n",
              "      <td>masculin</td>\n",
              "      <td>38</td>\n",
              "      <td>A035</td>\n",
              "      <td>F01095</td>\n",
              "      <td>579.99</td>\n",
              "    </tr>\n",
              "  </tbody>\n",
              "</table>\n",
              "</div>"
            ],
            "text/plain": [
              "            Nom     Genre  Age Siege  Ticket    Prix\n",
              "0         Elina   féminin   24  B106  F12178  475.99\n",
              "1         Henry  masculin    7  C217  P03213  219.99\n",
              "2        Samuel  masculin   36  C212  P03214  269.99\n",
              "3       Olivier  masculin   28  B110  H12165  449.99\n",
              "4   Marguerite    féminin   65  A009  01F014  868.99\n",
              "5       Joseph   masculin   48  A023  F01048  623.99\n",
              "6          Adam  masculin   25  C210  P03276  249.99\n",
              "7        Albert  masculin   58  B123  H12180  425.99\n",
              "8        Myriam   féminin   42  B132  H12195  412.99\n",
              "9         Manda   féminin   18  A027  F01054  599.99\n",
              "10       Pierre  masculin   38  A035  F01095  579.99"
            ]
          },
          "execution_count": 1,
          "metadata": {},
          "output_type": "execute_result"
        }
      ],
      "source": [
        "# importer la librairie pandas\n",
        "import pandas as pd\n",
        "# charger les données contenues dans un fichiers csv se trouvant sur drive\n",
        "URL         = 'https://drive.google.com/file/d/1OsyrafDAXSsrlAGbgi3fT7S1-Aqs5HtC/view?usp=sharing'\n",
        "data_voyage = 'https://drive.google.com/uc?export=download&id='+URL.split('/')[-2]\n",
        "\n",
        "\n",
        "data = pd.read_csv(data_voyage)\n",
        "# créer une copie pour ne pas toucher au dataframe d'origine \n",
        "df = data.copy()\n",
        "# Afficher le dataframe\n",
        "df"
      ]
    },
    {
      "cell_type": "markdown",
      "id": "pleasant-socket",
      "metadata": {
        "id": "pleasant-socket"
      },
      "source": [
        "## Pratique 1: Suppression d'un attribut"
      ]
    },
    {
      "cell_type": "code",
      "execution_count": null,
      "id": "elegant-vampire",
      "metadata": {
        "id": "elegant-vampire"
      },
      "outputs": [],
      "source": [
        "# Ici on a utilisé le inplace = True ce qui nous évite de réaffecter le tout dans un dataframe comme\n",
        "# on l'a vu dans la vidéo du cours.\n",
        "df.drop(columns = [\"Nom\"], axis = 1, inplace = True)"
      ]
    },
    {
      "cell_type": "markdown",
      "id": "demanding-canal",
      "metadata": {
        "id": "demanding-canal"
      },
      "source": [
        "* Ici on a utilisé le **inplace = True** ce qui nous évite de réaffecter le tout dans un dataframe comme on l'a vu dans la vidéo du cours.A noter que la solution df = df.drop(columns = [\"Nom\"], axis = 1) est tout à fait correcte elle aussi."
      ]
    },
    {
      "cell_type": "code",
      "execution_count": null,
      "id": "conservative-henry",
      "metadata": {
        "id": "conservative-henry",
        "outputId": "1dee239f-bbcb-472e-ecdf-9d148dc366ac"
      },
      "outputs": [
        {
          "data": {
            "text/html": [
              "<div>\n",
              "<style scoped>\n",
              "    .dataframe tbody tr th:only-of-type {\n",
              "        vertical-align: middle;\n",
              "    }\n",
              "\n",
              "    .dataframe tbody tr th {\n",
              "        vertical-align: top;\n",
              "    }\n",
              "\n",
              "    .dataframe thead th {\n",
              "        text-align: right;\n",
              "    }\n",
              "</style>\n",
              "<table border=\"1\" class=\"dataframe\">\n",
              "  <thead>\n",
              "    <tr style=\"text-align: right;\">\n",
              "      <th></th>\n",
              "      <th>Genre</th>\n",
              "      <th>Age</th>\n",
              "      <th>Siege</th>\n",
              "      <th>Ticket</th>\n",
              "      <th>Prix</th>\n",
              "    </tr>\n",
              "  </thead>\n",
              "  <tbody>\n",
              "    <tr>\n",
              "      <th>0</th>\n",
              "      <td>féminin</td>\n",
              "      <td>24</td>\n",
              "      <td>B106</td>\n",
              "      <td>F12178</td>\n",
              "      <td>475.99</td>\n",
              "    </tr>\n",
              "    <tr>\n",
              "      <th>1</th>\n",
              "      <td>masculin</td>\n",
              "      <td>7</td>\n",
              "      <td>C217</td>\n",
              "      <td>P03213</td>\n",
              "      <td>219.99</td>\n",
              "    </tr>\n",
              "    <tr>\n",
              "      <th>2</th>\n",
              "      <td>masculin</td>\n",
              "      <td>36</td>\n",
              "      <td>C212</td>\n",
              "      <td>P03214</td>\n",
              "      <td>269.99</td>\n",
              "    </tr>\n",
              "    <tr>\n",
              "      <th>3</th>\n",
              "      <td>masculin</td>\n",
              "      <td>28</td>\n",
              "      <td>B110</td>\n",
              "      <td>H12165</td>\n",
              "      <td>449.99</td>\n",
              "    </tr>\n",
              "    <tr>\n",
              "      <th>4</th>\n",
              "      <td>féminin</td>\n",
              "      <td>65</td>\n",
              "      <td>A009</td>\n",
              "      <td>01F014</td>\n",
              "      <td>868.99</td>\n",
              "    </tr>\n",
              "    <tr>\n",
              "      <th>5</th>\n",
              "      <td>masculin</td>\n",
              "      <td>48</td>\n",
              "      <td>A023</td>\n",
              "      <td>F01048</td>\n",
              "      <td>623.99</td>\n",
              "    </tr>\n",
              "    <tr>\n",
              "      <th>6</th>\n",
              "      <td>masculin</td>\n",
              "      <td>25</td>\n",
              "      <td>C210</td>\n",
              "      <td>P03276</td>\n",
              "      <td>249.99</td>\n",
              "    </tr>\n",
              "    <tr>\n",
              "      <th>7</th>\n",
              "      <td>masculin</td>\n",
              "      <td>58</td>\n",
              "      <td>B123</td>\n",
              "      <td>H12180</td>\n",
              "      <td>425.99</td>\n",
              "    </tr>\n",
              "    <tr>\n",
              "      <th>8</th>\n",
              "      <td>féminin</td>\n",
              "      <td>42</td>\n",
              "      <td>B132</td>\n",
              "      <td>H12195</td>\n",
              "      <td>412.99</td>\n",
              "    </tr>\n",
              "    <tr>\n",
              "      <th>9</th>\n",
              "      <td>féminin</td>\n",
              "      <td>18</td>\n",
              "      <td>A027</td>\n",
              "      <td>F01054</td>\n",
              "      <td>599.99</td>\n",
              "    </tr>\n",
              "    <tr>\n",
              "      <th>10</th>\n",
              "      <td>masculin</td>\n",
              "      <td>38</td>\n",
              "      <td>A035</td>\n",
              "      <td>F01095</td>\n",
              "      <td>579.99</td>\n",
              "    </tr>\n",
              "  </tbody>\n",
              "</table>\n",
              "</div>"
            ],
            "text/plain": [
              "       Genre  Age Siege  Ticket    Prix\n",
              "0    féminin   24  B106  F12178  475.99\n",
              "1   masculin    7  C217  P03213  219.99\n",
              "2   masculin   36  C212  P03214  269.99\n",
              "3   masculin   28  B110  H12165  449.99\n",
              "4    féminin   65  A009  01F014  868.99\n",
              "5   masculin   48  A023  F01048  623.99\n",
              "6   masculin   25  C210  P03276  249.99\n",
              "7   masculin   58  B123  H12180  425.99\n",
              "8    féminin   42  B132  H12195  412.99\n",
              "9    féminin   18  A027  F01054  599.99\n",
              "10  masculin   38  A035  F01095  579.99"
            ]
          },
          "execution_count": 3,
          "metadata": {},
          "output_type": "execute_result"
        }
      ],
      "source": [
        "# Vérification: Afficher les cinq premières lignes\n",
        "df"
      ]
    },
    {
      "cell_type": "markdown",
      "id": "related-absolute",
      "metadata": {
        "id": "related-absolute"
      },
      "source": [
        "## Pratique 2: Technique de masquage"
      ]
    },
    {
      "cell_type": "markdown",
      "id": "running-naples",
      "metadata": {
        "id": "running-naples"
      },
      "source": [
        "## Séries Siege et Tickets"
      ]
    },
    {
      "cell_type": "markdown",
      "id": "cathedral-wrapping",
      "metadata": {
        "id": "cathedral-wrapping"
      },
      "source": [
        "* On note ici que:\n",
        "    * Tous les sièges de la classe A commencent avec A0.\n",
        "    * Tous les sièges de la classe B commencent avec B1.\n",
        "    * Tous les sièges de la classe C commencent avec C2.\n",
        "    * Le deuxième et troisième chiffre du ticket semblent indiquer la classe de confort A,B et C"
      ]
    },
    {
      "cell_type": "code",
      "execution_count": null,
      "id": "instrumental-alert",
      "metadata": {
        "id": "instrumental-alert",
        "outputId": "b4bf13a7-240e-4e3f-d665-ff61b85f8582"
      },
      "outputs": [
        {
          "data": {
            "text/html": [
              "<div>\n",
              "<style scoped>\n",
              "    .dataframe tbody tr th:only-of-type {\n",
              "        vertical-align: middle;\n",
              "    }\n",
              "\n",
              "    .dataframe tbody tr th {\n",
              "        vertical-align: top;\n",
              "    }\n",
              "\n",
              "    .dataframe thead th {\n",
              "        text-align: right;\n",
              "    }\n",
              "</style>\n",
              "<table border=\"1\" class=\"dataframe\">\n",
              "  <thead>\n",
              "    <tr style=\"text-align: right;\">\n",
              "      <th></th>\n",
              "      <th>Genre</th>\n",
              "      <th>Age</th>\n",
              "      <th>Siege</th>\n",
              "      <th>Ticket</th>\n",
              "      <th>Prix</th>\n",
              "    </tr>\n",
              "  </thead>\n",
              "  <tbody>\n",
              "    <tr>\n",
              "      <th>0</th>\n",
              "      <td>féminin</td>\n",
              "      <td>24</td>\n",
              "      <td>**06</td>\n",
              "      <td>F12178</td>\n",
              "      <td>475.99</td>\n",
              "    </tr>\n",
              "    <tr>\n",
              "      <th>1</th>\n",
              "      <td>masculin</td>\n",
              "      <td>7</td>\n",
              "      <td>**17</td>\n",
              "      <td>P03213</td>\n",
              "      <td>219.99</td>\n",
              "    </tr>\n",
              "    <tr>\n",
              "      <th>2</th>\n",
              "      <td>masculin</td>\n",
              "      <td>36</td>\n",
              "      <td>**12</td>\n",
              "      <td>P03214</td>\n",
              "      <td>269.99</td>\n",
              "    </tr>\n",
              "    <tr>\n",
              "      <th>3</th>\n",
              "      <td>masculin</td>\n",
              "      <td>28</td>\n",
              "      <td>**10</td>\n",
              "      <td>H12165</td>\n",
              "      <td>449.99</td>\n",
              "    </tr>\n",
              "    <tr>\n",
              "      <th>4</th>\n",
              "      <td>féminin</td>\n",
              "      <td>65</td>\n",
              "      <td>**09</td>\n",
              "      <td>01F014</td>\n",
              "      <td>868.99</td>\n",
              "    </tr>\n",
              "    <tr>\n",
              "      <th>5</th>\n",
              "      <td>masculin</td>\n",
              "      <td>48</td>\n",
              "      <td>**23</td>\n",
              "      <td>F01048</td>\n",
              "      <td>623.99</td>\n",
              "    </tr>\n",
              "    <tr>\n",
              "      <th>6</th>\n",
              "      <td>masculin</td>\n",
              "      <td>25</td>\n",
              "      <td>**10</td>\n",
              "      <td>P03276</td>\n",
              "      <td>249.99</td>\n",
              "    </tr>\n",
              "    <tr>\n",
              "      <th>7</th>\n",
              "      <td>masculin</td>\n",
              "      <td>58</td>\n",
              "      <td>**23</td>\n",
              "      <td>H12180</td>\n",
              "      <td>425.99</td>\n",
              "    </tr>\n",
              "    <tr>\n",
              "      <th>8</th>\n",
              "      <td>féminin</td>\n",
              "      <td>42</td>\n",
              "      <td>**32</td>\n",
              "      <td>H12195</td>\n",
              "      <td>412.99</td>\n",
              "    </tr>\n",
              "    <tr>\n",
              "      <th>9</th>\n",
              "      <td>féminin</td>\n",
              "      <td>18</td>\n",
              "      <td>**27</td>\n",
              "      <td>F01054</td>\n",
              "      <td>599.99</td>\n",
              "    </tr>\n",
              "    <tr>\n",
              "      <th>10</th>\n",
              "      <td>masculin</td>\n",
              "      <td>38</td>\n",
              "      <td>**35</td>\n",
              "      <td>F01095</td>\n",
              "      <td>579.99</td>\n",
              "    </tr>\n",
              "  </tbody>\n",
              "</table>\n",
              "</div>"
            ],
            "text/plain": [
              "       Genre  Age Siege  Ticket    Prix\n",
              "0    féminin   24  **06  F12178  475.99\n",
              "1   masculin    7  **17  P03213  219.99\n",
              "2   masculin   36  **12  P03214  269.99\n",
              "3   masculin   28  **10  H12165  449.99\n",
              "4    féminin   65  **09  01F014  868.99\n",
              "5   masculin   48  **23  F01048  623.99\n",
              "6   masculin   25  **10  P03276  249.99\n",
              "7   masculin   58  **23  H12180  425.99\n",
              "8    féminin   42  **32  H12195  412.99\n",
              "9    féminin   18  **27  F01054  599.99\n",
              "10  masculin   38  **35  F01095  579.99"
            ]
          },
          "execution_count": 4,
          "metadata": {},
          "output_type": "execute_result"
        }
      ],
      "source": [
        "# On pourrait donc décider de garder que les deux derniers chiffres pour la serie Siege\n",
        "df[\"Siege\"] = df[\"Siege\"].map(lambda x: \"**\" + x[2:])\n",
        "df"
      ]
    },
    {
      "cell_type": "code",
      "execution_count": null,
      "id": "completed-stock",
      "metadata": {
        "id": "completed-stock"
      },
      "outputs": [],
      "source": [
        "# On pourrait décider de garder que les trois derniers chiffres pour la série Tickets\n",
        "df.Ticket = df.Ticket.map(lambda x: \"***\" + x[-3:])"
      ]
    },
    {
      "cell_type": "markdown",
      "id": "excited-heart",
      "metadata": {
        "id": "excited-heart"
      },
      "source": [
        "* A titre indicatif:\n",
        "    * on peut appeler la série du dataframe avec **df[\"Ticket\"]** ou bien **df.Ticket**, les deux notations sont **équivalentes**"
      ]
    },
    {
      "cell_type": "code",
      "execution_count": null,
      "id": "driven-dictionary",
      "metadata": {
        "id": "driven-dictionary",
        "outputId": "7a92a8d2-5ed9-4c19-8aab-745835da8ace"
      },
      "outputs": [
        {
          "data": {
            "text/html": [
              "<div>\n",
              "<style scoped>\n",
              "    .dataframe tbody tr th:only-of-type {\n",
              "        vertical-align: middle;\n",
              "    }\n",
              "\n",
              "    .dataframe tbody tr th {\n",
              "        vertical-align: top;\n",
              "    }\n",
              "\n",
              "    .dataframe thead th {\n",
              "        text-align: right;\n",
              "    }\n",
              "</style>\n",
              "<table border=\"1\" class=\"dataframe\">\n",
              "  <thead>\n",
              "    <tr style=\"text-align: right;\">\n",
              "      <th></th>\n",
              "      <th>Genre</th>\n",
              "      <th>Age</th>\n",
              "      <th>Siege</th>\n",
              "      <th>Ticket</th>\n",
              "      <th>Prix</th>\n",
              "    </tr>\n",
              "  </thead>\n",
              "  <tbody>\n",
              "    <tr>\n",
              "      <th>0</th>\n",
              "      <td>féminin</td>\n",
              "      <td>24</td>\n",
              "      <td>**06</td>\n",
              "      <td>***178</td>\n",
              "      <td>475.99</td>\n",
              "    </tr>\n",
              "    <tr>\n",
              "      <th>1</th>\n",
              "      <td>masculin</td>\n",
              "      <td>7</td>\n",
              "      <td>**17</td>\n",
              "      <td>***213</td>\n",
              "      <td>219.99</td>\n",
              "    </tr>\n",
              "    <tr>\n",
              "      <th>2</th>\n",
              "      <td>masculin</td>\n",
              "      <td>36</td>\n",
              "      <td>**12</td>\n",
              "      <td>***214</td>\n",
              "      <td>269.99</td>\n",
              "    </tr>\n",
              "    <tr>\n",
              "      <th>3</th>\n",
              "      <td>masculin</td>\n",
              "      <td>28</td>\n",
              "      <td>**10</td>\n",
              "      <td>***165</td>\n",
              "      <td>449.99</td>\n",
              "    </tr>\n",
              "    <tr>\n",
              "      <th>4</th>\n",
              "      <td>féminin</td>\n",
              "      <td>65</td>\n",
              "      <td>**09</td>\n",
              "      <td>***014</td>\n",
              "      <td>868.99</td>\n",
              "    </tr>\n",
              "    <tr>\n",
              "      <th>5</th>\n",
              "      <td>masculin</td>\n",
              "      <td>48</td>\n",
              "      <td>**23</td>\n",
              "      <td>***048</td>\n",
              "      <td>623.99</td>\n",
              "    </tr>\n",
              "    <tr>\n",
              "      <th>6</th>\n",
              "      <td>masculin</td>\n",
              "      <td>25</td>\n",
              "      <td>**10</td>\n",
              "      <td>***276</td>\n",
              "      <td>249.99</td>\n",
              "    </tr>\n",
              "    <tr>\n",
              "      <th>7</th>\n",
              "      <td>masculin</td>\n",
              "      <td>58</td>\n",
              "      <td>**23</td>\n",
              "      <td>***180</td>\n",
              "      <td>425.99</td>\n",
              "    </tr>\n",
              "    <tr>\n",
              "      <th>8</th>\n",
              "      <td>féminin</td>\n",
              "      <td>42</td>\n",
              "      <td>**32</td>\n",
              "      <td>***195</td>\n",
              "      <td>412.99</td>\n",
              "    </tr>\n",
              "    <tr>\n",
              "      <th>9</th>\n",
              "      <td>féminin</td>\n",
              "      <td>18</td>\n",
              "      <td>**27</td>\n",
              "      <td>***054</td>\n",
              "      <td>599.99</td>\n",
              "    </tr>\n",
              "    <tr>\n",
              "      <th>10</th>\n",
              "      <td>masculin</td>\n",
              "      <td>38</td>\n",
              "      <td>**35</td>\n",
              "      <td>***095</td>\n",
              "      <td>579.99</td>\n",
              "    </tr>\n",
              "  </tbody>\n",
              "</table>\n",
              "</div>"
            ],
            "text/plain": [
              "       Genre  Age Siege  Ticket    Prix\n",
              "0    féminin   24  **06  ***178  475.99\n",
              "1   masculin    7  **17  ***213  219.99\n",
              "2   masculin   36  **12  ***214  269.99\n",
              "3   masculin   28  **10  ***165  449.99\n",
              "4    féminin   65  **09  ***014  868.99\n",
              "5   masculin   48  **23  ***048  623.99\n",
              "6   masculin   25  **10  ***276  249.99\n",
              "7   masculin   58  **23  ***180  425.99\n",
              "8    féminin   42  **32  ***195  412.99\n",
              "9    féminin   18  **27  ***054  599.99\n",
              "10  masculin   38  **35  ***095  579.99"
            ]
          },
          "execution_count": 6,
          "metadata": {},
          "output_type": "execute_result"
        }
      ],
      "source": [
        "# Vérification: Afficher le dataframe \n",
        "df"
      ]
    },
    {
      "cell_type": "markdown",
      "id": "interior-short",
      "metadata": {
        "id": "interior-short"
      },
      "source": [
        "## Pratique 3: Suppression d'un enregistrement"
      ]
    },
    {
      "cell_type": "code",
      "execution_count": null,
      "id": "outdoor-trigger",
      "metadata": {
        "id": "outdoor-trigger"
      },
      "outputs": [],
      "source": [
        "# Procéder à la suppression des lignes contenant le prix le plus élevé ainsi que le prix le plus bas. \n",
        "condition = (df[\"Prix\"] != df.Prix.max()) & (df[\"Prix\"] != df.Prix.min())"
      ]
    },
    {
      "cell_type": "code",
      "execution_count": null,
      "id": "effective-binary",
      "metadata": {
        "id": "effective-binary",
        "outputId": "fa558c62-c020-438a-e312-00efbd3c0d73"
      },
      "outputs": [
        {
          "data": {
            "text/html": [
              "<div>\n",
              "<style scoped>\n",
              "    .dataframe tbody tr th:only-of-type {\n",
              "        vertical-align: middle;\n",
              "    }\n",
              "\n",
              "    .dataframe tbody tr th {\n",
              "        vertical-align: top;\n",
              "    }\n",
              "\n",
              "    .dataframe thead th {\n",
              "        text-align: right;\n",
              "    }\n",
              "</style>\n",
              "<table border=\"1\" class=\"dataframe\">\n",
              "  <thead>\n",
              "    <tr style=\"text-align: right;\">\n",
              "      <th></th>\n",
              "      <th>Genre</th>\n",
              "      <th>Age</th>\n",
              "      <th>Siege</th>\n",
              "      <th>Ticket</th>\n",
              "      <th>Prix</th>\n",
              "    </tr>\n",
              "  </thead>\n",
              "  <tbody>\n",
              "    <tr>\n",
              "      <th>0</th>\n",
              "      <td>féminin</td>\n",
              "      <td>24</td>\n",
              "      <td>**06</td>\n",
              "      <td>***178</td>\n",
              "      <td>475.99</td>\n",
              "    </tr>\n",
              "    <tr>\n",
              "      <th>2</th>\n",
              "      <td>masculin</td>\n",
              "      <td>36</td>\n",
              "      <td>**12</td>\n",
              "      <td>***214</td>\n",
              "      <td>269.99</td>\n",
              "    </tr>\n",
              "    <tr>\n",
              "      <th>3</th>\n",
              "      <td>masculin</td>\n",
              "      <td>28</td>\n",
              "      <td>**10</td>\n",
              "      <td>***165</td>\n",
              "      <td>449.99</td>\n",
              "    </tr>\n",
              "    <tr>\n",
              "      <th>5</th>\n",
              "      <td>masculin</td>\n",
              "      <td>48</td>\n",
              "      <td>**23</td>\n",
              "      <td>***048</td>\n",
              "      <td>623.99</td>\n",
              "    </tr>\n",
              "    <tr>\n",
              "      <th>6</th>\n",
              "      <td>masculin</td>\n",
              "      <td>25</td>\n",
              "      <td>**10</td>\n",
              "      <td>***276</td>\n",
              "      <td>249.99</td>\n",
              "    </tr>\n",
              "    <tr>\n",
              "      <th>7</th>\n",
              "      <td>masculin</td>\n",
              "      <td>58</td>\n",
              "      <td>**23</td>\n",
              "      <td>***180</td>\n",
              "      <td>425.99</td>\n",
              "    </tr>\n",
              "    <tr>\n",
              "      <th>8</th>\n",
              "      <td>féminin</td>\n",
              "      <td>42</td>\n",
              "      <td>**32</td>\n",
              "      <td>***195</td>\n",
              "      <td>412.99</td>\n",
              "    </tr>\n",
              "    <tr>\n",
              "      <th>9</th>\n",
              "      <td>féminin</td>\n",
              "      <td>18</td>\n",
              "      <td>**27</td>\n",
              "      <td>***054</td>\n",
              "      <td>599.99</td>\n",
              "    </tr>\n",
              "    <tr>\n",
              "      <th>10</th>\n",
              "      <td>masculin</td>\n",
              "      <td>38</td>\n",
              "      <td>**35</td>\n",
              "      <td>***095</td>\n",
              "      <td>579.99</td>\n",
              "    </tr>\n",
              "  </tbody>\n",
              "</table>\n",
              "</div>"
            ],
            "text/plain": [
              "       Genre  Age Siege  Ticket    Prix\n",
              "0    féminin   24  **06  ***178  475.99\n",
              "2   masculin   36  **12  ***214  269.99\n",
              "3   masculin   28  **10  ***165  449.99\n",
              "5   masculin   48  **23  ***048  623.99\n",
              "6   masculin   25  **10  ***276  249.99\n",
              "7   masculin   58  **23  ***180  425.99\n",
              "8    féminin   42  **32  ***195  412.99\n",
              "9    féminin   18  **27  ***054  599.99\n",
              "10  masculin   38  **35  ***095  579.99"
            ]
          },
          "execution_count": 8,
          "metadata": {},
          "output_type": "execute_result"
        }
      ],
      "source": [
        "# Filtrer le dataframe pour ne garder que les éléments qui réalisent la condition\n",
        "df = df[condition]\n",
        "# Vérification: Afficher le dataframe\n",
        "df"
      ]
    },
    {
      "cell_type": "markdown",
      "id": "preceding-nickel",
      "metadata": {
        "id": "preceding-nickel"
      },
      "source": [
        "* A titre indicatif:\n",
        "    * On voit que la colonne indexe a été touchée, on peut la réinitialiser avec la commande suivante :\n",
        "        * **df.reset_index(drop=True, inplace=True)**"
      ]
    },
    {
      "cell_type": "code",
      "execution_count": null,
      "id": "threaded-republic",
      "metadata": {
        "id": "threaded-republic",
        "outputId": "4f761364-daf6-4fec-9778-431e54d1cc60"
      },
      "outputs": [
        {
          "data": {
            "text/html": [
              "<div>\n",
              "<style scoped>\n",
              "    .dataframe tbody tr th:only-of-type {\n",
              "        vertical-align: middle;\n",
              "    }\n",
              "\n",
              "    .dataframe tbody tr th {\n",
              "        vertical-align: top;\n",
              "    }\n",
              "\n",
              "    .dataframe thead th {\n",
              "        text-align: right;\n",
              "    }\n",
              "</style>\n",
              "<table border=\"1\" class=\"dataframe\">\n",
              "  <thead>\n",
              "    <tr style=\"text-align: right;\">\n",
              "      <th></th>\n",
              "      <th>Genre</th>\n",
              "      <th>Age</th>\n",
              "      <th>Siege</th>\n",
              "      <th>Ticket</th>\n",
              "      <th>Prix</th>\n",
              "    </tr>\n",
              "  </thead>\n",
              "  <tbody>\n",
              "    <tr>\n",
              "      <th>0</th>\n",
              "      <td>féminin</td>\n",
              "      <td>24</td>\n",
              "      <td>**06</td>\n",
              "      <td>***178</td>\n",
              "      <td>475.99</td>\n",
              "    </tr>\n",
              "    <tr>\n",
              "      <th>1</th>\n",
              "      <td>masculin</td>\n",
              "      <td>36</td>\n",
              "      <td>**12</td>\n",
              "      <td>***214</td>\n",
              "      <td>269.99</td>\n",
              "    </tr>\n",
              "    <tr>\n",
              "      <th>2</th>\n",
              "      <td>masculin</td>\n",
              "      <td>28</td>\n",
              "      <td>**10</td>\n",
              "      <td>***165</td>\n",
              "      <td>449.99</td>\n",
              "    </tr>\n",
              "    <tr>\n",
              "      <th>3</th>\n",
              "      <td>masculin</td>\n",
              "      <td>48</td>\n",
              "      <td>**23</td>\n",
              "      <td>***048</td>\n",
              "      <td>623.99</td>\n",
              "    </tr>\n",
              "    <tr>\n",
              "      <th>4</th>\n",
              "      <td>masculin</td>\n",
              "      <td>25</td>\n",
              "      <td>**10</td>\n",
              "      <td>***276</td>\n",
              "      <td>249.99</td>\n",
              "    </tr>\n",
              "    <tr>\n",
              "      <th>5</th>\n",
              "      <td>masculin</td>\n",
              "      <td>58</td>\n",
              "      <td>**23</td>\n",
              "      <td>***180</td>\n",
              "      <td>425.99</td>\n",
              "    </tr>\n",
              "    <tr>\n",
              "      <th>6</th>\n",
              "      <td>féminin</td>\n",
              "      <td>42</td>\n",
              "      <td>**32</td>\n",
              "      <td>***195</td>\n",
              "      <td>412.99</td>\n",
              "    </tr>\n",
              "    <tr>\n",
              "      <th>7</th>\n",
              "      <td>féminin</td>\n",
              "      <td>18</td>\n",
              "      <td>**27</td>\n",
              "      <td>***054</td>\n",
              "      <td>599.99</td>\n",
              "    </tr>\n",
              "    <tr>\n",
              "      <th>8</th>\n",
              "      <td>masculin</td>\n",
              "      <td>38</td>\n",
              "      <td>**35</td>\n",
              "      <td>***095</td>\n",
              "      <td>579.99</td>\n",
              "    </tr>\n",
              "  </tbody>\n",
              "</table>\n",
              "</div>"
            ],
            "text/plain": [
              "      Genre  Age Siege  Ticket    Prix\n",
              "0   féminin   24  **06  ***178  475.99\n",
              "1  masculin   36  **12  ***214  269.99\n",
              "2  masculin   28  **10  ***165  449.99\n",
              "3  masculin   48  **23  ***048  623.99\n",
              "4  masculin   25  **10  ***276  249.99\n",
              "5  masculin   58  **23  ***180  425.99\n",
              "6   féminin   42  **32  ***195  412.99\n",
              "7   féminin   18  **27  ***054  599.99\n",
              "8  masculin   38  **35  ***095  579.99"
            ]
          },
          "execution_count": 9,
          "metadata": {},
          "output_type": "execute_result"
        }
      ],
      "source": [
        "# reset index\n",
        "df = df.reset_index(drop=True)\n",
        "\n",
        "# Vérification: Afficher le dataframe\n",
        "df"
      ]
    },
    {
      "cell_type": "markdown",
      "id": "polished-revision",
      "metadata": {
        "id": "polished-revision"
      },
      "source": [
        "## Pratique 4: Tecnique de Géneralisation"
      ]
    },
    {
      "cell_type": "markdown",
      "id": "accessory-boston",
      "metadata": {
        "id": "accessory-boston"
      },
      "source": [
        "* La technique de généralisation consiste en la réduction de précision de la donnée sans trop perdre en information. Par exemple. Au lieu de parler de l’âge d’une personne (exp : 32ans), on parlera d’une catégorie d’âge, ainsi on perd un peu sur la précision mais on conserve l’information de la donnée contenue dans la catégorie (exp :adulte)."
      ]
    },
    {
      "cell_type": "markdown",
      "id": "motivated-shopper",
      "metadata": {
        "id": "motivated-shopper"
      },
      "source": [
        "* Procéder à la généralisation de l’attribut \"Age\"\n",
        "* Définir une fonction qui nous servira à catégoriser l'age"
      ]
    },
    {
      "cell_type": "code",
      "execution_count": null,
      "id": "roman-cycle",
      "metadata": {
        "id": "roman-cycle"
      },
      "outputs": [],
      "source": [
        "def age_bins():\n",
        "    fct = lambda x: \"<18\" if  x < 18 else \"18-30\" if x < 31 else \"31-50\" if x < 51 else \"> 50\"\n",
        "    return fct"
      ]
    },
    {
      "cell_type": "code",
      "execution_count": null,
      "id": "discrete-specific",
      "metadata": {
        "id": "discrete-specific",
        "outputId": "bfdcab0d-ebad-4189-9f8b-4bc8e26bb386"
      },
      "outputs": [
        {
          "data": {
            "text/html": [
              "<div>\n",
              "<style scoped>\n",
              "    .dataframe tbody tr th:only-of-type {\n",
              "        vertical-align: middle;\n",
              "    }\n",
              "\n",
              "    .dataframe tbody tr th {\n",
              "        vertical-align: top;\n",
              "    }\n",
              "\n",
              "    .dataframe thead th {\n",
              "        text-align: right;\n",
              "    }\n",
              "</style>\n",
              "<table border=\"1\" class=\"dataframe\">\n",
              "  <thead>\n",
              "    <tr style=\"text-align: right;\">\n",
              "      <th></th>\n",
              "      <th>Genre</th>\n",
              "      <th>Age</th>\n",
              "      <th>Siege</th>\n",
              "      <th>Ticket</th>\n",
              "      <th>Prix</th>\n",
              "      <th>Age_bins</th>\n",
              "    </tr>\n",
              "  </thead>\n",
              "  <tbody>\n",
              "    <tr>\n",
              "      <th>0</th>\n",
              "      <td>féminin</td>\n",
              "      <td>24</td>\n",
              "      <td>**06</td>\n",
              "      <td>***178</td>\n",
              "      <td>475.99</td>\n",
              "      <td>18-30</td>\n",
              "    </tr>\n",
              "    <tr>\n",
              "      <th>1</th>\n",
              "      <td>masculin</td>\n",
              "      <td>36</td>\n",
              "      <td>**12</td>\n",
              "      <td>***214</td>\n",
              "      <td>269.99</td>\n",
              "      <td>31-50</td>\n",
              "    </tr>\n",
              "    <tr>\n",
              "      <th>2</th>\n",
              "      <td>masculin</td>\n",
              "      <td>28</td>\n",
              "      <td>**10</td>\n",
              "      <td>***165</td>\n",
              "      <td>449.99</td>\n",
              "      <td>18-30</td>\n",
              "    </tr>\n",
              "    <tr>\n",
              "      <th>3</th>\n",
              "      <td>masculin</td>\n",
              "      <td>48</td>\n",
              "      <td>**23</td>\n",
              "      <td>***048</td>\n",
              "      <td>623.99</td>\n",
              "      <td>31-50</td>\n",
              "    </tr>\n",
              "    <tr>\n",
              "      <th>4</th>\n",
              "      <td>masculin</td>\n",
              "      <td>25</td>\n",
              "      <td>**10</td>\n",
              "      <td>***276</td>\n",
              "      <td>249.99</td>\n",
              "      <td>18-30</td>\n",
              "    </tr>\n",
              "    <tr>\n",
              "      <th>5</th>\n",
              "      <td>masculin</td>\n",
              "      <td>58</td>\n",
              "      <td>**23</td>\n",
              "      <td>***180</td>\n",
              "      <td>425.99</td>\n",
              "      <td>&gt; 50</td>\n",
              "    </tr>\n",
              "    <tr>\n",
              "      <th>6</th>\n",
              "      <td>féminin</td>\n",
              "      <td>42</td>\n",
              "      <td>**32</td>\n",
              "      <td>***195</td>\n",
              "      <td>412.99</td>\n",
              "      <td>31-50</td>\n",
              "    </tr>\n",
              "    <tr>\n",
              "      <th>7</th>\n",
              "      <td>féminin</td>\n",
              "      <td>18</td>\n",
              "      <td>**27</td>\n",
              "      <td>***054</td>\n",
              "      <td>599.99</td>\n",
              "      <td>18-30</td>\n",
              "    </tr>\n",
              "    <tr>\n",
              "      <th>8</th>\n",
              "      <td>masculin</td>\n",
              "      <td>38</td>\n",
              "      <td>**35</td>\n",
              "      <td>***095</td>\n",
              "      <td>579.99</td>\n",
              "      <td>31-50</td>\n",
              "    </tr>\n",
              "  </tbody>\n",
              "</table>\n",
              "</div>"
            ],
            "text/plain": [
              "      Genre  Age Siege  Ticket    Prix Age_bins\n",
              "0   féminin   24  **06  ***178  475.99    18-30\n",
              "1  masculin   36  **12  ***214  269.99    31-50\n",
              "2  masculin   28  **10  ***165  449.99    18-30\n",
              "3  masculin   48  **23  ***048  623.99    31-50\n",
              "4  masculin   25  **10  ***276  249.99    18-30\n",
              "5  masculin   58  **23  ***180  425.99     > 50\n",
              "6   féminin   42  **32  ***195  412.99    31-50\n",
              "7   féminin   18  **27  ***054  599.99    18-30\n",
              "8  masculin   38  **35  ***095  579.99    31-50"
            ]
          },
          "execution_count": 11,
          "metadata": {},
          "output_type": "execute_result"
        }
      ],
      "source": [
        "# créer une nouvelle série catégorie age\n",
        "df[\"Age_bins\"] = df[\"Age\"].map(age_bins())\n",
        "df"
      ]
    },
    {
      "cell_type": "markdown",
      "id": "spoken-credits",
      "metadata": {
        "id": "spoken-credits"
      },
      "source": [
        "* La fonction map va prendre chaque valeur de la série Age et la passer à notre fonction age_bins qui elle, nous retourne la catégorie selon la condition préalablement établie. \n",
        "* On pourra par la suite supprimer la série Age "
      ]
    },
    {
      "cell_type": "code",
      "execution_count": null,
      "id": "contrary-microphone",
      "metadata": {
        "id": "contrary-microphone"
      },
      "outputs": [],
      "source": [
        "# supprimer la série âge\n",
        "df.drop(columns = [\"Age\"], axis = 1, inplace = True)"
      ]
    },
    {
      "cell_type": "code",
      "execution_count": null,
      "id": "sporting-cambridge",
      "metadata": {
        "id": "sporting-cambridge",
        "outputId": "f9f4f484-5ea6-4a46-cde5-85060e042bd7"
      },
      "outputs": [
        {
          "data": {
            "text/html": [
              "<div>\n",
              "<style scoped>\n",
              "    .dataframe tbody tr th:only-of-type {\n",
              "        vertical-align: middle;\n",
              "    }\n",
              "\n",
              "    .dataframe tbody tr th {\n",
              "        vertical-align: top;\n",
              "    }\n",
              "\n",
              "    .dataframe thead th {\n",
              "        text-align: right;\n",
              "    }\n",
              "</style>\n",
              "<table border=\"1\" class=\"dataframe\">\n",
              "  <thead>\n",
              "    <tr style=\"text-align: right;\">\n",
              "      <th></th>\n",
              "      <th>Genre</th>\n",
              "      <th>Siege</th>\n",
              "      <th>Ticket</th>\n",
              "      <th>Prix</th>\n",
              "      <th>Age_bins</th>\n",
              "    </tr>\n",
              "  </thead>\n",
              "  <tbody>\n",
              "    <tr>\n",
              "      <th>0</th>\n",
              "      <td>féminin</td>\n",
              "      <td>**06</td>\n",
              "      <td>***178</td>\n",
              "      <td>475.99</td>\n",
              "      <td>18-30</td>\n",
              "    </tr>\n",
              "    <tr>\n",
              "      <th>1</th>\n",
              "      <td>masculin</td>\n",
              "      <td>**12</td>\n",
              "      <td>***214</td>\n",
              "      <td>269.99</td>\n",
              "      <td>31-50</td>\n",
              "    </tr>\n",
              "    <tr>\n",
              "      <th>2</th>\n",
              "      <td>masculin</td>\n",
              "      <td>**10</td>\n",
              "      <td>***165</td>\n",
              "      <td>449.99</td>\n",
              "      <td>18-30</td>\n",
              "    </tr>\n",
              "    <tr>\n",
              "      <th>3</th>\n",
              "      <td>masculin</td>\n",
              "      <td>**23</td>\n",
              "      <td>***048</td>\n",
              "      <td>623.99</td>\n",
              "      <td>31-50</td>\n",
              "    </tr>\n",
              "    <tr>\n",
              "      <th>4</th>\n",
              "      <td>masculin</td>\n",
              "      <td>**10</td>\n",
              "      <td>***276</td>\n",
              "      <td>249.99</td>\n",
              "      <td>18-30</td>\n",
              "    </tr>\n",
              "    <tr>\n",
              "      <th>5</th>\n",
              "      <td>masculin</td>\n",
              "      <td>**23</td>\n",
              "      <td>***180</td>\n",
              "      <td>425.99</td>\n",
              "      <td>&gt; 50</td>\n",
              "    </tr>\n",
              "    <tr>\n",
              "      <th>6</th>\n",
              "      <td>féminin</td>\n",
              "      <td>**32</td>\n",
              "      <td>***195</td>\n",
              "      <td>412.99</td>\n",
              "      <td>31-50</td>\n",
              "    </tr>\n",
              "    <tr>\n",
              "      <th>7</th>\n",
              "      <td>féminin</td>\n",
              "      <td>**27</td>\n",
              "      <td>***054</td>\n",
              "      <td>599.99</td>\n",
              "      <td>18-30</td>\n",
              "    </tr>\n",
              "    <tr>\n",
              "      <th>8</th>\n",
              "      <td>masculin</td>\n",
              "      <td>**35</td>\n",
              "      <td>***095</td>\n",
              "      <td>579.99</td>\n",
              "      <td>31-50</td>\n",
              "    </tr>\n",
              "  </tbody>\n",
              "</table>\n",
              "</div>"
            ],
            "text/plain": [
              "      Genre Siege  Ticket    Prix Age_bins\n",
              "0   féminin  **06  ***178  475.99    18-30\n",
              "1  masculin  **12  ***214  269.99    31-50\n",
              "2  masculin  **10  ***165  449.99    18-30\n",
              "3  masculin  **23  ***048  623.99    31-50\n",
              "4  masculin  **10  ***276  249.99    18-30\n",
              "5  masculin  **23  ***180  425.99     > 50\n",
              "6   féminin  **32  ***195  412.99    31-50\n",
              "7   féminin  **27  ***054  599.99    18-30\n",
              "8  masculin  **35  ***095  579.99    31-50"
            ]
          },
          "execution_count": 13,
          "metadata": {},
          "output_type": "execute_result"
        }
      ],
      "source": [
        "# Vérification: Afficher le dataframe\n",
        "df"
      ]
    }
  ],
  "metadata": {
    "colab": {
      "name": "pratiques_anonymisation.ipynb",
      "provenance": [],
      "include_colab_link": true
    },
    "kernelspec": {
      "display_name": "Python 3",
      "language": "python",
      "name": "python3"
    },
    "language_info": {
      "codemirror_mode": {
        "name": "ipython",
        "version": 3
      },
      "file_extension": ".py",
      "mimetype": "text/x-python",
      "name": "python",
      "nbconvert_exporter": "python",
      "pygments_lexer": "ipython3",
      "version": "3.8.5"
    },
    "toc": {
      "base_numbering": 1,
      "nav_menu": {},
      "number_sections": false,
      "sideBar": true,
      "skip_h1_title": false,
      "title_cell": "Table des matières",
      "title_sidebar": "Contents",
      "toc_cell": false,
      "toc_position": {
        "height": "559px",
        "left": "10px",
        "top": "109px",
        "width": "369.469px"
      },
      "toc_section_display": true,
      "toc_window_display": true
    }
  },
  "nbformat": 4,
  "nbformat_minor": 5
}