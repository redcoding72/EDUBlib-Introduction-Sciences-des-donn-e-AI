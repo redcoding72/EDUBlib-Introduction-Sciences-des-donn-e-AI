{
  "cells": [
    {
      "cell_type": "markdown",
      "metadata": {
        "id": "view-in-github",
        "colab_type": "text"
      },
      "source": [
        "<a href=\"https://colab.research.google.com/github/redcoding72/EDUBlib-Introduction-Sciences-des-donn-e-AI/blob/main/pratique_fichiers.ipynb\" target=\"_parent\"><img src=\"https://colab.research.google.com/assets/colab-badge.svg\" alt=\"Open In Colab\"/></a>"
      ]
    },
    {
      "cell_type": "markdown",
      "metadata": {
        "id": "b42V1WkdGxrA"
      },
      "source": [
        "# Manipulation sur fichier csv- technique de base"
      ]
    },
    {
      "cell_type": "code",
      "execution_count": 17,
      "metadata": {
        "id": "KoAPhTQsGxrG",
        "outputId": "b6081e31-a486-4de8-b990-541a62530b49",
        "colab": {
          "base_uri": "https://localhost:8080/"
        }
      },
      "outputs": [
        {
          "output_type": "stream",
          "name": "stdout",
          "text": [
            "Flouflou    Code 123   a travaillé   31.30 heures avec une moyenne de    6.26 / jour\n",
            "Flouclair   Code 456   a travaillé   35.60 heures avec une moyenne de    7.12 / jour\n",
            "Clairclair  Code 789   a travaillé   38.50 heures avec une moyenne de    7.70 / jour\n"
          ]
        }
      ],
      "source": [
        "#Utiliser une comprehension de liste, le module csv ou tout autre technique\n",
        "\n",
        "with open(\"heures.csv\", newline=\"\\n\") as fic:\n",
        "   listing = fic.readlines()\n",
        "   for ligne in listing:\n",
        "       token = ligne.split()\n",
        "\n",
        "#calculer la somme des heures\n",
        "       somme = 0\n",
        "       for tmp in token[2:7]:\n",
        "           somme += float(tmp)\n",
        "       print(\"{1:12s}Code {0:5s} a travaillé {2:7.2f} heures avec une \"\n",
        "             \"moyenne de {3:7.2f} / jour\".format(token[0], token[1], somme, somme/5.0))\n",
        "\n",
        "\n",
        "\n",
        "\n",
        "\n",
        "\n",
        "\n",
        "\n",
        "\n",
        "\n",
        "\n",
        "\n",
        "\n",
        "\n",
        "\n",
        "\n",
        "\n",
        "\n",
        "\n",
        "\n",
        "\n",
        "\n",
        "\n",
        "\n",
        "\n",
        "\n",
        "\n",
        "\n"
      ]
    },
    {
      "cell_type": "markdown",
      "metadata": {
        "id": "-bLtGXJ5GxrI"
      },
      "source": [
        "# Solutionnaire"
      ]
    },
    {
      "cell_type": "code",
      "execution_count": null,
      "metadata": {
        "id": "oqpSOIYwGxrJ",
        "outputId": "0cae62a3-ecac-44ed-b577-d5f82db4b51f"
      },
      "outputs": [
        {
          "name": "stdout",
          "output_type": "stream",
          "text": [
            "Flouflou    Code 123   a travaillé   31.30 heures avec une moyenne de    6.26 / jour\n",
            "Flouclair   Code 456   a travaillé   35.60 heures avec une moyenne de    7.12 / jour\n",
            "Clairclair  Code 789   a travaillé   38.50 heures avec une moyenne de    7.70 / jour\n"
          ]
        }
      ],
      "source": [
        "with open(\"heures.csv\", newline=\"\\n\") as fic:\n",
        "   listing = fic.readlines()\n",
        "   for ligne in listing:\n",
        "       token = ligne.split()\n",
        "       #calculer la somme des heures\n",
        "       somme = 0\n",
        "       for tmp in token[2:7]:\n",
        "           somme += float(tmp)\n",
        "       print(\"{1:12s}Code {0:5s} a travaillé {2:7.2f} heures avec une \"\n",
        "             \"moyenne de {3:7.2f} / jour\".format(token[0], token[1], somme, somme/5.0))\n"
      ]
    }
  ],
  "metadata": {
    "kernelspec": {
      "display_name": "Python 3",
      "language": "python",
      "name": "python3"
    },
    "language_info": {
      "codemirror_mode": {
        "name": "ipython",
        "version": 3
      },
      "file_extension": ".py",
      "mimetype": "text/x-python",
      "name": "python",
      "nbconvert_exporter": "python",
      "pygments_lexer": "ipython3",
      "version": "3.8.5"
    },
    "colab": {
      "name": "pratique_fichiers.ipynb",
      "provenance": [],
      "include_colab_link": true
    }
  },
  "nbformat": 4,
  "nbformat_minor": 0
}