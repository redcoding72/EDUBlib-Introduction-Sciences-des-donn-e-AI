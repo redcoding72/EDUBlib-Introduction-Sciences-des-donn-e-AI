{
  "cells": [
    {
      "cell_type": "markdown",
      "metadata": {
        "id": "view-in-github",
        "colab_type": "text"
      },
      "source": [
        "<a href=\"https://colab.research.google.com/github/redcoding72/EDUBlib-Introduction-Sciences-des-donn-e-AI/blob/main/pratique_heritage.ipynb\" target=\"_parent\"><img src=\"https://colab.research.google.com/assets/colab-badge.svg\" alt=\"Open In Colab\"/></a>"
      ]
    },
    {
      "cell_type": "markdown",
      "metadata": {
        "id": "7OCPQEUkal7P"
      },
      "source": [
        "# Création d'une classe"
      ]
    },
    {
      "cell_type": "code",
      "execution_count": 15,
      "metadata": {
        "id": "p9rq6Womal7V"
      },
      "outputs": [],
      "source": [
        "#definir la classe contact \n",
        "class Contact:\n",
        "    def __init__(self, nom, email):\n",
        "        self.nom = nom\n",
        "        self.email = email\n",
        "\n",
        "    def __str__(self):\n",
        "        return \"Nom:{}, email:{}\".format(self.nom, self.email)\n",
        "    "
      ]
    },
    {
      "cell_type": "code",
      "execution_count": 16,
      "metadata": {
        "id": "NsztzYw-al7X"
      },
      "outputs": [],
      "source": [
        "#Classe fournisseur\n",
        "class Fournisseur(Contact):\n",
        "    def __init__(self, nom, email, code_scn):\n",
        "        super().__init__(nom,email)\n",
        "        self.code_scn = code_scn\n",
        "        \n",
        "    def __str__(self):\n",
        "        return super().__str__()+\", Code:{}\".format(self.code_scn )\n",
        "        \n",
        "    def passer_commande(self, code):\n",
        "        print(\"Fournisseur passe une commande:{}\".format(code))\n",
        "        "
      ]
    },
    {
      "cell_type": "code",
      "execution_count": 17,
      "metadata": {
        "id": "xtwlmDB3al7Y",
        "outputId": "662795de-3cfd-408c-96d1-409e86be7b03",
        "colab": {
          "base_uri": "https://localhost:8080/"
        }
      },
      "outputs": [
        {
          "output_type": "stream",
          "name": "stdout",
          "text": [
            "Nom:Flouflou, email:a@a.com\n",
            "__________________________________________________\n",
            "Nom:Annie ClairClair, email:a.clairclair@monsite.com, Code:1234\n",
            "__________________________________________________\n"
          ]
        }
      ],
      "source": [
        "#Créer les objets\n",
        "objC = Contact(\"Flouflou\",\"a@a.com\")\n",
        "print(objC)\n",
        "print(\"_\" * 50)\n",
        "objF = Fournisseur(\"Annie ClairClair\", \"a.clairclair@monsite.com\", 1234)\n",
        "print(objF)\n",
        "print(\"_\" * 50)"
      ]
    },
    {
      "cell_type": "code",
      "execution_count": 10,
      "metadata": {
        "id": "d6JeGguHal7Z",
        "outputId": "a3493ecc-7706-4d7e-fa19-899e70baf3c5",
        "colab": {
          "base_uri": "https://localhost:8080/"
        }
      },
      "outputs": [
        {
          "output_type": "stream",
          "name": "stdout",
          "text": [
            "Fournisseur passe une commande:1000\n"
          ]
        }
      ],
      "source": [
        "#Demander au fournisseur de passer une commande\n",
        "objF.passer_commande(1000)\n",
        " "
      ]
    },
    {
      "cell_type": "code",
      "execution_count": 28,
      "metadata": {
        "id": "qGIZlf6jal7Z"
      },
      "outputs": [],
      "source": [
        "#Créer la classe de registre de contacts\n",
        "class RegistreContacts:\n",
        "    def __init__(self, titre):\n",
        "        self.registre = []\n",
        "        self.titre = titre\n",
        "\n",
        "#Ajouter_contact un contact    \n",
        "    def ajouter_contact(self, contact):\n",
        "      self.registre.append(contact)\n",
        "\n",
        "#Afficher le contenu du registre \n",
        "    def afficher_contact(self):\n",
        "      print(\"Listing de tous les contacts\")\n",
        "      for c in self.registre:\n",
        "        print(c)\n",
        "\n",
        "#rechercher un contact\n",
        "    def rechercher_contact(self,motcle):\n",
        "        trouve = []\n",
        "        for elem in self.registre:\n",
        "            if motcle in elem.nom:\n",
        "                trouve.append(elem)\n",
        "\n",
        "        return trouve\n"
      ]
    },
    {
      "cell_type": "code",
      "source": [
        "#créer le registre\n",
        "registre = RegistreContacts(\"liste des contacts\")\n",
        "\n",
        "registre.ajouter_contact(objC)\n",
        "registre.ajouter_contact(objF)\n",
        "\n",
        "#Afficher le contenue du registre\n",
        "registre.afficher_contact()"
      ],
      "metadata": {
        "id": "-DSXVUB0pmLd",
        "outputId": "b2efe2cd-f612-431b-a1f5-9dba9d4d72ce",
        "colab": {
          "base_uri": "https://localhost:8080/"
        }
      },
      "execution_count": 29,
      "outputs": [
        {
          "output_type": "stream",
          "name": "stdout",
          "text": [
            "Listing de tous les contacts\n",
            "Nom:Flouflou, email:a@a.com\n",
            "Nom:Annie ClairClair, email:a.clairclair@monsite.com, Code:1234\n"
          ]
        }
      ]
    },
    {
      "cell_type": "code",
      "execution_count": 35,
      "metadata": {
        "id": "-FtKfFDMal7b",
        "outputId": "d46b488e-8f6b-43ab-d8bc-9e7243436a75",
        "colab": {
          "base_uri": "https://localhost:8080/"
        }
      },
      "outputs": [
        {
          "output_type": "stream",
          "name": "stdout",
          "text": [
            "Elements trouvés\n",
            "**************************************************\n",
            "Nom:Flouflou, email:a@a.com\n"
          ]
        }
      ],
      "source": [
        "#rechercher un contact\n",
        "mot=\"Flouflou\"\n",
        "resultats=registre.rechercher_contact(mot)\n",
        "print(\"Elements trouvés\")\n",
        "for c in resultats:\n",
        "  print ('*' * 50)\n",
        "  print(c)\n",
        "\n",
        "\n",
        " \n",
        "\n"
      ]
    }
  ],
  "metadata": {
    "kernelspec": {
      "display_name": "Python 3",
      "language": "python",
      "name": "python3"
    },
    "language_info": {
      "codemirror_mode": {
        "name": "ipython",
        "version": 3
      },
      "file_extension": ".py",
      "mimetype": "text/x-python",
      "name": "python",
      "nbconvert_exporter": "python",
      "pygments_lexer": "ipython3",
      "version": "3.8.5"
    },
    "colab": {
      "name": "pratique_heritage.ipynb",
      "provenance": [],
      "include_colab_link": true
    }
  },
  "nbformat": 4,
  "nbformat_minor": 0
}