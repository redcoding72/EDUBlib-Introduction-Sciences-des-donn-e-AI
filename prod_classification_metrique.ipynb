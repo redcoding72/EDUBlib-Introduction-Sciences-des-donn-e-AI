{
  "cells": [
    {
      "cell_type": "markdown",
      "metadata": {
        "id": "view-in-github",
        "colab_type": "text"
      },
      "source": [
        "<a href=\"https://colab.research.google.com/github/redcoding72/EDUBlib-Introduction-Sciences-des-donn-e-AI/blob/main/prod_classification_metrique.ipynb\" target=\"_parent\"><img src=\"https://colab.research.google.com/assets/colab-badge.svg\" alt=\"Open In Colab\"/></a>"
      ]
    },
    {
      "cell_type": "markdown",
      "metadata": {
        "toc": true,
        "id": "Bk5U0kQTjYey"
      },
      "source": [
        "<h1>Tables des matières<span class=\"tocSkip\"></span></h1>\n",
        "<div class=\"toc\"><ul class=\"toc-item\"><li><span><a href=\"#Chargement-des-données\" data-toc-modified-id=\"Chargement-des-données-1\"><span class=\"toc-item-num\">1&nbsp;&nbsp;</span>Chargement des données</a></span></li><li><span><a href=\"#Prediction-du-statut-diabetique-selon-les-prédicteurs\" data-toc-modified-id=\"Prediction-du-statut-diabetique-selon-les-prédicteurs-2\"><span class=\"toc-item-num\">2&nbsp;&nbsp;</span>Prediction du statut diabetique selon les prédicteurs</a></span></li><li><span><a href=\"#Matrice-de-confusion\" data-toc-modified-id=\"Matrice-de-confusion-3\"><span class=\"toc-item-num\">3&nbsp;&nbsp;</span>Matrice de confusion</a></span></li></ul></div>"
      ]
    },
    {
      "cell_type": "markdown",
      "metadata": {
        "id": "fG947e4bjYe6"
      },
      "source": [
        "# Chargement des données"
      ]
    },
    {
      "cell_type": "code",
      "execution_count": 43,
      "metadata": {
        "id": "pCLEEKgCjYe7"
      },
      "outputs": [],
      "source": [
        "# Lire les données dans un dataframe\n",
        "import pandas as pd\n",
        "col_names = ['pregnant', 'glucose', 'bp', 'skin', 'insulin', 'bmi', 'pedigree', 'age', 'label']\n",
        "pima = pd.read_csv('diabetes.csv', sep=\";\")"
      ]
    },
    {
      "cell_type": "code",
      "execution_count": 44,
      "metadata": {
        "id": "FMnsVK3djYe9",
        "outputId": "f27c775a-5709-443f-e56a-6e98fbdd67c5",
        "colab": {
          "base_uri": "https://localhost:8080/",
          "height": 206
        }
      },
      "outputs": [
        {
          "output_type": "execute_result",
          "data": {
            "text/plain": [
              "   pregnant  glucose  bp  skin  insulin   bmi  pedigree  age  label\n",
              "0         6      148  72    35        0  33.6     0.627   50      1\n",
              "1         1       85  66    29        0  26.6     0.351   31      0\n",
              "2         8      183  64     0        0  23.3     0.672   32      1\n",
              "3         1       89  66    23       94  28.1     0.167   21      0\n",
              "4         0      137  40    35      168  43.1     2.288   33      1"
            ],
            "text/html": [
              "\n",
              "  <div id=\"df-2b35f0d3-43ad-465a-a77a-5769fa227fa1\">\n",
              "    <div class=\"colab-df-container\">\n",
              "      <div>\n",
              "<style scoped>\n",
              "    .dataframe tbody tr th:only-of-type {\n",
              "        vertical-align: middle;\n",
              "    }\n",
              "\n",
              "    .dataframe tbody tr th {\n",
              "        vertical-align: top;\n",
              "    }\n",
              "\n",
              "    .dataframe thead th {\n",
              "        text-align: right;\n",
              "    }\n",
              "</style>\n",
              "<table border=\"1\" class=\"dataframe\">\n",
              "  <thead>\n",
              "    <tr style=\"text-align: right;\">\n",
              "      <th></th>\n",
              "      <th>pregnant</th>\n",
              "      <th>glucose</th>\n",
              "      <th>bp</th>\n",
              "      <th>skin</th>\n",
              "      <th>insulin</th>\n",
              "      <th>bmi</th>\n",
              "      <th>pedigree</th>\n",
              "      <th>age</th>\n",
              "      <th>label</th>\n",
              "    </tr>\n",
              "  </thead>\n",
              "  <tbody>\n",
              "    <tr>\n",
              "      <th>0</th>\n",
              "      <td>6</td>\n",
              "      <td>148</td>\n",
              "      <td>72</td>\n",
              "      <td>35</td>\n",
              "      <td>0</td>\n",
              "      <td>33.6</td>\n",
              "      <td>0.627</td>\n",
              "      <td>50</td>\n",
              "      <td>1</td>\n",
              "    </tr>\n",
              "    <tr>\n",
              "      <th>1</th>\n",
              "      <td>1</td>\n",
              "      <td>85</td>\n",
              "      <td>66</td>\n",
              "      <td>29</td>\n",
              "      <td>0</td>\n",
              "      <td>26.6</td>\n",
              "      <td>0.351</td>\n",
              "      <td>31</td>\n",
              "      <td>0</td>\n",
              "    </tr>\n",
              "    <tr>\n",
              "      <th>2</th>\n",
              "      <td>8</td>\n",
              "      <td>183</td>\n",
              "      <td>64</td>\n",
              "      <td>0</td>\n",
              "      <td>0</td>\n",
              "      <td>23.3</td>\n",
              "      <td>0.672</td>\n",
              "      <td>32</td>\n",
              "      <td>1</td>\n",
              "    </tr>\n",
              "    <tr>\n",
              "      <th>3</th>\n",
              "      <td>1</td>\n",
              "      <td>89</td>\n",
              "      <td>66</td>\n",
              "      <td>23</td>\n",
              "      <td>94</td>\n",
              "      <td>28.1</td>\n",
              "      <td>0.167</td>\n",
              "      <td>21</td>\n",
              "      <td>0</td>\n",
              "    </tr>\n",
              "    <tr>\n",
              "      <th>4</th>\n",
              "      <td>0</td>\n",
              "      <td>137</td>\n",
              "      <td>40</td>\n",
              "      <td>35</td>\n",
              "      <td>168</td>\n",
              "      <td>43.1</td>\n",
              "      <td>2.288</td>\n",
              "      <td>33</td>\n",
              "      <td>1</td>\n",
              "    </tr>\n",
              "  </tbody>\n",
              "</table>\n",
              "</div>\n",
              "      <button class=\"colab-df-convert\" onclick=\"convertToInteractive('df-2b35f0d3-43ad-465a-a77a-5769fa227fa1')\"\n",
              "              title=\"Convert this dataframe to an interactive table.\"\n",
              "              style=\"display:none;\">\n",
              "        \n",
              "  <svg xmlns=\"http://www.w3.org/2000/svg\" height=\"24px\"viewBox=\"0 0 24 24\"\n",
              "       width=\"24px\">\n",
              "    <path d=\"M0 0h24v24H0V0z\" fill=\"none\"/>\n",
              "    <path d=\"M18.56 5.44l.94 2.06.94-2.06 2.06-.94-2.06-.94-.94-2.06-.94 2.06-2.06.94zm-11 1L8.5 8.5l.94-2.06 2.06-.94-2.06-.94L8.5 2.5l-.94 2.06-2.06.94zm10 10l.94 2.06.94-2.06 2.06-.94-2.06-.94-.94-2.06-.94 2.06-2.06.94z\"/><path d=\"M17.41 7.96l-1.37-1.37c-.4-.4-.92-.59-1.43-.59-.52 0-1.04.2-1.43.59L10.3 9.45l-7.72 7.72c-.78.78-.78 2.05 0 2.83L4 21.41c.39.39.9.59 1.41.59.51 0 1.02-.2 1.41-.59l7.78-7.78 2.81-2.81c.8-.78.8-2.07 0-2.86zM5.41 20L4 18.59l7.72-7.72 1.47 1.35L5.41 20z\"/>\n",
              "  </svg>\n",
              "      </button>\n",
              "      \n",
              "  <style>\n",
              "    .colab-df-container {\n",
              "      display:flex;\n",
              "      flex-wrap:wrap;\n",
              "      gap: 12px;\n",
              "    }\n",
              "\n",
              "    .colab-df-convert {\n",
              "      background-color: #E8F0FE;\n",
              "      border: none;\n",
              "      border-radius: 50%;\n",
              "      cursor: pointer;\n",
              "      display: none;\n",
              "      fill: #1967D2;\n",
              "      height: 32px;\n",
              "      padding: 0 0 0 0;\n",
              "      width: 32px;\n",
              "    }\n",
              "\n",
              "    .colab-df-convert:hover {\n",
              "      background-color: #E2EBFA;\n",
              "      box-shadow: 0px 1px 2px rgba(60, 64, 67, 0.3), 0px 1px 3px 1px rgba(60, 64, 67, 0.15);\n",
              "      fill: #174EA6;\n",
              "    }\n",
              "\n",
              "    [theme=dark] .colab-df-convert {\n",
              "      background-color: #3B4455;\n",
              "      fill: #D2E3FC;\n",
              "    }\n",
              "\n",
              "    [theme=dark] .colab-df-convert:hover {\n",
              "      background-color: #434B5C;\n",
              "      box-shadow: 0px 1px 3px 1px rgba(0, 0, 0, 0.15);\n",
              "      filter: drop-shadow(0px 1px 2px rgba(0, 0, 0, 0.3));\n",
              "      fill: #FFFFFF;\n",
              "    }\n",
              "  </style>\n",
              "\n",
              "      <script>\n",
              "        const buttonEl =\n",
              "          document.querySelector('#df-2b35f0d3-43ad-465a-a77a-5769fa227fa1 button.colab-df-convert');\n",
              "        buttonEl.style.display =\n",
              "          google.colab.kernel.accessAllowed ? 'block' : 'none';\n",
              "\n",
              "        async function convertToInteractive(key) {\n",
              "          const element = document.querySelector('#df-2b35f0d3-43ad-465a-a77a-5769fa227fa1');\n",
              "          const dataTable =\n",
              "            await google.colab.kernel.invokeFunction('convertToInteractive',\n",
              "                                                     [key], {});\n",
              "          if (!dataTable) return;\n",
              "\n",
              "          const docLinkHtml = 'Like what you see? Visit the ' +\n",
              "            '<a target=\"_blank\" href=https://colab.research.google.com/notebooks/data_table.ipynb>data table notebook</a>'\n",
              "            + ' to learn more about interactive tables.';\n",
              "          element.innerHTML = '';\n",
              "          dataTable['output_type'] = 'display_data';\n",
              "          await google.colab.output.renderOutput(dataTable, element);\n",
              "          const docLink = document.createElement('div');\n",
              "          docLink.innerHTML = docLinkHtml;\n",
              "          element.appendChild(docLink);\n",
              "        }\n",
              "      </script>\n",
              "    </div>\n",
              "  </div>\n",
              "  "
            ]
          },
          "metadata": {},
          "execution_count": 44
        }
      ],
      "source": [
        "# Afficher les 5 premieres lignes\n",
        "pima.head()"
      ]
    },
    {
      "cell_type": "code",
      "execution_count": 45,
      "metadata": {
        "id": "PX5L0eaCjYe-",
        "outputId": "7026367c-10be-4fa9-d6e2-0049c71142d9",
        "colab": {
          "base_uri": "https://localhost:8080/"
        }
      },
      "outputs": [
        {
          "output_type": "execute_result",
          "data": {
            "text/plain": [
              "(768, 9)"
            ]
          },
          "metadata": {},
          "execution_count": 45
        }
      ],
      "source": [
        "#shape\n",
        "pima.shape"
      ]
    },
    {
      "cell_type": "code",
      "execution_count": 46,
      "metadata": {
        "id": "8hMaOTx8jYe-"
      },
      "outputs": [],
      "source": [
        "# Definir les predicteurs X \n",
        "feature_cols = ['pregnant', 'insulin', 'bmi', 'age']\n",
        "X = pima[feature_cols]\n",
        "#Definir la cible y\n",
        "y = pima.label"
      ]
    },
    {
      "cell_type": "code",
      "execution_count": 47,
      "metadata": {
        "id": "Y95I34U1jYe_"
      },
      "outputs": [],
      "source": [
        "# Split X et y en training et testing  \n",
        "from sklearn.model_selection import train_test_split\n",
        "X_train, X_test, y_train, y_test = train_test_split(X, y, random_state=42)"
      ]
    },
    {
      "cell_type": "code",
      "execution_count": 58,
      "metadata": {
        "id": "ceTWpyIfjYfA",
        "outputId": "6cf4668d-dbc1-49ca-c7f3-f795b9585f4e",
        "colab": {
          "base_uri": "https://localhost:8080/"
        }
      },
      "outputs": [
        {
          "output_type": "execute_result",
          "data": {
            "text/plain": [
              "LogisticRegression()"
            ]
          },
          "metadata": {},
          "execution_count": 58
        }
      ],
      "source": [
        "# Apprentissage d'un modele logistic regression sur training\n",
        "from sklearn.linear_model import LogisticRegression\n",
        "logreg = LogisticRegression()\n",
        "logreg.fit(X_train, y_train)\n",
        " "
      ]
    },
    {
      "cell_type": "code",
      "execution_count": 62,
      "metadata": {
        "id": "dgB_bCYvjYfB"
      },
      "outputs": [],
      "source": [
        "# Faire des predictions avec les données de testing\n",
        "y_pred_class = logreg.predict(X_test)"
      ]
    },
    {
      "cell_type": "markdown",
      "metadata": {
        "id": "6TjR1TjwjYfC"
      },
      "source": [
        "# Matrice de confusion"
      ]
    },
    {
      "cell_type": "code",
      "execution_count": 63,
      "metadata": {
        "id": "7rSL72PnjYfD",
        "outputId": "95a54b90-eb08-46ff-ce81-5d0fbdd02e0a",
        "colab": {
          "base_uri": "https://localhost:8080/"
        }
      },
      "outputs": [
        {
          "output_type": "stream",
          "name": "stdout",
          "text": [
            "[[99 24]\n",
            " [44 25]]\n"
          ]
        }
      ],
      "source": [
        "from sklearn import metrics\n",
        "# Matrice de confusion:  \n",
        "print(metrics.confusion_matrix(y_test, y_pred_class)) "
      ]
    },
    {
      "cell_type": "code",
      "execution_count": 64,
      "metadata": {
        "id": "y5tRhb6kjYfD"
      },
      "outputs": [],
      "source": [
        "# Obtenir les 4 valeurs de la matrice\n",
        "confusion = metrics.confusion_matrix(y_test, y_pred_class)\n",
        "TP = confusion[1, 1]\n",
        "TN = confusion[0, 0]\n",
        "FP = confusion[0, 1]\n",
        "FN = confusion[1, 0] "
      ]
    },
    {
      "cell_type": "code",
      "execution_count": 65,
      "metadata": {
        "id": "_2yHsVe8jYfE",
        "outputId": "74f3bb41-621c-4bbe-8cf7-b3396cf8a3c7",
        "colab": {
          "base_uri": "https://localhost:8080/"
        }
      },
      "outputs": [
        {
          "output_type": "stream",
          "name": "stdout",
          "text": [
            "0.6458333333333334\n",
            "0.6458333333333334\n"
          ]
        }
      ],
      "source": [
        "# Classification Accuracy: \n",
        "# On doit repondre à la question: Globalement, quel est le pourcentage où le modele est correct?\n",
        "print((TP + TN) / float(TP + TN + FP + FN))\n",
        "print(metrics.accuracy_score(y_test, y_pred_class)) "
      ]
    },
    {
      "cell_type": "code",
      "execution_count": 66,
      "metadata": {
        "id": "YKXXGmqOjYfE",
        "outputId": "5f56e374-08d7-4878-d4bc-469e8b48054e",
        "colab": {
          "base_uri": "https://localhost:8080/"
        }
      },
      "outputs": [
        {
          "output_type": "stream",
          "name": "stdout",
          "text": [
            "0.36231884057971014\n",
            "0.36231884057971014\n"
          ]
        }
      ],
      "source": [
        "#Sensitivity ou Recall: \n",
        "# On doit repondre à la question: Quand la valeur vraie est positive, combien de fois la prediction est correcte?\n",
        "#Aussi connu sous: \"True Positive Rate\" or \"Recall\"\n",
        "print(TP / float(TP + FN))\n",
        "print(metrics.recall_score(y_test, y_pred_class))"
      ]
    },
    {
      "cell_type": "code",
      "execution_count": 74,
      "metadata": {
        "id": "QS6Ztvk2jYfF",
        "outputId": "02dd5ad5-5c47-4c7f-dce7-2643b3fbcb4c",
        "colab": {
          "base_uri": "https://localhost:8080/"
        }
      },
      "outputs": [
        {
          "output_type": "stream",
          "name": "stdout",
          "text": [
            "0.5102040816326531\n",
            "0.5102040816326531\n"
          ]
        }
      ],
      "source": [
        "# Precision: \n",
        "# On doit repondre à la question: Quand une valeur positive est predite, combien de fois la prediction est correcte?\n",
        "print(TP / float(TP + FP))\n",
        "print(metrics.precision_score(y_test, y_pred_class))"
      ]
    },
    {
      "cell_type": "code",
      "execution_count": 75,
      "metadata": {
        "id": "0okJG6NCjYfF",
        "outputId": "8d7d52de-68ad-49d3-be3d-b757c6acb4a6",
        "colab": {
          "base_uri": "https://localhost:8080/"
        }
      },
      "outputs": [
        {
          "output_type": "stream",
          "name": "stdout",
          "text": [
            "0.42372881355932207\n"
          ]
        }
      ],
      "source": [
        "# Score F1\n",
        "print(metrics.f1_score(y_test, y_pred_class)) "
      ]
    },
    {
      "cell_type": "markdown",
      "metadata": {
        "id": "47z6zhd3jYfJ"
      },
      "source": [
        "# Prediction du statut diabetique selon les prédicteurs"
      ]
    },
    {
      "cell_type": "code",
      "execution_count": 56,
      "metadata": {
        "id": "dTitHrdujYfJ"
      },
      "outputs": [],
      "source": [
        "# Definir les predicteurs X \n",
        "feature_cols = ['pregnant', 'insulin', 'bmi', 'age']\n",
        "X = pima[feature_cols]\n",
        "#Definir la cible y\n",
        "y = pima.label"
      ]
    },
    {
      "cell_type": "code",
      "execution_count": 36,
      "metadata": {
        "id": "Sw3olOoTjYfK"
      },
      "outputs": [],
      "source": [
        "# Split X et y en training et testing  \n",
        "from sklearn.model_selection import train_test_split\n",
        "X_train, X_test, y_train, y_test = train_test_split(X, y, random_state=42)"
      ]
    },
    {
      "cell_type": "code",
      "execution_count": 57,
      "metadata": {
        "id": "mhwCGccBjYfK",
        "outputId": "99edbc35-a5c8-4bb7-926b-80d8cea5940d",
        "colab": {
          "base_uri": "https://localhost:8080/"
        }
      },
      "outputs": [
        {
          "output_type": "execute_result",
          "data": {
            "text/plain": [
              "LogisticRegression()"
            ]
          },
          "metadata": {},
          "execution_count": 57
        }
      ],
      "source": [
        "# Apprentissage d'un modele logistic regression sur training\n",
        "from sklearn.linear_model import LogisticRegression\n",
        "logreg = LogisticRegression()\n",
        "logreg.fit(X_train, y_train)"
      ]
    },
    {
      "cell_type": "code",
      "execution_count": 59,
      "metadata": {
        "id": "iJRjfTBzjYfL"
      },
      "outputs": [],
      "source": [
        "# Faire des predictions avec les données de testing\n",
        "y_pred_class = logreg.predict(X_test)"
      ]
    },
    {
      "cell_type": "markdown",
      "metadata": {
        "id": "wAFbWrNXjYfL"
      },
      "source": [
        "# Matrice de confusion"
      ]
    },
    {
      "cell_type": "code",
      "execution_count": 68,
      "metadata": {
        "id": "YnwOTBrEjYfL",
        "outputId": "3fee15dd-2571-4f40-9376-435c31febe75",
        "colab": {
          "base_uri": "https://localhost:8080/"
        }
      },
      "outputs": [
        {
          "output_type": "stream",
          "name": "stdout",
          "text": [
            "[[99 24]\n",
            " [44 25]]\n"
          ]
        }
      ],
      "source": [
        "from sklearn import metrics\n",
        "# Matrice de confusion: first argument is true values, second argument is predicted values\n",
        "print(metrics.confusion_matrix(y_test, y_pred_class))"
      ]
    },
    {
      "cell_type": "markdown",
      "metadata": {
        "id": "JXh5CoAWjYfM"
      },
      "source": [
        "* Definir d'abord l'hypothese nulle et l'hypothese alternative\n",
        "* Terminologie pour lire la matrice de confusion\n",
        "\n",
        "*  True Positives (TP): On a prédit correctement qu'il a le diabete\n",
        "*  True Negatives (TN): On a prédit correctement qu'il n'a pas le diabete\n",
        "*  False Positives (FP): On a incorrectement predit qu'il a le diabete ( \"Type I error\")\n",
        "*  False Negatives (FN): On a incorrectement predit qu'il n'a pas le diabetes (\"Type II error\")"
      ]
    },
    {
      "cell_type": "code",
      "execution_count": 69,
      "metadata": {
        "id": "nDv5jePBjYfM"
      },
      "outputs": [],
      "source": [
        "# Obtenir les 4 valeurs de la matrice\n",
        "confusion = metrics.confusion_matrix(y_test, y_pred_class)\n",
        "TP = confusion[1, 1]\n",
        "TN = confusion[0, 0]\n",
        "FP = confusion[0, 1]\n",
        "FN = confusion[1, 0]"
      ]
    },
    {
      "cell_type": "code",
      "execution_count": 70,
      "metadata": {
        "id": "9epNKpY3jYfM",
        "outputId": "85e23fc4-e9df-4a68-dd49-3030e4abe7ff",
        "colab": {
          "base_uri": "https://localhost:8080/"
        }
      },
      "outputs": [
        {
          "output_type": "stream",
          "name": "stdout",
          "text": [
            "0.6458333333333334\n",
            "0.6458333333333334\n"
          ]
        }
      ],
      "source": [
        "# Classification Accuracy: \n",
        "# On doit repondre à la question: Globalement, quel est le pourcentage où le modele est correct?\n",
        "print((TP + TN) / float(TP + TN + FP + FN))\n",
        "print(metrics.accuracy_score(y_test, y_pred_class))"
      ]
    },
    {
      "cell_type": "code",
      "execution_count": 71,
      "metadata": {
        "id": "iUeq90gAjYfN",
        "outputId": "98874b46-e4e1-49f1-a41d-0bd3f3ea5ade",
        "colab": {
          "base_uri": "https://localhost:8080/"
        }
      },
      "outputs": [
        {
          "output_type": "stream",
          "name": "stdout",
          "text": [
            "0.36231884057971014\n",
            "0.36231884057971014\n"
          ]
        }
      ],
      "source": [
        "#Sensitivity ou Recall: \n",
        "# On doit repondre à la question: Quand la valeur vraie est positive, combien de fois la prediction est correcte?\n",
        "#Aussi connu sous: \"True Positive Rate\" or \"Recall\"\n",
        "print(TP / float(TP + FN))\n",
        "print(metrics.recall_score(y_test, y_pred_class))"
      ]
    },
    {
      "cell_type": "code",
      "execution_count": 72,
      "metadata": {
        "id": "sqhtcqjQjYfN",
        "outputId": "2c348a99-f5eb-4e9c-fa73-5d4c33d52ed1",
        "colab": {
          "base_uri": "https://localhost:8080/"
        }
      },
      "outputs": [
        {
          "output_type": "stream",
          "name": "stdout",
          "text": [
            "0.5102040816326531\n",
            "0.5102040816326531\n"
          ]
        }
      ],
      "source": [
        "# Precision: \n",
        "# On doit repondre à la question: Quand une valeur positive est predite, combien de fois la prediction est correcte?\n",
        "print(TP / float(TP + FP))\n",
        "print(metrics.precision_score(y_test, y_pred_class))"
      ]
    },
    {
      "cell_type": "code",
      "execution_count": 73,
      "metadata": {
        "id": "6RzSGHrfjYfO",
        "outputId": "761c23e6-7232-4b46-c557-a830b21b694a",
        "colab": {
          "base_uri": "https://localhost:8080/"
        }
      },
      "outputs": [
        {
          "output_type": "stream",
          "name": "stdout",
          "text": [
            "0.42372881355932207\n"
          ]
        }
      ],
      "source": [
        "# Score F1\n",
        "print(metrics.f1_score(y_test, y_pred_class))"
      ]
    }
  ],
  "metadata": {
    "kernelspec": {
      "display_name": "Python 3",
      "language": "python",
      "name": "python3"
    },
    "language_info": {
      "codemirror_mode": {
        "name": "ipython",
        "version": 3
      },
      "file_extension": ".py",
      "mimetype": "text/x-python",
      "name": "python",
      "nbconvert_exporter": "python",
      "pygments_lexer": "ipython3",
      "version": "3.8.5"
    },
    "toc": {
      "base_numbering": 1,
      "nav_menu": {},
      "number_sections": true,
      "sideBar": true,
      "skip_h1_title": false,
      "title_cell": "Tables des matières",
      "title_sidebar": "Contenu",
      "toc_cell": true,
      "toc_position": {},
      "toc_section_display": true,
      "toc_window_display": true
    },
    "colab": {
      "name": "prod_classification_metrique.ipynb",
      "provenance": [],
      "include_colab_link": true
    }
  },
  "nbformat": 4,
  "nbformat_minor": 0
}