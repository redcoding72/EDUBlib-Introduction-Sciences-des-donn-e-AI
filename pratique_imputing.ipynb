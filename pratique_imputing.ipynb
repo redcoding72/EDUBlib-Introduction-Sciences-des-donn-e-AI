{
  "cells": [
    {
      "cell_type": "markdown",
      "metadata": {
        "id": "view-in-github",
        "colab_type": "text"
      },
      "source": [
        "<a href=\"https://colab.research.google.com/github/redcoding72/EDUBlib-Introduction-Sciences-des-donn-e-AI/blob/main/pratique_imputing.ipynb\" target=\"_parent\"><img src=\"https://colab.research.google.com/assets/colab-badge.svg\" alt=\"Open In Colab\"/></a>"
      ]
    },
    {
      "cell_type": "markdown",
      "id": "digital-minimum",
      "metadata": {
        "id": "digital-minimum"
      },
      "source": [
        "<a href=\"https://colab.research.google.com/github/pia-fcse-bdeb/Cours-EDUlib/blob/master/module-3/Exercices/pratique_imputing.ipynb\">\n",
        "  <img src=\"https://colab.research.google.com/assets/colab-badge.svg\" alt=\"Open In Colab\"/>\n",
        "</a>"
      ]
    },
    {
      "cell_type": "markdown",
      "id": "recent-database",
      "metadata": {
        "id": "recent-database"
      },
      "source": [
        "# Pratique imputing"
      ]
    },
    {
      "cell_type": "markdown",
      "id": "marked-identifier",
      "metadata": {
        "id": "marked-identifier"
      },
      "source": [
        "## Lire le fichier de données en utilisant pandas.read_csv"
      ]
    },
    {
      "cell_type": "markdown",
      "id": "binary-southwest",
      "metadata": {
        "id": "binary-southwest"
      },
      "source": [
        "On vous fournit les lignes de codes qui permettent de charger les données, vous pouvez soit :"
      ]
    },
    {
      "cell_type": "markdown",
      "id": "southwest-hacker",
      "metadata": {
        "id": "southwest-hacker"
      },
      "source": [
        "* Télécharger le fichier de données et procéder à son chargement sur votre machine locale ou bien sur google Colab. Pour cela, il vous faut décommenter la cellule A et commenter la cellule B.\n",
        "* Charger les données directement depuis google drive sans avoir à télécharger le fichier sur votre machine locale. Pour ce faire, utilisez les lignes de code de la cellule B."
      ]
    },
    {
      "cell_type": "markdown",
      "id": "dietary-tokyo",
      "metadata": {
        "id": "dietary-tokyo"
      },
      "source": [
        "### Cellule A"
      ]
    },
    {
      "cell_type": "code",
      "execution_count": null,
      "id": "fiscal-finding",
      "metadata": {
        "id": "fiscal-finding"
      },
      "outputs": [],
      "source": [
        "# # importer la librairie pandas\n",
        "# import pandas as pd\n",
        "# # lecture du fichier de données\n",
        "# data = pd.read_csv(\"voitures.csv\", sep= \";\")"
      ]
    },
    {
      "cell_type": "markdown",
      "id": "worldwide-handbook",
      "metadata": {
        "id": "worldwide-handbook"
      },
      "source": [
        "### Cellule B"
      ]
    },
    {
      "cell_type": "code",
      "execution_count": 1,
      "id": "dying-bicycle",
      "metadata": {
        "id": "dying-bicycle",
        "outputId": "ed9f738a-f70e-4b62-ffb3-2a7fd39bf813",
        "colab": {
          "base_uri": "https://localhost:8080/",
          "height": 206
        }
      },
      "outputs": [
        {
          "output_type": "execute_result",
          "data": {
            "text/plain": [
              "     marque carburant traction nbre_porte  puissance     prix\n",
              "51   toyota       gaz      fwd       deux       62.0   5348.0\n",
              "65   toyota       gaz      rwd       deux       70.0   8238.0\n",
              "80   toyota       gaz      rwd       deux      161.0  15998.0\n",
              "33    mazda       gaz      rwd       deux      101.0  11845.0\n",
              "47  porsche       gaz      rwd       deux      207.0  36074.0"
            ],
            "text/html": [
              "\n",
              "  <div id=\"df-9a84a039-fd26-4f9f-85be-c47c32fda435\">\n",
              "    <div class=\"colab-df-container\">\n",
              "      <div>\n",
              "<style scoped>\n",
              "    .dataframe tbody tr th:only-of-type {\n",
              "        vertical-align: middle;\n",
              "    }\n",
              "\n",
              "    .dataframe tbody tr th {\n",
              "        vertical-align: top;\n",
              "    }\n",
              "\n",
              "    .dataframe thead th {\n",
              "        text-align: right;\n",
              "    }\n",
              "</style>\n",
              "<table border=\"1\" class=\"dataframe\">\n",
              "  <thead>\n",
              "    <tr style=\"text-align: right;\">\n",
              "      <th></th>\n",
              "      <th>marque</th>\n",
              "      <th>carburant</th>\n",
              "      <th>traction</th>\n",
              "      <th>nbre_porte</th>\n",
              "      <th>puissance</th>\n",
              "      <th>prix</th>\n",
              "    </tr>\n",
              "  </thead>\n",
              "  <tbody>\n",
              "    <tr>\n",
              "      <th>51</th>\n",
              "      <td>toyota</td>\n",
              "      <td>gaz</td>\n",
              "      <td>fwd</td>\n",
              "      <td>deux</td>\n",
              "      <td>62.0</td>\n",
              "      <td>5348.0</td>\n",
              "    </tr>\n",
              "    <tr>\n",
              "      <th>65</th>\n",
              "      <td>toyota</td>\n",
              "      <td>gaz</td>\n",
              "      <td>rwd</td>\n",
              "      <td>deux</td>\n",
              "      <td>70.0</td>\n",
              "      <td>8238.0</td>\n",
              "    </tr>\n",
              "    <tr>\n",
              "      <th>80</th>\n",
              "      <td>toyota</td>\n",
              "      <td>gaz</td>\n",
              "      <td>rwd</td>\n",
              "      <td>deux</td>\n",
              "      <td>161.0</td>\n",
              "      <td>15998.0</td>\n",
              "    </tr>\n",
              "    <tr>\n",
              "      <th>33</th>\n",
              "      <td>mazda</td>\n",
              "      <td>gaz</td>\n",
              "      <td>rwd</td>\n",
              "      <td>deux</td>\n",
              "      <td>101.0</td>\n",
              "      <td>11845.0</td>\n",
              "    </tr>\n",
              "    <tr>\n",
              "      <th>47</th>\n",
              "      <td>porsche</td>\n",
              "      <td>gaz</td>\n",
              "      <td>rwd</td>\n",
              "      <td>deux</td>\n",
              "      <td>207.0</td>\n",
              "      <td>36074.0</td>\n",
              "    </tr>\n",
              "  </tbody>\n",
              "</table>\n",
              "</div>\n",
              "      <button class=\"colab-df-convert\" onclick=\"convertToInteractive('df-9a84a039-fd26-4f9f-85be-c47c32fda435')\"\n",
              "              title=\"Convert this dataframe to an interactive table.\"\n",
              "              style=\"display:none;\">\n",
              "        \n",
              "  <svg xmlns=\"http://www.w3.org/2000/svg\" height=\"24px\"viewBox=\"0 0 24 24\"\n",
              "       width=\"24px\">\n",
              "    <path d=\"M0 0h24v24H0V0z\" fill=\"none\"/>\n",
              "    <path d=\"M18.56 5.44l.94 2.06.94-2.06 2.06-.94-2.06-.94-.94-2.06-.94 2.06-2.06.94zm-11 1L8.5 8.5l.94-2.06 2.06-.94-2.06-.94L8.5 2.5l-.94 2.06-2.06.94zm10 10l.94 2.06.94-2.06 2.06-.94-2.06-.94-.94-2.06-.94 2.06-2.06.94z\"/><path d=\"M17.41 7.96l-1.37-1.37c-.4-.4-.92-.59-1.43-.59-.52 0-1.04.2-1.43.59L10.3 9.45l-7.72 7.72c-.78.78-.78 2.05 0 2.83L4 21.41c.39.39.9.59 1.41.59.51 0 1.02-.2 1.41-.59l7.78-7.78 2.81-2.81c.8-.78.8-2.07 0-2.86zM5.41 20L4 18.59l7.72-7.72 1.47 1.35L5.41 20z\"/>\n",
              "  </svg>\n",
              "      </button>\n",
              "      \n",
              "  <style>\n",
              "    .colab-df-container {\n",
              "      display:flex;\n",
              "      flex-wrap:wrap;\n",
              "      gap: 12px;\n",
              "    }\n",
              "\n",
              "    .colab-df-convert {\n",
              "      background-color: #E8F0FE;\n",
              "      border: none;\n",
              "      border-radius: 50%;\n",
              "      cursor: pointer;\n",
              "      display: none;\n",
              "      fill: #1967D2;\n",
              "      height: 32px;\n",
              "      padding: 0 0 0 0;\n",
              "      width: 32px;\n",
              "    }\n",
              "\n",
              "    .colab-df-convert:hover {\n",
              "      background-color: #E2EBFA;\n",
              "      box-shadow: 0px 1px 2px rgba(60, 64, 67, 0.3), 0px 1px 3px 1px rgba(60, 64, 67, 0.15);\n",
              "      fill: #174EA6;\n",
              "    }\n",
              "\n",
              "    [theme=dark] .colab-df-convert {\n",
              "      background-color: #3B4455;\n",
              "      fill: #D2E3FC;\n",
              "    }\n",
              "\n",
              "    [theme=dark] .colab-df-convert:hover {\n",
              "      background-color: #434B5C;\n",
              "      box-shadow: 0px 1px 3px 1px rgba(0, 0, 0, 0.15);\n",
              "      filter: drop-shadow(0px 1px 2px rgba(0, 0, 0, 0.3));\n",
              "      fill: #FFFFFF;\n",
              "    }\n",
              "  </style>\n",
              "\n",
              "      <script>\n",
              "        const buttonEl =\n",
              "          document.querySelector('#df-9a84a039-fd26-4f9f-85be-c47c32fda435 button.colab-df-convert');\n",
              "        buttonEl.style.display =\n",
              "          google.colab.kernel.accessAllowed ? 'block' : 'none';\n",
              "\n",
              "        async function convertToInteractive(key) {\n",
              "          const element = document.querySelector('#df-9a84a039-fd26-4f9f-85be-c47c32fda435');\n",
              "          const dataTable =\n",
              "            await google.colab.kernel.invokeFunction('convertToInteractive',\n",
              "                                                     [key], {});\n",
              "          if (!dataTable) return;\n",
              "\n",
              "          const docLinkHtml = 'Like what you see? Visit the ' +\n",
              "            '<a target=\"_blank\" href=https://colab.research.google.com/notebooks/data_table.ipynb>data table notebook</a>'\n",
              "            + ' to learn more about interactive tables.';\n",
              "          element.innerHTML = '';\n",
              "          dataTable['output_type'] = 'display_data';\n",
              "          await google.colab.output.renderOutput(dataTable, element);\n",
              "          const docLink = document.createElement('div');\n",
              "          docLink.innerHTML = docLinkHtml;\n",
              "          element.appendChild(docLink);\n",
              "        }\n",
              "      </script>\n",
              "    </div>\n",
              "  </div>\n",
              "  "
            ]
          },
          "metadata": {},
          "execution_count": 1
        }
      ],
      "source": [
        "# importer la librairie pandas\n",
        "import pandas as pd\n",
        "\n",
        "# charger les données contenues dans un fichiers csv se trouvant sur drive\n",
        "URL = 'https://drive.google.com/file/d/1ZQk2jnBTxpMxtYqwsBNzxW3P4uUzyPZX/view?usp=sharing'\n",
        "\n",
        "voitures = 'https://drive.google.com/uc?export=download&id='+URL.split('/')[-2]\n",
        "data = pd.read_csv(voitures, sep= \";\")\n",
        "\n",
        "# faire une copie de data\n",
        "df = data.copy()\n",
        "# Afficher un échatillon du dataframe\n",
        "df.sample(5)"
      ]
    },
    {
      "cell_type": "markdown",
      "id": "prompt-roulette",
      "metadata": {
        "id": "prompt-roulette"
      },
      "source": [
        "## Pratique 1"
      ]
    },
    {
      "cell_type": "code",
      "execution_count": 2,
      "id": "legitimate-confusion",
      "metadata": {
        "id": "legitimate-confusion",
        "outputId": "a8d4a0dc-699a-47ae-c829-88b669952bfe",
        "colab": {
          "base_uri": "https://localhost:8080/"
        }
      },
      "outputs": [
        {
          "output_type": "execute_result",
          "data": {
            "text/plain": [
              "(83, 6)"
            ]
          },
          "metadata": {},
          "execution_count": 2
        }
      ],
      "source": [
        "# Obtenir le shape du dataframe\n",
        "df.shape"
      ]
    },
    {
      "cell_type": "markdown",
      "id": "numeric-happening",
      "metadata": {
        "id": "numeric-happening"
      },
      "source": [
        "* Note:\n",
        "    le dataframe contient 83 enregistrements (lignes) et 6 séries (colonnes) "
      ]
    },
    {
      "cell_type": "code",
      "execution_count": 4,
      "id": "white-living",
      "metadata": {
        "id": "white-living",
        "outputId": "3e269474-0ce7-4dfd-8b3f-25b99d2d3d64",
        "colab": {
          "base_uri": "https://localhost:8080/"
        }
      },
      "outputs": [
        {
          "output_type": "execute_result",
          "data": {
            "text/plain": [
              "marque        0\n",
              "carburant     2\n",
              "traction      0\n",
              "nbre_porte    3\n",
              "puissance     0\n",
              "prix          0\n",
              "dtype: int64"
            ]
          },
          "metadata": {},
          "execution_count": 4
        }
      ],
      "source": [
        "# Vérifier la présence de valeurs manquantes et indiquer le nombre de valeur manquantes dans chaque série\n",
        "df.isnull().sum()"
      ]
    },
    {
      "cell_type": "code",
      "execution_count": 15,
      "id": "incredible-impact",
      "metadata": {
        "id": "incredible-impact"
      },
      "outputs": [],
      "source": [
        "# En s'aidant du shape, afficher le pourcentage de valeurs manquantes pour chaque série du dataframe\n",
        "percentage =(df.isnull().sum()/df.shape[0])*100"
      ]
    },
    {
      "cell_type": "code",
      "execution_count": 16,
      "id": "wrong-working",
      "metadata": {
        "id": "wrong-working",
        "outputId": "7a8740f5-fff7-41d9-ab48-fd521b6b628c",
        "colab": {
          "base_uri": "https://localhost:8080/"
        }
      },
      "outputs": [
        {
          "output_type": "stream",
          "name": "stdout",
          "text": [
            "marque        0.00\n",
            "carburant     2.41\n",
            "traction      0.00\n",
            "nbre_porte    3.61\n",
            "puissance     0.00\n",
            "prix          0.00\n",
            "dtype: float64\n"
          ]
        }
      ],
      "source": [
        "# afficher 2 chiffres après la virgule\n",
        "print(round(percentage, ndigits = 2))"
      ]
    },
    {
      "cell_type": "markdown",
      "id": "structured-devil",
      "metadata": {
        "id": "structured-devil"
      },
      "source": [
        "## Pratique 2"
      ]
    },
    {
      "cell_type": "markdown",
      "id": "unexpected-learning",
      "metadata": {
        "id": "unexpected-learning"
      },
      "source": [
        "### Afficher les valeurs manquantes de la série nbre_porte"
      ]
    },
    {
      "cell_type": "markdown",
      "id": "behind-flour",
      "metadata": {
        "id": "behind-flour"
      },
      "source": [
        "* Notes:\n",
        "    * On va commencer par caractériser les valeurs manquantes\n",
        "    * comme le nombre de valeurs manquantes est faible, on peut se permettre de les afficher, pour cela, on va utiliser le booléen indexing comme on a pu le voir dans la vidéo.\n",
        "    * la méthode .isnull() va retourner une série de False et True, quand on réinjecte le tout dans le dataframe, on obtiendra que les lignes égales des True"
      ]
    },
    {
      "cell_type": "code",
      "execution_count": 20,
      "id": "loving-montgomery",
      "metadata": {
        "id": "loving-montgomery",
        "outputId": "2f416b8d-b1b5-417d-fe4c-3923f90749ad",
        "colab": {
          "base_uri": "https://localhost:8080/",
          "height": 143
        }
      },
      "outputs": [
        {
          "output_type": "execute_result",
          "data": {
            "text/plain": [
              "   marque carburant traction nbre_porte  puissance     prix\n",
              "16  honda       gaz      fwd        NaN       60.0   5399.0\n",
              "21  honda       gaz      fwd        NaN       86.0   7895.0\n",
              "40  mazda    diesel      fwd        NaN       64.0  10795.0"
            ],
            "text/html": [
              "\n",
              "  <div id=\"df-fade6151-5bc5-4d6a-beb0-f6946e96f0ab\">\n",
              "    <div class=\"colab-df-container\">\n",
              "      <div>\n",
              "<style scoped>\n",
              "    .dataframe tbody tr th:only-of-type {\n",
              "        vertical-align: middle;\n",
              "    }\n",
              "\n",
              "    .dataframe tbody tr th {\n",
              "        vertical-align: top;\n",
              "    }\n",
              "\n",
              "    .dataframe thead th {\n",
              "        text-align: right;\n",
              "    }\n",
              "</style>\n",
              "<table border=\"1\" class=\"dataframe\">\n",
              "  <thead>\n",
              "    <tr style=\"text-align: right;\">\n",
              "      <th></th>\n",
              "      <th>marque</th>\n",
              "      <th>carburant</th>\n",
              "      <th>traction</th>\n",
              "      <th>nbre_porte</th>\n",
              "      <th>puissance</th>\n",
              "      <th>prix</th>\n",
              "    </tr>\n",
              "  </thead>\n",
              "  <tbody>\n",
              "    <tr>\n",
              "      <th>16</th>\n",
              "      <td>honda</td>\n",
              "      <td>gaz</td>\n",
              "      <td>fwd</td>\n",
              "      <td>NaN</td>\n",
              "      <td>60.0</td>\n",
              "      <td>5399.0</td>\n",
              "    </tr>\n",
              "    <tr>\n",
              "      <th>21</th>\n",
              "      <td>honda</td>\n",
              "      <td>gaz</td>\n",
              "      <td>fwd</td>\n",
              "      <td>NaN</td>\n",
              "      <td>86.0</td>\n",
              "      <td>7895.0</td>\n",
              "    </tr>\n",
              "    <tr>\n",
              "      <th>40</th>\n",
              "      <td>mazda</td>\n",
              "      <td>diesel</td>\n",
              "      <td>fwd</td>\n",
              "      <td>NaN</td>\n",
              "      <td>64.0</td>\n",
              "      <td>10795.0</td>\n",
              "    </tr>\n",
              "  </tbody>\n",
              "</table>\n",
              "</div>\n",
              "      <button class=\"colab-df-convert\" onclick=\"convertToInteractive('df-fade6151-5bc5-4d6a-beb0-f6946e96f0ab')\"\n",
              "              title=\"Convert this dataframe to an interactive table.\"\n",
              "              style=\"display:none;\">\n",
              "        \n",
              "  <svg xmlns=\"http://www.w3.org/2000/svg\" height=\"24px\"viewBox=\"0 0 24 24\"\n",
              "       width=\"24px\">\n",
              "    <path d=\"M0 0h24v24H0V0z\" fill=\"none\"/>\n",
              "    <path d=\"M18.56 5.44l.94 2.06.94-2.06 2.06-.94-2.06-.94-.94-2.06-.94 2.06-2.06.94zm-11 1L8.5 8.5l.94-2.06 2.06-.94-2.06-.94L8.5 2.5l-.94 2.06-2.06.94zm10 10l.94 2.06.94-2.06 2.06-.94-2.06-.94-.94-2.06-.94 2.06-2.06.94z\"/><path d=\"M17.41 7.96l-1.37-1.37c-.4-.4-.92-.59-1.43-.59-.52 0-1.04.2-1.43.59L10.3 9.45l-7.72 7.72c-.78.78-.78 2.05 0 2.83L4 21.41c.39.39.9.59 1.41.59.51 0 1.02-.2 1.41-.59l7.78-7.78 2.81-2.81c.8-.78.8-2.07 0-2.86zM5.41 20L4 18.59l7.72-7.72 1.47 1.35L5.41 20z\"/>\n",
              "  </svg>\n",
              "      </button>\n",
              "      \n",
              "  <style>\n",
              "    .colab-df-container {\n",
              "      display:flex;\n",
              "      flex-wrap:wrap;\n",
              "      gap: 12px;\n",
              "    }\n",
              "\n",
              "    .colab-df-convert {\n",
              "      background-color: #E8F0FE;\n",
              "      border: none;\n",
              "      border-radius: 50%;\n",
              "      cursor: pointer;\n",
              "      display: none;\n",
              "      fill: #1967D2;\n",
              "      height: 32px;\n",
              "      padding: 0 0 0 0;\n",
              "      width: 32px;\n",
              "    }\n",
              "\n",
              "    .colab-df-convert:hover {\n",
              "      background-color: #E2EBFA;\n",
              "      box-shadow: 0px 1px 2px rgba(60, 64, 67, 0.3), 0px 1px 3px 1px rgba(60, 64, 67, 0.15);\n",
              "      fill: #174EA6;\n",
              "    }\n",
              "\n",
              "    [theme=dark] .colab-df-convert {\n",
              "      background-color: #3B4455;\n",
              "      fill: #D2E3FC;\n",
              "    }\n",
              "\n",
              "    [theme=dark] .colab-df-convert:hover {\n",
              "      background-color: #434B5C;\n",
              "      box-shadow: 0px 1px 3px 1px rgba(0, 0, 0, 0.15);\n",
              "      filter: drop-shadow(0px 1px 2px rgba(0, 0, 0, 0.3));\n",
              "      fill: #FFFFFF;\n",
              "    }\n",
              "  </style>\n",
              "\n",
              "      <script>\n",
              "        const buttonEl =\n",
              "          document.querySelector('#df-fade6151-5bc5-4d6a-beb0-f6946e96f0ab button.colab-df-convert');\n",
              "        buttonEl.style.display =\n",
              "          google.colab.kernel.accessAllowed ? 'block' : 'none';\n",
              "\n",
              "        async function convertToInteractive(key) {\n",
              "          const element = document.querySelector('#df-fade6151-5bc5-4d6a-beb0-f6946e96f0ab');\n",
              "          const dataTable =\n",
              "            await google.colab.kernel.invokeFunction('convertToInteractive',\n",
              "                                                     [key], {});\n",
              "          if (!dataTable) return;\n",
              "\n",
              "          const docLinkHtml = 'Like what you see? Visit the ' +\n",
              "            '<a target=\"_blank\" href=https://colab.research.google.com/notebooks/data_table.ipynb>data table notebook</a>'\n",
              "            + ' to learn more about interactive tables.';\n",
              "          element.innerHTML = '';\n",
              "          dataTable['output_type'] = 'display_data';\n",
              "          await google.colab.output.renderOutput(dataTable, element);\n",
              "          const docLink = document.createElement('div');\n",
              "          docLink.innerHTML = docLinkHtml;\n",
              "          element.appendChild(docLink);\n",
              "        }\n",
              "      </script>\n",
              "    </div>\n",
              "  </div>\n",
              "  "
            ]
          },
          "metadata": {},
          "execution_count": 20
        }
      ],
      "source": [
        "# Afficher pour la série nbre_porte, les enregistrements contenants des valeurs manquantes\n",
        "df[df['nbre_porte'].isnull()]"
      ]
    },
    {
      "cell_type": "markdown",
      "id": "inside-freedom",
      "metadata": {
        "id": "inside-freedom"
      },
      "source": [
        "### Remplacer les valeurs manquantes dans la série nbre_porte"
      ]
    },
    {
      "cell_type": "markdown",
      "id": "irish-timber",
      "metadata": {
        "id": "irish-timber"
      },
      "source": [
        "* On va suivre le même cheminement qu’on vu ensemble dans la vidéo du cours."
      ]
    },
    {
      "cell_type": "code",
      "execution_count": null,
      "id": "attached-chancellor",
      "metadata": {
        "id": "attached-chancellor"
      },
      "outputs": [],
      "source": [
        "# Utilisez SimpleImputer et une stratégie de remplacement, justifier votre choix de stratégie \n"
      ]
    },
    {
      "cell_type": "code",
      "execution_count": 24,
      "id": "frequent-dryer",
      "metadata": {
        "id": "frequent-dryer"
      },
      "outputs": [],
      "source": [
        "# importer le module SimpleImputer\n",
        "from sklearn.impute import SimpleImputer"
      ]
    },
    {
      "cell_type": "code",
      "execution_count": 42,
      "id": "considerable-moses",
      "metadata": {
        "id": "considerable-moses"
      },
      "outputs": [],
      "source": [
        "# creer l'objet simpleImputer\n",
        "imp = SimpleImputer(strategy=\"most_frequent\")"
      ]
    },
    {
      "cell_type": "code",
      "execution_count": 43,
      "id": "convenient-marsh",
      "metadata": {
        "id": "convenient-marsh"
      },
      "outputs": [],
      "source": [
        "# creer l'objet simpleImputer\n",
        "honda = df[df.marque==\"honda\"]\n",
        "mazda = df[df.marque==\"mazda\"]"
      ]
    },
    {
      "cell_type": "code",
      "execution_count": 45,
      "id": "critical-serial",
      "metadata": {
        "id": "critical-serial"
      },
      "outputs": [],
      "source": [
        "# correction pour honda et correction pour mazda\n",
        "corr_honda = imp.fit_transform(honda)[:,3]\n",
        "corr_mazda = imp.fit_transform(mazda)[:,3]"
      ]
    },
    {
      "cell_type": "code",
      "execution_count": 47,
      "id": "solar-eugene",
      "metadata": {
        "id": "solar-eugene"
      },
      "outputs": [],
      "source": [
        "# affecter les corrections\n",
        "df.loc[df.marque == \"honda\",\"nbre_porte\"] = corr_honda\n",
        "df.loc[df.marque == \"mazda\",\"nbre_porte\"] = corr_mazda"
      ]
    },
    {
      "cell_type": "code",
      "execution_count": 54,
      "id": "optional-mixture",
      "metadata": {
        "id": "optional-mixture",
        "outputId": "ff894d7f-13fb-4483-8ba8-87fb951660a8",
        "colab": {
          "base_uri": "https://localhost:8080/"
        }
      },
      "outputs": [
        {
          "output_type": "execute_result",
          "data": {
            "text/plain": [
              "marque        0\n",
              "carburant     2\n",
              "traction      0\n",
              "nbre_porte    0\n",
              "puissance     0\n",
              "prix          0\n",
              "dtype: int64"
            ]
          },
          "metadata": {},
          "execution_count": 54
        }
      ],
      "source": [
        "# Procéder à une vérification\n",
        "df.isnull().sum()\n"
      ]
    },
    {
      "cell_type": "markdown",
      "id": "retired-species",
      "metadata": {
        "id": "retired-species"
      },
      "source": [
        "### Remplacer des valeurs manquantes pour la série carburant"
      ]
    },
    {
      "cell_type": "code",
      "execution_count": 57,
      "id": "chubby-charity",
      "metadata": {
        "id": "chubby-charity",
        "outputId": "62b4f384-78fe-47e7-c17f-ccc97b7835ca",
        "colab": {
          "base_uri": "https://localhost:8080/",
          "height": 112
        }
      },
      "outputs": [
        {
          "output_type": "execute_result",
          "data": {
            "text/plain": [
              "     marque carburant traction nbre_porte  puissance    prix\n",
              "49  renault       NaN      fwd     quatre       69.0  9295.0\n",
              "50  renault       NaN      fwd       deux       79.0  9895.0"
            ],
            "text/html": [
              "\n",
              "  <div id=\"df-f3b5afa6-2d6c-4bda-8c77-1dca8f96da23\">\n",
              "    <div class=\"colab-df-container\">\n",
              "      <div>\n",
              "<style scoped>\n",
              "    .dataframe tbody tr th:only-of-type {\n",
              "        vertical-align: middle;\n",
              "    }\n",
              "\n",
              "    .dataframe tbody tr th {\n",
              "        vertical-align: top;\n",
              "    }\n",
              "\n",
              "    .dataframe thead th {\n",
              "        text-align: right;\n",
              "    }\n",
              "</style>\n",
              "<table border=\"1\" class=\"dataframe\">\n",
              "  <thead>\n",
              "    <tr style=\"text-align: right;\">\n",
              "      <th></th>\n",
              "      <th>marque</th>\n",
              "      <th>carburant</th>\n",
              "      <th>traction</th>\n",
              "      <th>nbre_porte</th>\n",
              "      <th>puissance</th>\n",
              "      <th>prix</th>\n",
              "    </tr>\n",
              "  </thead>\n",
              "  <tbody>\n",
              "    <tr>\n",
              "      <th>49</th>\n",
              "      <td>renault</td>\n",
              "      <td>NaN</td>\n",
              "      <td>fwd</td>\n",
              "      <td>quatre</td>\n",
              "      <td>69.0</td>\n",
              "      <td>9295.0</td>\n",
              "    </tr>\n",
              "    <tr>\n",
              "      <th>50</th>\n",
              "      <td>renault</td>\n",
              "      <td>NaN</td>\n",
              "      <td>fwd</td>\n",
              "      <td>deux</td>\n",
              "      <td>79.0</td>\n",
              "      <td>9895.0</td>\n",
              "    </tr>\n",
              "  </tbody>\n",
              "</table>\n",
              "</div>\n",
              "      <button class=\"colab-df-convert\" onclick=\"convertToInteractive('df-f3b5afa6-2d6c-4bda-8c77-1dca8f96da23')\"\n",
              "              title=\"Convert this dataframe to an interactive table.\"\n",
              "              style=\"display:none;\">\n",
              "        \n",
              "  <svg xmlns=\"http://www.w3.org/2000/svg\" height=\"24px\"viewBox=\"0 0 24 24\"\n",
              "       width=\"24px\">\n",
              "    <path d=\"M0 0h24v24H0V0z\" fill=\"none\"/>\n",
              "    <path d=\"M18.56 5.44l.94 2.06.94-2.06 2.06-.94-2.06-.94-.94-2.06-.94 2.06-2.06.94zm-11 1L8.5 8.5l.94-2.06 2.06-.94-2.06-.94L8.5 2.5l-.94 2.06-2.06.94zm10 10l.94 2.06.94-2.06 2.06-.94-2.06-.94-.94-2.06-.94 2.06-2.06.94z\"/><path d=\"M17.41 7.96l-1.37-1.37c-.4-.4-.92-.59-1.43-.59-.52 0-1.04.2-1.43.59L10.3 9.45l-7.72 7.72c-.78.78-.78 2.05 0 2.83L4 21.41c.39.39.9.59 1.41.59.51 0 1.02-.2 1.41-.59l7.78-7.78 2.81-2.81c.8-.78.8-2.07 0-2.86zM5.41 20L4 18.59l7.72-7.72 1.47 1.35L5.41 20z\"/>\n",
              "  </svg>\n",
              "      </button>\n",
              "      \n",
              "  <style>\n",
              "    .colab-df-container {\n",
              "      display:flex;\n",
              "      flex-wrap:wrap;\n",
              "      gap: 12px;\n",
              "    }\n",
              "\n",
              "    .colab-df-convert {\n",
              "      background-color: #E8F0FE;\n",
              "      border: none;\n",
              "      border-radius: 50%;\n",
              "      cursor: pointer;\n",
              "      display: none;\n",
              "      fill: #1967D2;\n",
              "      height: 32px;\n",
              "      padding: 0 0 0 0;\n",
              "      width: 32px;\n",
              "    }\n",
              "\n",
              "    .colab-df-convert:hover {\n",
              "      background-color: #E2EBFA;\n",
              "      box-shadow: 0px 1px 2px rgba(60, 64, 67, 0.3), 0px 1px 3px 1px rgba(60, 64, 67, 0.15);\n",
              "      fill: #174EA6;\n",
              "    }\n",
              "\n",
              "    [theme=dark] .colab-df-convert {\n",
              "      background-color: #3B4455;\n",
              "      fill: #D2E3FC;\n",
              "    }\n",
              "\n",
              "    [theme=dark] .colab-df-convert:hover {\n",
              "      background-color: #434B5C;\n",
              "      box-shadow: 0px 1px 3px 1px rgba(0, 0, 0, 0.15);\n",
              "      filter: drop-shadow(0px 1px 2px rgba(0, 0, 0, 0.3));\n",
              "      fill: #FFFFFF;\n",
              "    }\n",
              "  </style>\n",
              "\n",
              "      <script>\n",
              "        const buttonEl =\n",
              "          document.querySelector('#df-f3b5afa6-2d6c-4bda-8c77-1dca8f96da23 button.colab-df-convert');\n",
              "        buttonEl.style.display =\n",
              "          google.colab.kernel.accessAllowed ? 'block' : 'none';\n",
              "\n",
              "        async function convertToInteractive(key) {\n",
              "          const element = document.querySelector('#df-f3b5afa6-2d6c-4bda-8c77-1dca8f96da23');\n",
              "          const dataTable =\n",
              "            await google.colab.kernel.invokeFunction('convertToInteractive',\n",
              "                                                     [key], {});\n",
              "          if (!dataTable) return;\n",
              "\n",
              "          const docLinkHtml = 'Like what you see? Visit the ' +\n",
              "            '<a target=\"_blank\" href=https://colab.research.google.com/notebooks/data_table.ipynb>data table notebook</a>'\n",
              "            + ' to learn more about interactive tables.';\n",
              "          element.innerHTML = '';\n",
              "          dataTable['output_type'] = 'display_data';\n",
              "          await google.colab.output.renderOutput(dataTable, element);\n",
              "          const docLink = document.createElement('div');\n",
              "          docLink.innerHTML = docLinkHtml;\n",
              "          element.appendChild(docLink);\n",
              "        }\n",
              "      </script>\n",
              "    </div>\n",
              "  </div>\n",
              "  "
            ]
          },
          "metadata": {},
          "execution_count": 57
        }
      ],
      "source": [
        "# afficher les valeurs manquantes dans un dataframe\n",
        "df[df['carburant'].isnull()]"
      ]
    },
    {
      "cell_type": "code",
      "execution_count": 60,
      "id": "successful-infrastructure",
      "metadata": {
        "id": "successful-infrastructure"
      },
      "outputs": [],
      "source": [
        "# Affecter une valeur de remplacement\n",
        "renault = df[df.marque==\"renault\"]\n",
        "corr_renault = imp.fit_transform(renault)[:,1]\n",
        "df.loc[df.marque == \"renault\",\"carburant\"] = corr_renault\n",
        "\n"
      ]
    },
    {
      "cell_type": "code",
      "execution_count": 61,
      "id": "classical-chick",
      "metadata": {
        "id": "classical-chick",
        "outputId": "db636f9d-29ca-4452-fa9e-d1285e38dcdc",
        "colab": {
          "base_uri": "https://localhost:8080/"
        }
      },
      "outputs": [
        {
          "output_type": "execute_result",
          "data": {
            "text/plain": [
              "marque        0\n",
              "carburant     0\n",
              "traction      0\n",
              "nbre_porte    0\n",
              "puissance     0\n",
              "prix          0\n",
              "dtype: int64"
            ]
          },
          "metadata": {},
          "execution_count": 61
        }
      ],
      "source": [
        "# Procéder à une vérification\n",
        "df.isnull().sum()"
      ]
    },
    {
      "cell_type": "code",
      "execution_count": null,
      "id": "biological-laptop",
      "metadata": {
        "id": "biological-laptop"
      },
      "outputs": [],
      "source": [
        ""
      ]
    },
    {
      "cell_type": "code",
      "execution_count": null,
      "id": "starting-three",
      "metadata": {
        "id": "starting-three"
      },
      "outputs": [],
      "source": [
        ""
      ]
    },
    {
      "cell_type": "code",
      "execution_count": null,
      "id": "sophisticated-nation",
      "metadata": {
        "id": "sophisticated-nation"
      },
      "outputs": [],
      "source": [
        ""
      ]
    },
    {
      "cell_type": "code",
      "execution_count": null,
      "id": "caring-glossary",
      "metadata": {
        "id": "caring-glossary"
      },
      "outputs": [],
      "source": [
        ""
      ]
    },
    {
      "cell_type": "code",
      "execution_count": null,
      "id": "administrative-perspective",
      "metadata": {
        "id": "administrative-perspective"
      },
      "outputs": [],
      "source": [
        ""
      ]
    },
    {
      "cell_type": "code",
      "execution_count": null,
      "id": "romantic-hollywood",
      "metadata": {
        "id": "romantic-hollywood"
      },
      "outputs": [],
      "source": [
        ""
      ]
    },
    {
      "cell_type": "code",
      "execution_count": null,
      "id": "documented-chase",
      "metadata": {
        "id": "documented-chase"
      },
      "outputs": [],
      "source": [
        ""
      ]
    },
    {
      "cell_type": "code",
      "execution_count": null,
      "id": "decimal-venture",
      "metadata": {
        "id": "decimal-venture"
      },
      "outputs": [],
      "source": [
        ""
      ]
    },
    {
      "cell_type": "code",
      "execution_count": null,
      "id": "unknown-implement",
      "metadata": {
        "id": "unknown-implement"
      },
      "outputs": [],
      "source": [
        ""
      ]
    },
    {
      "cell_type": "markdown",
      "id": "returning-reward",
      "metadata": {
        "id": "returning-reward"
      },
      "source": [
        "# Solutionnaire"
      ]
    },
    {
      "cell_type": "markdown",
      "id": "honest-garbage",
      "metadata": {
        "id": "honest-garbage"
      },
      "source": [
        "## pratique 1"
      ]
    },
    {
      "cell_type": "code",
      "execution_count": null,
      "id": "incorporated-reminder",
      "metadata": {
        "id": "incorporated-reminder",
        "outputId": "16002f8f-95fc-4085-aafa-4f40fd4cbe41"
      },
      "outputs": [
        {
          "data": {
            "text/html": [
              "<div>\n",
              "<style scoped>\n",
              "    .dataframe tbody tr th:only-of-type {\n",
              "        vertical-align: middle;\n",
              "    }\n",
              "\n",
              "    .dataframe tbody tr th {\n",
              "        vertical-align: top;\n",
              "    }\n",
              "\n",
              "    .dataframe thead th {\n",
              "        text-align: right;\n",
              "    }\n",
              "</style>\n",
              "<table border=\"1\" class=\"dataframe\">\n",
              "  <thead>\n",
              "    <tr style=\"text-align: right;\">\n",
              "      <th></th>\n",
              "      <th>marque</th>\n",
              "      <th>carburant</th>\n",
              "      <th>traction</th>\n",
              "      <th>nbre_porte</th>\n",
              "      <th>puissance</th>\n",
              "      <th>prix</th>\n",
              "    </tr>\n",
              "  </thead>\n",
              "  <tbody>\n",
              "    <tr>\n",
              "      <th>77</th>\n",
              "      <td>toyota</td>\n",
              "      <td>gaz</td>\n",
              "      <td>fwd</td>\n",
              "      <td>quatre</td>\n",
              "      <td>92.0</td>\n",
              "      <td>10898.0</td>\n",
              "    </tr>\n",
              "    <tr>\n",
              "      <th>1</th>\n",
              "      <td>audi</td>\n",
              "      <td>gaz</td>\n",
              "      <td>4wd</td>\n",
              "      <td>quatre</td>\n",
              "      <td>115.0</td>\n",
              "      <td>17450.0</td>\n",
              "    </tr>\n",
              "    <tr>\n",
              "      <th>61</th>\n",
              "      <td>toyota</td>\n",
              "      <td>gaz</td>\n",
              "      <td>fwd</td>\n",
              "      <td>quatre</td>\n",
              "      <td>70.0</td>\n",
              "      <td>7738.0</td>\n",
              "    </tr>\n",
              "    <tr>\n",
              "      <th>39</th>\n",
              "      <td>mazda</td>\n",
              "      <td>gaz</td>\n",
              "      <td>fwd</td>\n",
              "      <td>quatre</td>\n",
              "      <td>84.0</td>\n",
              "      <td>10245.0</td>\n",
              "    </tr>\n",
              "    <tr>\n",
              "      <th>60</th>\n",
              "      <td>toyota</td>\n",
              "      <td>diesel</td>\n",
              "      <td>fwd</td>\n",
              "      <td>quatre</td>\n",
              "      <td>56.0</td>\n",
              "      <td>7788.0</td>\n",
              "    </tr>\n",
              "  </tbody>\n",
              "</table>\n",
              "</div>"
            ],
            "text/plain": [
              "    marque carburant traction nbre_porte  puissance     prix\n",
              "77  toyota       gaz      fwd     quatre       92.0  10898.0\n",
              "1     audi       gaz      4wd     quatre      115.0  17450.0\n",
              "61  toyota       gaz      fwd     quatre       70.0   7738.0\n",
              "39   mazda       gaz      fwd     quatre       84.0  10245.0\n",
              "60  toyota    diesel      fwd     quatre       56.0   7788.0"
            ]
          },
          "execution_count": 1,
          "metadata": {},
          "output_type": "execute_result"
        }
      ],
      "source": [
        "# importer la librairie pandas\n",
        "import pandas as pd\n",
        "\n",
        "# charger les données contenues dans un fichiers csv se trouvant sur drive\n",
        "URL = 'https://drive.google.com/file/d/1ZQk2jnBTxpMxtYqwsBNzxW3P4uUzyPZX/view?usp=sharing'\n",
        "voitures = 'https://drive.google.com/uc?export=download&id='+URL.split('/')[-2]\n",
        "\n",
        "data = pd.read_csv(voitures, sep= \";\")\n",
        "\n",
        "# faire une copie de data\n",
        "df = data.copy()\n",
        "# Afficher un échatillon du dataframe\n",
        "df.sample(5)"
      ]
    },
    {
      "cell_type": "code",
      "execution_count": null,
      "id": "statistical-management",
      "metadata": {
        "id": "statistical-management",
        "outputId": "9ea49b3c-8e73-4791-9d10-dccc9fe1a6f7"
      },
      "outputs": [
        {
          "data": {
            "text/plain": [
              "(83, 6)"
            ]
          },
          "execution_count": 2,
          "metadata": {},
          "output_type": "execute_result"
        }
      ],
      "source": [
        "# Obtenir le shape du dataframe\n",
        "df.shape"
      ]
    },
    {
      "cell_type": "markdown",
      "id": "polyphonic-restriction",
      "metadata": {
        "id": "polyphonic-restriction"
      },
      "source": [
        "* Note:\n",
        "    le dataframe contient 83 enregistrements et 6 séries (colonnes) "
      ]
    },
    {
      "cell_type": "code",
      "execution_count": null,
      "id": "behavioral-basic",
      "metadata": {
        "id": "behavioral-basic",
        "outputId": "81f14245-f8ac-4c6d-9c0a-33f7d1f75c0a"
      },
      "outputs": [
        {
          "data": {
            "text/plain": [
              "marque        0\n",
              "carburant     2\n",
              "traction      0\n",
              "nbre_porte    3\n",
              "puissance     0\n",
              "prix          0\n",
              "dtype: int64"
            ]
          },
          "execution_count": 5,
          "metadata": {},
          "output_type": "execute_result"
        }
      ],
      "source": [
        "# Vérifier la présence de valeurs manquantes et le cas échéant, indiquer le nombre de valeur manquantes\n",
        "df.isnull().sum()"
      ]
    },
    {
      "cell_type": "code",
      "execution_count": null,
      "id": "material-citizenship",
      "metadata": {
        "id": "material-citizenship",
        "outputId": "30a5239b-a8ae-4883-cba0-06cda6c8e3e2"
      },
      "outputs": [
        {
          "name": "stdout",
          "output_type": "stream",
          "text": [
            "marque        0.00\n",
            "carburant     2.41\n",
            "traction      0.00\n",
            "nbre_porte    3.61\n",
            "puissance     0.00\n",
            "prix          0.00\n",
            "dtype: float64\n"
          ]
        }
      ],
      "source": [
        "# En s'aidant du shape, afficher le pourcentage de valeurs manquantes pour chaque série du dataframe\n",
        "percentage = (df.isnull().sum() / df.shape[0]) * 100\n",
        "\n",
        "# afficher 2 chiffres après la virgule\n",
        "print(round(percentage, ndigits = 2))"
      ]
    },
    {
      "cell_type": "markdown",
      "id": "eleven-phase",
      "metadata": {
        "id": "eleven-phase"
      },
      "source": [
        "## pratique 2"
      ]
    },
    {
      "cell_type": "markdown",
      "id": "numerical-southeast",
      "metadata": {
        "id": "numerical-southeast"
      },
      "source": [
        "### Afficher les valeurs manquantes de la série nbre_porte"
      ]
    },
    {
      "cell_type": "markdown",
      "id": "rising-engineering",
      "metadata": {
        "id": "rising-engineering"
      },
      "source": [
        "* Notes:\n",
        "    * On va commencer par caractériser les valeurs manquantes\n",
        "    * comme le nombre de valeurs manquantes est faible, on peut se permettre de les afficher, pour cela, on va utiliser le booléen indexing comme on a pu le voir dans la vidéo.\n",
        "    * la méthode .isnull() va retourner une série de False et True, quand on réinjecte le tout dans le dataframe, on obtiendra que les lignes égales à des True"
      ]
    },
    {
      "cell_type": "code",
      "execution_count": null,
      "id": "yellow-brook",
      "metadata": {
        "id": "yellow-brook",
        "outputId": "ad319351-6422-4e84-d82b-70314e1d01bb"
      },
      "outputs": [
        {
          "data": {
            "text/html": [
              "<div>\n",
              "<style scoped>\n",
              "    .dataframe tbody tr th:only-of-type {\n",
              "        vertical-align: middle;\n",
              "    }\n",
              "\n",
              "    .dataframe tbody tr th {\n",
              "        vertical-align: top;\n",
              "    }\n",
              "\n",
              "    .dataframe thead th {\n",
              "        text-align: right;\n",
              "    }\n",
              "</style>\n",
              "<table border=\"1\" class=\"dataframe\">\n",
              "  <thead>\n",
              "    <tr style=\"text-align: right;\">\n",
              "      <th></th>\n",
              "      <th>marque</th>\n",
              "      <th>carburant</th>\n",
              "      <th>traction</th>\n",
              "      <th>nbre_porte</th>\n",
              "      <th>puissance</th>\n",
              "      <th>prix</th>\n",
              "    </tr>\n",
              "  </thead>\n",
              "  <tbody>\n",
              "    <tr>\n",
              "      <th>16</th>\n",
              "      <td>honda</td>\n",
              "      <td>gaz</td>\n",
              "      <td>fwd</td>\n",
              "      <td>NaN</td>\n",
              "      <td>60.0</td>\n",
              "      <td>5399.0</td>\n",
              "    </tr>\n",
              "    <tr>\n",
              "      <th>21</th>\n",
              "      <td>honda</td>\n",
              "      <td>gaz</td>\n",
              "      <td>fwd</td>\n",
              "      <td>NaN</td>\n",
              "      <td>86.0</td>\n",
              "      <td>7895.0</td>\n",
              "    </tr>\n",
              "    <tr>\n",
              "      <th>40</th>\n",
              "      <td>mazda</td>\n",
              "      <td>diesel</td>\n",
              "      <td>fwd</td>\n",
              "      <td>NaN</td>\n",
              "      <td>64.0</td>\n",
              "      <td>10795.0</td>\n",
              "    </tr>\n",
              "  </tbody>\n",
              "</table>\n",
              "</div>"
            ],
            "text/plain": [
              "   marque carburant traction nbre_porte  puissance     prix\n",
              "16  honda       gaz      fwd        NaN       60.0   5399.0\n",
              "21  honda       gaz      fwd        NaN       86.0   7895.0\n",
              "40  mazda    diesel      fwd        NaN       64.0  10795.0"
            ]
          },
          "execution_count": 15,
          "metadata": {},
          "output_type": "execute_result"
        }
      ],
      "source": [
        "# Afficher pour la série nbre_porte, les enregistrements contenants des valeurs manquantes\n",
        "df[df[\"nbre_porte\"].isnull()]"
      ]
    },
    {
      "cell_type": "markdown",
      "id": "referenced-scheme",
      "metadata": {
        "id": "referenced-scheme"
      },
      "source": [
        "### Remplacer les valeurs manquantes dans la série nbre_porte"
      ]
    },
    {
      "cell_type": "markdown",
      "id": "boolean-dinner",
      "metadata": {
        "id": "boolean-dinner"
      },
      "source": [
        "* Attention, on a des valeurs manquantes pour deux marques différentes, on doit donc les considérer indépendamment l'une de l'autre lors du imputing\n",
        "* La série **nbre_porte** est catégorielle, on va donc choisir la stratégie **most_frequent** qui semble plus judicieuse que la médiane ou encore la moyenne."
      ]
    },
    {
      "cell_type": "code",
      "execution_count": null,
      "id": "literary-ghana",
      "metadata": {
        "id": "literary-ghana"
      },
      "outputs": [],
      "source": [
        "# importer le module SimpleImputer\n",
        "from sklearn.impute import SimpleImputer"
      ]
    },
    {
      "cell_type": "code",
      "execution_count": null,
      "id": "latter-penalty",
      "metadata": {
        "id": "latter-penalty"
      },
      "outputs": [],
      "source": [
        "# creer l'objet simpleImputer\n",
        "imp = SimpleImputer(strategy=\"most_frequent\")"
      ]
    },
    {
      "cell_type": "code",
      "execution_count": null,
      "id": "alien-hunger",
      "metadata": {
        "id": "alien-hunger"
      },
      "outputs": [],
      "source": [
        "# créer un dataframe pour chaque marque qui nous intéresse\n",
        "honda = df[df.marque ==\"honda\"]\n",
        "mazda = df[df.marque ==\"mazda\"]"
      ]
    },
    {
      "cell_type": "code",
      "execution_count": null,
      "id": "norwegian-pickup",
      "metadata": {
        "id": "norwegian-pickup"
      },
      "outputs": [],
      "source": [
        "# faire un fit_transform et stocker la correction\n",
        "corr_honda = imp.fit_transform(honda)[:,3]\n",
        "corr_mazda = imp.fit_transform(mazda)[:,3]"
      ]
    },
    {
      "cell_type": "code",
      "execution_count": null,
      "id": "logical-width",
      "metadata": {
        "id": "logical-width"
      },
      "outputs": [],
      "source": [
        "# affecter les corrections\n",
        "df.loc[df.marque == \"honda\", \"nbre_porte\"] = corr_honda\n",
        "df.loc[df.marque == \"mazda\", \"nbre_porte\"] = corr_mazda"
      ]
    },
    {
      "cell_type": "code",
      "execution_count": null,
      "id": "atlantic-annual",
      "metadata": {
        "id": "atlantic-annual",
        "outputId": "996a8e28-c066-453d-ce11-cdfab749c582"
      },
      "outputs": [
        {
          "data": {
            "text/plain": [
              "marque        0\n",
              "carburant     2\n",
              "traction      0\n",
              "nbre_porte    0\n",
              "puissance     0\n",
              "prix          0\n",
              "dtype: int64"
            ]
          },
          "execution_count": 21,
          "metadata": {},
          "output_type": "execute_result"
        }
      ],
      "source": [
        "# verification\n",
        "df.isnull().sum()"
      ]
    },
    {
      "cell_type": "markdown",
      "id": "robust-theorem",
      "metadata": {
        "id": "robust-theorem"
      },
      "source": [
        "### Remplacement des valeurs manquantes pour la série carburant"
      ]
    },
    {
      "cell_type": "code",
      "execution_count": null,
      "id": "dependent-grass",
      "metadata": {
        "id": "dependent-grass",
        "outputId": "e9c2be0e-c8e9-4f10-b223-0918bb84b891"
      },
      "outputs": [
        {
          "data": {
            "text/html": [
              "<div>\n",
              "<style scoped>\n",
              "    .dataframe tbody tr th:only-of-type {\n",
              "        vertical-align: middle;\n",
              "    }\n",
              "\n",
              "    .dataframe tbody tr th {\n",
              "        vertical-align: top;\n",
              "    }\n",
              "\n",
              "    .dataframe thead th {\n",
              "        text-align: right;\n",
              "    }\n",
              "</style>\n",
              "<table border=\"1\" class=\"dataframe\">\n",
              "  <thead>\n",
              "    <tr style=\"text-align: right;\">\n",
              "      <th></th>\n",
              "      <th>marque</th>\n",
              "      <th>carburant</th>\n",
              "      <th>traction</th>\n",
              "      <th>nbre_porte</th>\n",
              "      <th>puissance</th>\n",
              "      <th>prix</th>\n",
              "    </tr>\n",
              "  </thead>\n",
              "  <tbody>\n",
              "    <tr>\n",
              "      <th>49</th>\n",
              "      <td>renault</td>\n",
              "      <td>NaN</td>\n",
              "      <td>fwd</td>\n",
              "      <td>quatre</td>\n",
              "      <td>69.0</td>\n",
              "      <td>9295.0</td>\n",
              "    </tr>\n",
              "    <tr>\n",
              "      <th>50</th>\n",
              "      <td>renault</td>\n",
              "      <td>NaN</td>\n",
              "      <td>fwd</td>\n",
              "      <td>deux</td>\n",
              "      <td>79.0</td>\n",
              "      <td>9895.0</td>\n",
              "    </tr>\n",
              "  </tbody>\n",
              "</table>\n",
              "</div>"
            ],
            "text/plain": [
              "     marque carburant traction nbre_porte  puissance    prix\n",
              "49  renault       NaN      fwd     quatre       69.0  9295.0\n",
              "50  renault       NaN      fwd       deux       79.0  9895.0"
            ]
          },
          "execution_count": 22,
          "metadata": {},
          "output_type": "execute_result"
        }
      ],
      "source": [
        "# afficher les valeurs manquantes dans un dataframe\n",
        "df[df.carburant.isnull()]"
      ]
    },
    {
      "cell_type": "markdown",
      "id": "related-glenn",
      "metadata": {
        "id": "related-glenn"
      },
      "source": [
        "* Note:\n",
        "    * Toutes les valeurs manquantes concerne la marque renault, on peut soit supprimer ces deux lignes mais on perd de l'information ou bien aller chercher la valeur de remplacement à partir d'une autre source de donnée.\n",
        "    * Par exemple après quelques recherche on peut trouver que pour cette marque de voiture le carburant le plus fréquent est gaz"
      ]
    },
    {
      "cell_type": "code",
      "execution_count": null,
      "id": "moderate-embassy",
      "metadata": {
        "id": "moderate-embassy"
      },
      "outputs": [],
      "source": [
        "# Affecter le mot gaz aux valeurs manquantes\n",
        "df.loc[df.marque == \"renault\", \"carburant\"] = \"gaz\""
      ]
    },
    {
      "cell_type": "code",
      "execution_count": null,
      "id": "black-national",
      "metadata": {
        "id": "black-national",
        "outputId": "d36e104d-b1b1-4ba5-c94f-012c04286063"
      },
      "outputs": [
        {
          "data": {
            "text/plain": [
              "marque        0\n",
              "carburant     0\n",
              "traction      0\n",
              "nbre_porte    0\n",
              "puissance     0\n",
              "prix          0\n",
              "dtype: int64"
            ]
          },
          "execution_count": 24,
          "metadata": {},
          "output_type": "execute_result"
        }
      ],
      "source": [
        "# verification \n",
        "df.isnull().sum()"
      ]
    },
    {
      "cell_type": "markdown",
      "id": "foreign-freeze",
      "metadata": {
        "id": "foreign-freeze"
      },
      "source": [
        "* Notre dataframe ne contient plus de valeurs manquantes"
      ]
    }
  ],
  "metadata": {
    "kernelspec": {
      "display_name": "Python 3",
      "language": "python",
      "name": "python3"
    },
    "language_info": {
      "codemirror_mode": {
        "name": "ipython",
        "version": 3
      },
      "file_extension": ".py",
      "mimetype": "text/x-python",
      "name": "python",
      "nbconvert_exporter": "python",
      "pygments_lexer": "ipython3",
      "version": "3.8.5"
    },
    "toc": {
      "base_numbering": 1,
      "nav_menu": {},
      "number_sections": false,
      "sideBar": true,
      "skip_h1_title": false,
      "title_cell": "Table of Contents",
      "title_sidebar": "Contents",
      "toc_cell": false,
      "toc_position": {
        "height": "755px",
        "left": "83px",
        "top": "145.125px",
        "width": "384px"
      },
      "toc_section_display": true,
      "toc_window_display": true
    },
    "colab": {
      "name": "pratique_imputing.ipynb",
      "provenance": [],
      "include_colab_link": true
    }
  },
  "nbformat": 4,
  "nbformat_minor": 5
}