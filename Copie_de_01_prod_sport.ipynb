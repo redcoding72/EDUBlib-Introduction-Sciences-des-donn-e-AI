{
  "cells": [
    {
      "cell_type": "markdown",
      "metadata": {
        "id": "view-in-github",
        "colab_type": "text"
      },
      "source": [
        "<a href=\"https://colab.research.google.com/github/redcoding72/EDUBlib-Introduction-Sciences-des-donn-e-AI/blob/main/Copie_de_01_prod_sport.ipynb\" target=\"_parent\"><img src=\"https://colab.research.google.com/assets/colab-badge.svg\" alt=\"Open In Colab\"/></a>"
      ]
    },
    {
      "cell_type": "markdown",
      "metadata": {
        "toc": true,
        "id": "cAYDH7BLloXR"
      },
      "source": [
        "<h1>Tables des matières<span class=\"tocSkip\"></span></h1>\n",
        "<div class=\"toc\"><ul class=\"toc-item\"><li><span><a href=\"#Tutoriel-complet-Regression-lineaire\" data-toc-modified-id=\"Tutoriel-complet-Regression-lineaire-1\"><span class=\"toc-item-num\">1&nbsp;&nbsp;</span>Tutoriel complet Regression lineaire</a></span><ul class=\"toc-item\"><li><span><a href=\"#Collecter-data-en-utilisant-pandas\" data-toc-modified-id=\"Collecter-data-en-utilisant-pandas-1.1\"><span class=\"toc-item-num\">1.1&nbsp;&nbsp;</span>Collecter data en utilisant pandas</a></span></li></ul></li><li><span><a href=\"#identification-des-descripteurs,-cible-et-observations\" data-toc-modified-id=\"identification-des-descripteurs,-cible-et-observations-2\"><span class=\"toc-item-num\">2&nbsp;&nbsp;</span>identification des descripteurs, cible et observations</a></span></li><li><span><a href=\"#Tracé-des-relations-entre-les-descripteurs-et-la-cible\" data-toc-modified-id=\"Tracé-des-relations-entre-les-descripteurs-et-la-cible-3\"><span class=\"toc-item-num\">3&nbsp;&nbsp;</span>Tracé des relations entre les descripteurs et la cible</a></span></li><li><span><a href=\"#Tracé-des-correlations-entre-les-différents-descripteurs-et-cible\" data-toc-modified-id=\"Tracé-des-correlations-entre-les-différents-descripteurs-et-cible-4\"><span class=\"toc-item-num\">4&nbsp;&nbsp;</span>Tracé des correlations entre les différents descripteurs et cible</a></span></li><li><span><a href=\"#Développement-du-modele-linear-regression\" data-toc-modified-id=\"Développement-du-modele-linear-regression-5\"><span class=\"toc-item-num\">5&nbsp;&nbsp;</span>Développement du modele linear regression</a></span></li></ul></div>"
      ]
    },
    {
      "cell_type": "markdown",
      "metadata": {
        "id": "uhTR8fMmloXX"
      },
      "source": [
        "# Tutoriel complet Regression lineaire"
      ]
    },
    {
      "cell_type": "markdown",
      "metadata": {
        "id": "zWyCQG3BloXZ"
      },
      "source": [
        "## Collecter data en utilisant pandas"
      ]
    },
    {
      "cell_type": "code",
      "execution_count": 1,
      "metadata": {
        "id": "nwumUtHoloXa"
      },
      "outputs": [],
      "source": [
        "# modules nécessaires pour le notebook\n",
        "import pandas as pd\n",
        "import matplotlib.pyplot as plt"
      ]
    },
    {
      "cell_type": "code",
      "execution_count": 3,
      "metadata": {
        "id": "fZspeEOkloXc",
        "colab": {
          "base_uri": "https://localhost:8080/",
          "height": 206
        },
        "outputId": "e1f23bae-a22a-44b7-af81-6e445f6ecd4e"
      },
      "outputs": [
        {
          "output_type": "execute_result",
          "data": {
            "text/plain": [
              "    velo  tapis  halteres  pct_muscle\n",
              "0  168.4    7.1      12.8        11.7\n",
              "1  142.9   29.3      12.6        15.0\n",
              "2  206.8    5.2      19.4        12.2\n",
              "3  137.9   46.4      59.0        19.2\n",
              "4   70.6   16.0      40.8        10.5"
            ],
            "text/html": [
              "\n",
              "  <div id=\"df-2c9e736b-a9e2-46df-bca4-d9d061e71a53\">\n",
              "    <div class=\"colab-df-container\">\n",
              "      <div>\n",
              "<style scoped>\n",
              "    .dataframe tbody tr th:only-of-type {\n",
              "        vertical-align: middle;\n",
              "    }\n",
              "\n",
              "    .dataframe tbody tr th {\n",
              "        vertical-align: top;\n",
              "    }\n",
              "\n",
              "    .dataframe thead th {\n",
              "        text-align: right;\n",
              "    }\n",
              "</style>\n",
              "<table border=\"1\" class=\"dataframe\">\n",
              "  <thead>\n",
              "    <tr style=\"text-align: right;\">\n",
              "      <th></th>\n",
              "      <th>velo</th>\n",
              "      <th>tapis</th>\n",
              "      <th>halteres</th>\n",
              "      <th>pct_muscle</th>\n",
              "    </tr>\n",
              "  </thead>\n",
              "  <tbody>\n",
              "    <tr>\n",
              "      <th>0</th>\n",
              "      <td>168.4</td>\n",
              "      <td>7.1</td>\n",
              "      <td>12.8</td>\n",
              "      <td>11.7</td>\n",
              "    </tr>\n",
              "    <tr>\n",
              "      <th>1</th>\n",
              "      <td>142.9</td>\n",
              "      <td>29.3</td>\n",
              "      <td>12.6</td>\n",
              "      <td>15.0</td>\n",
              "    </tr>\n",
              "    <tr>\n",
              "      <th>2</th>\n",
              "      <td>206.8</td>\n",
              "      <td>5.2</td>\n",
              "      <td>19.4</td>\n",
              "      <td>12.2</td>\n",
              "    </tr>\n",
              "    <tr>\n",
              "      <th>3</th>\n",
              "      <td>137.9</td>\n",
              "      <td>46.4</td>\n",
              "      <td>59.0</td>\n",
              "      <td>19.2</td>\n",
              "    </tr>\n",
              "    <tr>\n",
              "      <th>4</th>\n",
              "      <td>70.6</td>\n",
              "      <td>16.0</td>\n",
              "      <td>40.8</td>\n",
              "      <td>10.5</td>\n",
              "    </tr>\n",
              "  </tbody>\n",
              "</table>\n",
              "</div>\n",
              "      <button class=\"colab-df-convert\" onclick=\"convertToInteractive('df-2c9e736b-a9e2-46df-bca4-d9d061e71a53')\"\n",
              "              title=\"Convert this dataframe to an interactive table.\"\n",
              "              style=\"display:none;\">\n",
              "        \n",
              "  <svg xmlns=\"http://www.w3.org/2000/svg\" height=\"24px\"viewBox=\"0 0 24 24\"\n",
              "       width=\"24px\">\n",
              "    <path d=\"M0 0h24v24H0V0z\" fill=\"none\"/>\n",
              "    <path d=\"M18.56 5.44l.94 2.06.94-2.06 2.06-.94-2.06-.94-.94-2.06-.94 2.06-2.06.94zm-11 1L8.5 8.5l.94-2.06 2.06-.94-2.06-.94L8.5 2.5l-.94 2.06-2.06.94zm10 10l.94 2.06.94-2.06 2.06-.94-2.06-.94-.94-2.06-.94 2.06-2.06.94z\"/><path d=\"M17.41 7.96l-1.37-1.37c-.4-.4-.92-.59-1.43-.59-.52 0-1.04.2-1.43.59L10.3 9.45l-7.72 7.72c-.78.78-.78 2.05 0 2.83L4 21.41c.39.39.9.59 1.41.59.51 0 1.02-.2 1.41-.59l7.78-7.78 2.81-2.81c.8-.78.8-2.07 0-2.86zM5.41 20L4 18.59l7.72-7.72 1.47 1.35L5.41 20z\"/>\n",
              "  </svg>\n",
              "      </button>\n",
              "      \n",
              "  <style>\n",
              "    .colab-df-container {\n",
              "      display:flex;\n",
              "      flex-wrap:wrap;\n",
              "      gap: 12px;\n",
              "    }\n",
              "\n",
              "    .colab-df-convert {\n",
              "      background-color: #E8F0FE;\n",
              "      border: none;\n",
              "      border-radius: 50%;\n",
              "      cursor: pointer;\n",
              "      display: none;\n",
              "      fill: #1967D2;\n",
              "      height: 32px;\n",
              "      padding: 0 0 0 0;\n",
              "      width: 32px;\n",
              "    }\n",
              "\n",
              "    .colab-df-convert:hover {\n",
              "      background-color: #E2EBFA;\n",
              "      box-shadow: 0px 1px 2px rgba(60, 64, 67, 0.3), 0px 1px 3px 1px rgba(60, 64, 67, 0.15);\n",
              "      fill: #174EA6;\n",
              "    }\n",
              "\n",
              "    [theme=dark] .colab-df-convert {\n",
              "      background-color: #3B4455;\n",
              "      fill: #D2E3FC;\n",
              "    }\n",
              "\n",
              "    [theme=dark] .colab-df-convert:hover {\n",
              "      background-color: #434B5C;\n",
              "      box-shadow: 0px 1px 3px 1px rgba(0, 0, 0, 0.15);\n",
              "      filter: drop-shadow(0px 1px 2px rgba(0, 0, 0, 0.3));\n",
              "      fill: #FFFFFF;\n",
              "    }\n",
              "  </style>\n",
              "\n",
              "      <script>\n",
              "        const buttonEl =\n",
              "          document.querySelector('#df-2c9e736b-a9e2-46df-bca4-d9d061e71a53 button.colab-df-convert');\n",
              "        buttonEl.style.display =\n",
              "          google.colab.kernel.accessAllowed ? 'block' : 'none';\n",
              "\n",
              "        async function convertToInteractive(key) {\n",
              "          const element = document.querySelector('#df-2c9e736b-a9e2-46df-bca4-d9d061e71a53');\n",
              "          const dataTable =\n",
              "            await google.colab.kernel.invokeFunction('convertToInteractive',\n",
              "                                                     [key], {});\n",
              "          if (!dataTable) return;\n",
              "\n",
              "          const docLinkHtml = 'Like what you see? Visit the ' +\n",
              "            '<a target=\"_blank\" href=https://colab.research.google.com/notebooks/data_table.ipynb>data table notebook</a>'\n",
              "            + ' to learn more about interactive tables.';\n",
              "          element.innerHTML = '';\n",
              "          dataTable['output_type'] = 'display_data';\n",
              "          await google.colab.output.renderOutput(dataTable, element);\n",
              "          const docLink = document.createElement('div');\n",
              "          docLink.innerHTML = docLinkHtml;\n",
              "          element.appendChild(docLink);\n",
              "        }\n",
              "      </script>\n",
              "    </div>\n",
              "  </div>\n",
              "  "
            ]
          },
          "metadata": {},
          "execution_count": 3
        }
      ],
      "source": [
        "# lire le fichier de données\n",
        "#utiliser le param index_col: Column to use as the row labels of the DataFrame\n",
        "URL_sports   = 'https://drive.google.com/file/d/1lgplZcn7U122oN3smsPyrOfhDPRIY5E_/view'\n",
        "data_sport =  'https://drive.google.com/uc?export=download&id='+URL_sports.split('/')[-2]\n",
        "df = pd.read_csv(data_sport, index_col=0)\n",
        "df.head()"
      ]
    },
    {
      "cell_type": "code",
      "execution_count": 4,
      "metadata": {
        "id": "MUw7GF_hloXe",
        "outputId": "8c4d8c48-37cf-44ae-b9ec-c95363010eea",
        "colab": {
          "base_uri": "https://localhost:8080/",
          "height": 300
        }
      },
      "outputs": [
        {
          "output_type": "execute_result",
          "data": {
            "text/plain": [
              "             velo       tapis    halteres  pct_muscle\n",
              "count  160.000000  160.000000  160.000000  160.000000\n",
              "mean   145.581875   23.230000   30.398750   14.070625\n",
              "std     86.003289   14.969116   21.942481    5.400054\n",
              "min      0.700000    0.000000    0.300000    1.600000\n",
              "25%     72.700000    9.750000   12.750000   10.300000\n",
              "50%    139.900000   22.000000   25.600000   12.800000\n",
              "75%    219.925000   36.650000   44.500000   17.700000\n",
              "max    296.400000   49.600000  114.000000   27.000000"
            ],
            "text/html": [
              "\n",
              "  <div id=\"df-9db446a1-96cf-4718-8069-b4355144d48a\">\n",
              "    <div class=\"colab-df-container\">\n",
              "      <div>\n",
              "<style scoped>\n",
              "    .dataframe tbody tr th:only-of-type {\n",
              "        vertical-align: middle;\n",
              "    }\n",
              "\n",
              "    .dataframe tbody tr th {\n",
              "        vertical-align: top;\n",
              "    }\n",
              "\n",
              "    .dataframe thead th {\n",
              "        text-align: right;\n",
              "    }\n",
              "</style>\n",
              "<table border=\"1\" class=\"dataframe\">\n",
              "  <thead>\n",
              "    <tr style=\"text-align: right;\">\n",
              "      <th></th>\n",
              "      <th>velo</th>\n",
              "      <th>tapis</th>\n",
              "      <th>halteres</th>\n",
              "      <th>pct_muscle</th>\n",
              "    </tr>\n",
              "  </thead>\n",
              "  <tbody>\n",
              "    <tr>\n",
              "      <th>count</th>\n",
              "      <td>160.000000</td>\n",
              "      <td>160.000000</td>\n",
              "      <td>160.000000</td>\n",
              "      <td>160.000000</td>\n",
              "    </tr>\n",
              "    <tr>\n",
              "      <th>mean</th>\n",
              "      <td>145.581875</td>\n",
              "      <td>23.230000</td>\n",
              "      <td>30.398750</td>\n",
              "      <td>14.070625</td>\n",
              "    </tr>\n",
              "    <tr>\n",
              "      <th>std</th>\n",
              "      <td>86.003289</td>\n",
              "      <td>14.969116</td>\n",
              "      <td>21.942481</td>\n",
              "      <td>5.400054</td>\n",
              "    </tr>\n",
              "    <tr>\n",
              "      <th>min</th>\n",
              "      <td>0.700000</td>\n",
              "      <td>0.000000</td>\n",
              "      <td>0.300000</td>\n",
              "      <td>1.600000</td>\n",
              "    </tr>\n",
              "    <tr>\n",
              "      <th>25%</th>\n",
              "      <td>72.700000</td>\n",
              "      <td>9.750000</td>\n",
              "      <td>12.750000</td>\n",
              "      <td>10.300000</td>\n",
              "    </tr>\n",
              "    <tr>\n",
              "      <th>50%</th>\n",
              "      <td>139.900000</td>\n",
              "      <td>22.000000</td>\n",
              "      <td>25.600000</td>\n",
              "      <td>12.800000</td>\n",
              "    </tr>\n",
              "    <tr>\n",
              "      <th>75%</th>\n",
              "      <td>219.925000</td>\n",
              "      <td>36.650000</td>\n",
              "      <td>44.500000</td>\n",
              "      <td>17.700000</td>\n",
              "    </tr>\n",
              "    <tr>\n",
              "      <th>max</th>\n",
              "      <td>296.400000</td>\n",
              "      <td>49.600000</td>\n",
              "      <td>114.000000</td>\n",
              "      <td>27.000000</td>\n",
              "    </tr>\n",
              "  </tbody>\n",
              "</table>\n",
              "</div>\n",
              "      <button class=\"colab-df-convert\" onclick=\"convertToInteractive('df-9db446a1-96cf-4718-8069-b4355144d48a')\"\n",
              "              title=\"Convert this dataframe to an interactive table.\"\n",
              "              style=\"display:none;\">\n",
              "        \n",
              "  <svg xmlns=\"http://www.w3.org/2000/svg\" height=\"24px\"viewBox=\"0 0 24 24\"\n",
              "       width=\"24px\">\n",
              "    <path d=\"M0 0h24v24H0V0z\" fill=\"none\"/>\n",
              "    <path d=\"M18.56 5.44l.94 2.06.94-2.06 2.06-.94-2.06-.94-.94-2.06-.94 2.06-2.06.94zm-11 1L8.5 8.5l.94-2.06 2.06-.94-2.06-.94L8.5 2.5l-.94 2.06-2.06.94zm10 10l.94 2.06.94-2.06 2.06-.94-2.06-.94-.94-2.06-.94 2.06-2.06.94z\"/><path d=\"M17.41 7.96l-1.37-1.37c-.4-.4-.92-.59-1.43-.59-.52 0-1.04.2-1.43.59L10.3 9.45l-7.72 7.72c-.78.78-.78 2.05 0 2.83L4 21.41c.39.39.9.59 1.41.59.51 0 1.02-.2 1.41-.59l7.78-7.78 2.81-2.81c.8-.78.8-2.07 0-2.86zM5.41 20L4 18.59l7.72-7.72 1.47 1.35L5.41 20z\"/>\n",
              "  </svg>\n",
              "      </button>\n",
              "      \n",
              "  <style>\n",
              "    .colab-df-container {\n",
              "      display:flex;\n",
              "      flex-wrap:wrap;\n",
              "      gap: 12px;\n",
              "    }\n",
              "\n",
              "    .colab-df-convert {\n",
              "      background-color: #E8F0FE;\n",
              "      border: none;\n",
              "      border-radius: 50%;\n",
              "      cursor: pointer;\n",
              "      display: none;\n",
              "      fill: #1967D2;\n",
              "      height: 32px;\n",
              "      padding: 0 0 0 0;\n",
              "      width: 32px;\n",
              "    }\n",
              "\n",
              "    .colab-df-convert:hover {\n",
              "      background-color: #E2EBFA;\n",
              "      box-shadow: 0px 1px 2px rgba(60, 64, 67, 0.3), 0px 1px 3px 1px rgba(60, 64, 67, 0.15);\n",
              "      fill: #174EA6;\n",
              "    }\n",
              "\n",
              "    [theme=dark] .colab-df-convert {\n",
              "      background-color: #3B4455;\n",
              "      fill: #D2E3FC;\n",
              "    }\n",
              "\n",
              "    [theme=dark] .colab-df-convert:hover {\n",
              "      background-color: #434B5C;\n",
              "      box-shadow: 0px 1px 3px 1px rgba(0, 0, 0, 0.15);\n",
              "      filter: drop-shadow(0px 1px 2px rgba(0, 0, 0, 0.3));\n",
              "      fill: #FFFFFF;\n",
              "    }\n",
              "  </style>\n",
              "\n",
              "      <script>\n",
              "        const buttonEl =\n",
              "          document.querySelector('#df-9db446a1-96cf-4718-8069-b4355144d48a button.colab-df-convert');\n",
              "        buttonEl.style.display =\n",
              "          google.colab.kernel.accessAllowed ? 'block' : 'none';\n",
              "\n",
              "        async function convertToInteractive(key) {\n",
              "          const element = document.querySelector('#df-9db446a1-96cf-4718-8069-b4355144d48a');\n",
              "          const dataTable =\n",
              "            await google.colab.kernel.invokeFunction('convertToInteractive',\n",
              "                                                     [key], {});\n",
              "          if (!dataTable) return;\n",
              "\n",
              "          const docLinkHtml = 'Like what you see? Visit the ' +\n",
              "            '<a target=\"_blank\" href=https://colab.research.google.com/notebooks/data_table.ipynb>data table notebook</a>'\n",
              "            + ' to learn more about interactive tables.';\n",
              "          element.innerHTML = '';\n",
              "          dataTable['output_type'] = 'display_data';\n",
              "          await google.colab.output.renderOutput(dataTable, element);\n",
              "          const docLink = document.createElement('div');\n",
              "          docLink.innerHTML = docLinkHtml;\n",
              "          element.appendChild(docLink);\n",
              "        }\n",
              "      </script>\n",
              "    </div>\n",
              "  </div>\n",
              "  "
            ]
          },
          "metadata": {},
          "execution_count": 4
        }
      ],
      "source": [
        "df.describe()"
      ]
    },
    {
      "cell_type": "code",
      "execution_count": 6,
      "metadata": {
        "id": "LBqGWCBwloXe"
      },
      "outputs": [],
      "source": [
        "rows = df.sample(frac =.80)\n",
        "rows.head()\n",
        "rows.reset_index(drop=True, inplace=True)\n",
        "#sauvegarder le data\n",
        "rows.to_csv(\"data_sport.csv\",index=True)"
      ]
    },
    {
      "cell_type": "markdown",
      "metadata": {
        "id": "2S2H_MumloXg"
      },
      "source": [
        "# identification des descripteurs, cible et observations"
      ]
    },
    {
      "cell_type": "markdown",
      "metadata": {
        "id": "L3Kr3A0rloXg"
      },
      "source": [
        "Quels sont les descripteurs? On a 3 descripteurs dans ce dataset qui sont:"
      ]
    },
    {
      "cell_type": "markdown",
      "metadata": {
        "id": "tmXHH7CrloXh"
      },
      "source": [
        "* Entrainement sur vélo stationnaire\n",
        "* Entrainement sur tapis roulant\n",
        "* Utilisation de haltères et poids"
      ]
    },
    {
      "cell_type": "markdown",
      "metadata": {
        "id": "hKg-B2kUloXi"
      },
      "source": [
        "Quelle est la cible?"
      ]
    },
    {
      "cell_type": "markdown",
      "metadata": {
        "id": "5VfZ075GloXj"
      },
      "source": [
        "* Pct_musculaire: pourcentage d'augmentation de la masse musculaire"
      ]
    },
    {
      "cell_type": "markdown",
      "metadata": {
        "id": "BaUIgPXRloXj"
      },
      "source": [
        "Quelle est la forme ou shape du dataframe?"
      ]
    },
    {
      "cell_type": "code",
      "execution_count": 7,
      "metadata": {
        "id": "bIfuOmCkloXj",
        "outputId": "dae6b0df-1319-4bc9-9ae5-04ab96d0fd0a",
        "colab": {
          "base_uri": "https://localhost:8080/"
        }
      },
      "outputs": [
        {
          "output_type": "execute_result",
          "data": {
            "text/plain": [
              "(160, 4)"
            ]
          },
          "metadata": {},
          "execution_count": 7
        }
      ],
      "source": [
        "df.shape"
      ]
    },
    {
      "cell_type": "markdown",
      "metadata": {
        "id": "YAD-DAElloXl"
      },
      "source": [
        "On voit que l'on a 160 observations avec 4 colonnes dont 3 sont des descripteurs"
      ]
    },
    {
      "cell_type": "markdown",
      "metadata": {
        "id": "BXRGJIC0loXl"
      },
      "source": [
        "# Tracé des relations entre les descripteurs et la cible"
      ]
    },
    {
      "cell_type": "code",
      "execution_count": 8,
      "metadata": {
        "id": "uy3M2Q3YloXm",
        "outputId": "9b1663be-6dfa-40f4-ddf6-f1e915b1cee0",
        "colab": {
          "base_uri": "https://localhost:8080/",
          "height": 515
        }
      },
      "outputs": [
        {
          "output_type": "execute_result",
          "data": {
            "text/plain": [
              "<matplotlib.axes._subplots.AxesSubplot at 0x7f20a23ed910>"
            ]
          },
          "metadata": {},
          "execution_count": 8
        },
        {
          "output_type": "display_data",
          "data": {
            "text/plain": [
              "<Figure size 1152x576 with 3 Axes>"
            ],
            "image/png": "[encoded data removed]"
          },
          "metadata": {
            "needs_background": "light"
          }
        }
      ],
      "source": [
        "#utilisation d'une figure avec 3 plots aligné sur une ligne\n",
        "fig, axes = plt.subplots(1,3,sharey=False)\n",
        "df.plot(kind='scatter', x='velo', y='pct_muscle', \n",
        "        ax=axes[0], figsize=(16,8))\n",
        "df.plot(kind='scatter', x='tapis', y='pct_muscle', \n",
        "        ax=axes[1], figsize=(16,8))\n",
        "df.plot(kind='scatter', x='halteres', y='pct_muscle', \n",
        "        ax=axes[2], figsize=(16,8))"
      ]
    },
    {
      "cell_type": "markdown",
      "metadata": {
        "id": "aNwGUBt8loXm"
      },
      "source": [
        "On voit au niveau des graphes qu'il existe une certaine relation linéaire entre Vélo et pct_muscle ainsi que Tapis et pct_muscle"
      ]
    },
    {
      "cell_type": "markdown",
      "metadata": {
        "id": "rVUj9wvyloXm"
      },
      "source": [
        "# Tracé des correlations entre les différents descripteurs et cible"
      ]
    },
    {
      "cell_type": "markdown",
      "metadata": {
        "collapsed": true,
        "id": "RDO3K8YcloXn"
      },
      "source": [
        "* On utilise ici seaborn pour avoir la matrice des correlations"
      ]
    },
    {
      "cell_type": "code",
      "execution_count": 9,
      "metadata": {
        "id": "MLBT4yPLloXn",
        "outputId": "ccbb8d57-1ce1-425c-904a-a81b8c5ab1ae",
        "colab": {
          "base_uri": "https://localhost:8080/",
          "height": 297
        }
      },
      "outputs": [
        {
          "output_type": "display_data",
          "data": {
            "text/plain": [
              "<Figure size 432x288 with 2 Axes>"
            ],
            "image/png": "[encoded data removed]"
          },
          "metadata": {
            "needs_background": "light"
          }
        }
      ],
      "source": [
        "import seaborn as sns\n",
        "#We can visualise the correlation between all the variables in the dataset using a heatmap in Seaborn\n",
        "sns.heatmap(data=df.corr().round(2), \n",
        "            cmap='coolwarm', annot=True, annot_kws={\"size\":8})\n",
        "plt.tight_layout()\n",
        "plt.show()"
      ]
    },
    {
      "cell_type": "markdown",
      "metadata": {
        "id": "F44QIByoloXo"
      },
      "source": [
        "On confirme qu'il n'y a pas vraiment de dépendance entre les descripteurs."
      ]
    },
    {
      "cell_type": "markdown",
      "metadata": {
        "id": "9xu4EaCjloXo"
      },
      "source": [
        "# Développement du modele linear regression"
      ]
    },
    {
      "cell_type": "code",
      "execution_count": 10,
      "metadata": {
        "id": "Y0VKMMGmloXo"
      },
      "outputs": [],
      "source": [
        "from sklearn.linear_model import LinearRegression\n",
        "cols_predicteurs = ['velo','tapis','halteres']\n",
        "#predicteurs\n",
        "X = df[cols_predicteurs]\n",
        "y = df.pct_muscle\n"
      ]
    },
    {
      "cell_type": "code",
      "execution_count": 11,
      "metadata": {
        "id": "NvzwnbijloXq",
        "outputId": "de76b2cd-de7a-420c-8991-ee059370dcda",
        "colab": {
          "base_uri": "https://localhost:8080/"
        }
      },
      "outputs": [
        {
          "output_type": "stream",
          "name": "stdout",
          "text": [
            "(128, 3) (128,)\n",
            "(32, 3) (32,)\n"
          ]
        }
      ],
      "source": [
        "#Effectuer la séparation Training-Test\n",
        "from sklearn import model_selection \n",
        " \n",
        "X_train, X_test, y_train, y_test = model_selection.train_test_split(X, \n",
        "                                        y , test_size = 0.2, random_state=42)\n",
        "#detail de chacun des sous-dataset\n",
        "print (X_train.shape, y_train.shape)\n",
        "print (X_test.shape, y_test.shape)"
      ]
    },
    {
      "cell_type": "code",
      "execution_count": 12,
      "metadata": {
        "id": "9yjvKPl6loXq",
        "outputId": "a5c7d4de-f48b-41bd-d501-34cabf487da0",
        "colab": {
          "base_uri": "https://localhost:8080/"
        }
      },
      "outputs": [
        {
          "output_type": "stream",
          "name": "stdout",
          "text": [
            "2.909982113373802\n",
            "[0.04583993 0.19234319 0.00047693]\n"
          ]
        }
      ],
      "source": [
        "#estimation des coeeficients du modele lineaire\n",
        "lm = LinearRegression()\n",
        "lm.fit(X_train,y_train)\n",
        "#Afficher les coefficients\n",
        "print(lm.intercept_)\n",
        "print(lm.coef_)"
      ]
    },
    {
      "cell_type": "code",
      "execution_count": 13,
      "metadata": {
        "id": "3nbkbxR8loXr",
        "outputId": "6a599672-9840-4f87-f1cf-27270edffd1b",
        "colab": {
          "base_uri": "https://localhost:8080/"
        }
      },
      "outputs": [
        {
          "output_type": "execute_result",
          "data": {
            "text/plain": [
              "[('velo', 0.04583992670169011),\n",
              " ('tapis', 0.19234319213443807),\n",
              " ('halteres', 0.00047693473161203315)]"
            ]
          },
          "metadata": {},
          "execution_count": 13
        }
      ],
      "source": [
        "#Afficher l'equation\n",
        "list(zip(cols_predicteurs, lm.coef_))\n"
      ]
    },
    {
      "cell_type": "code",
      "execution_count": null,
      "metadata": {
        "id": "YTe5JwC4loXs"
      },
      "outputs": [],
      "source": [
        "#Sauvegarder intercept et coefficient dans fichier\n",
        "#fichier rl.csv ou rl.pkl csv ou pickle (dump et load)\n"
      ]
    },
    {
      "cell_type": "code",
      "execution_count": 14,
      "metadata": {
        "id": "9VUu3edqloXs"
      },
      "outputs": [],
      "source": [
        "# proceder au test\n",
        "y_pred = lm.predict(X_test)"
      ]
    },
    {
      "cell_type": "code",
      "execution_count": 15,
      "metadata": {
        "id": "zwJDrezVloXt",
        "outputId": "e08ddde2-1714-43f1-e620-e51410b43009",
        "colab": {
          "base_uri": "https://localhost:8080/",
          "height": 363
        }
      },
      "outputs": [
        {
          "output_type": "execute_result",
          "data": {
            "text/plain": [
              "     Valeurs test  Valeurs prédites  residuels\n",
              "105          12.9             11.90   1.002594\n",
              "108          25.4             24.35   1.049655\n",
              "141          12.6             13.11  -0.509707\n",
              "55            8.1              5.76   2.342689\n",
              "94            7.0              7.97  -0.969658\n",
              "29           12.6             12.43   0.167100\n",
              "101          10.3              9.71   0.588932\n",
              "51           12.9             14.02  -1.122537\n",
              "100          13.2             12.85   0.345713\n",
              "142           5.3              8.91  -3.613062"
            ],
            "text/html": [
              "\n",
              "  <div id=\"df-36d53916-2c5b-4afd-9c71-b5ccb539282f\">\n",
              "    <div class=\"colab-df-container\">\n",
              "      <div>\n",
              "<style scoped>\n",
              "    .dataframe tbody tr th:only-of-type {\n",
              "        vertical-align: middle;\n",
              "    }\n",
              "\n",
              "    .dataframe tbody tr th {\n",
              "        vertical-align: top;\n",
              "    }\n",
              "\n",
              "    .dataframe thead th {\n",
              "        text-align: right;\n",
              "    }\n",
              "</style>\n",
              "<table border=\"1\" class=\"dataframe\">\n",
              "  <thead>\n",
              "    <tr style=\"text-align: right;\">\n",
              "      <th></th>\n",
              "      <th>Valeurs test</th>\n",
              "      <th>Valeurs prédites</th>\n",
              "      <th>residuels</th>\n",
              "    </tr>\n",
              "  </thead>\n",
              "  <tbody>\n",
              "    <tr>\n",
              "      <th>105</th>\n",
              "      <td>12.9</td>\n",
              "      <td>11.90</td>\n",
              "      <td>1.002594</td>\n",
              "    </tr>\n",
              "    <tr>\n",
              "      <th>108</th>\n",
              "      <td>25.4</td>\n",
              "      <td>24.35</td>\n",
              "      <td>1.049655</td>\n",
              "    </tr>\n",
              "    <tr>\n",
              "      <th>141</th>\n",
              "      <td>12.6</td>\n",
              "      <td>13.11</td>\n",
              "      <td>-0.509707</td>\n",
              "    </tr>\n",
              "    <tr>\n",
              "      <th>55</th>\n",
              "      <td>8.1</td>\n",
              "      <td>5.76</td>\n",
              "      <td>2.342689</td>\n",
              "    </tr>\n",
              "    <tr>\n",
              "      <th>94</th>\n",
              "      <td>7.0</td>\n",
              "      <td>7.97</td>\n",
              "      <td>-0.969658</td>\n",
              "    </tr>\n",
              "    <tr>\n",
              "      <th>29</th>\n",
              "      <td>12.6</td>\n",
              "      <td>12.43</td>\n",
              "      <td>0.167100</td>\n",
              "    </tr>\n",
              "    <tr>\n",
              "      <th>101</th>\n",
              "      <td>10.3</td>\n",
              "      <td>9.71</td>\n",
              "      <td>0.588932</td>\n",
              "    </tr>\n",
              "    <tr>\n",
              "      <th>51</th>\n",
              "      <td>12.9</td>\n",
              "      <td>14.02</td>\n",
              "      <td>-1.122537</td>\n",
              "    </tr>\n",
              "    <tr>\n",
              "      <th>100</th>\n",
              "      <td>13.2</td>\n",
              "      <td>12.85</td>\n",
              "      <td>0.345713</td>\n",
              "    </tr>\n",
              "    <tr>\n",
              "      <th>142</th>\n",
              "      <td>5.3</td>\n",
              "      <td>8.91</td>\n",
              "      <td>-3.613062</td>\n",
              "    </tr>\n",
              "  </tbody>\n",
              "</table>\n",
              "</div>\n",
              "      <button class=\"colab-df-convert\" onclick=\"convertToInteractive('df-36d53916-2c5b-4afd-9c71-b5ccb539282f')\"\n",
              "              title=\"Convert this dataframe to an interactive table.\"\n",
              "              style=\"display:none;\">\n",
              "        \n",
              "  <svg xmlns=\"http://www.w3.org/2000/svg\" height=\"24px\"viewBox=\"0 0 24 24\"\n",
              "       width=\"24px\">\n",
              "    <path d=\"M0 0h24v24H0V0z\" fill=\"none\"/>\n",
              "    <path d=\"M18.56 5.44l.94 2.06.94-2.06 2.06-.94-2.06-.94-.94-2.06-.94 2.06-2.06.94zm-11 1L8.5 8.5l.94-2.06 2.06-.94-2.06-.94L8.5 2.5l-.94 2.06-2.06.94zm10 10l.94 2.06.94-2.06 2.06-.94-2.06-.94-.94-2.06-.94 2.06-2.06.94z\"/><path d=\"M17.41 7.96l-1.37-1.37c-.4-.4-.92-.59-1.43-.59-.52 0-1.04.2-1.43.59L10.3 9.45l-7.72 7.72c-.78.78-.78 2.05 0 2.83L4 21.41c.39.39.9.59 1.41.59.51 0 1.02-.2 1.41-.59l7.78-7.78 2.81-2.81c.8-.78.8-2.07 0-2.86zM5.41 20L4 18.59l7.72-7.72 1.47 1.35L5.41 20z\"/>\n",
              "  </svg>\n",
              "      </button>\n",
              "      \n",
              "  <style>\n",
              "    .colab-df-container {\n",
              "      display:flex;\n",
              "      flex-wrap:wrap;\n",
              "      gap: 12px;\n",
              "    }\n",
              "\n",
              "    .colab-df-convert {\n",
              "      background-color: #E8F0FE;\n",
              "      border: none;\n",
              "      border-radius: 50%;\n",
              "      cursor: pointer;\n",
              "      display: none;\n",
              "      fill: #1967D2;\n",
              "      height: 32px;\n",
              "      padding: 0 0 0 0;\n",
              "      width: 32px;\n",
              "    }\n",
              "\n",
              "    .colab-df-convert:hover {\n",
              "      background-color: #E2EBFA;\n",
              "      box-shadow: 0px 1px 2px rgba(60, 64, 67, 0.3), 0px 1px 3px 1px rgba(60, 64, 67, 0.15);\n",
              "      fill: #174EA6;\n",
              "    }\n",
              "\n",
              "    [theme=dark] .colab-df-convert {\n",
              "      background-color: #3B4455;\n",
              "      fill: #D2E3FC;\n",
              "    }\n",
              "\n",
              "    [theme=dark] .colab-df-convert:hover {\n",
              "      background-color: #434B5C;\n",
              "      box-shadow: 0px 1px 3px 1px rgba(0, 0, 0, 0.15);\n",
              "      filter: drop-shadow(0px 1px 2px rgba(0, 0, 0, 0.3));\n",
              "      fill: #FFFFFF;\n",
              "    }\n",
              "  </style>\n",
              "\n",
              "      <script>\n",
              "        const buttonEl =\n",
              "          document.querySelector('#df-36d53916-2c5b-4afd-9c71-b5ccb539282f button.colab-df-convert');\n",
              "        buttonEl.style.display =\n",
              "          google.colab.kernel.accessAllowed ? 'block' : 'none';\n",
              "\n",
              "        async function convertToInteractive(key) {\n",
              "          const element = document.querySelector('#df-36d53916-2c5b-4afd-9c71-b5ccb539282f');\n",
              "          const dataTable =\n",
              "            await google.colab.kernel.invokeFunction('convertToInteractive',\n",
              "                                                     [key], {});\n",
              "          if (!dataTable) return;\n",
              "\n",
              "          const docLinkHtml = 'Like what you see? Visit the ' +\n",
              "            '<a target=\"_blank\" href=https://colab.research.google.com/notebooks/data_table.ipynb>data table notebook</a>'\n",
              "            + ' to learn more about interactive tables.';\n",
              "          element.innerHTML = '';\n",
              "          dataTable['output_type'] = 'display_data';\n",
              "          await google.colab.output.renderOutput(dataTable, element);\n",
              "          const docLink = document.createElement('div');\n",
              "          docLink.innerHTML = docLinkHtml;\n",
              "          element.appendChild(docLink);\n",
              "        }\n",
              "      </script>\n",
              "    </div>\n",
              "  </div>\n",
              "  "
            ]
          },
          "metadata": {},
          "execution_count": 15
        }
      ],
      "source": [
        "import numpy as np\n",
        "#comparer les valeurs test et prédites\n",
        "test_pred_df = pd.DataFrame( { 'Valeurs test': y_test,\n",
        "                'Valeurs prédites': np.round( y_pred, 2),\n",
        "                'residuels': y_test - y_pred } )\n",
        "test_pred_df[0:10]"
      ]
    },
    {
      "cell_type": "code",
      "execution_count": 16,
      "metadata": {
        "id": "Zve-jQtHloXt",
        "outputId": "021be8f1-47bc-4f06-ad7d-a4e600d79f94",
        "colab": {
          "base_uri": "https://localhost:8080/"
        }
      },
      "outputs": [
        {
          "output_type": "stream",
          "name": "stdout",
          "text": [
            "1.4473087105157847\n",
            "0.9238655260342179\n"
          ]
        }
      ],
      "source": [
        "from sklearn import metrics\n",
        "# RMSE\n",
        "print(np.sqrt(metrics.mean_squared_error(y_test,\n",
        "                                         y_pred)))\n",
        "\n",
        "#Calcul du R-carré\n",
        "r2 = metrics.r2_score(y_test, y_pred)\n",
        "print(r2)"
      ]
    }
  ],
  "metadata": {
    "kernelspec": {
      "display_name": "Python 3",
      "language": "python",
      "name": "python3"
    },
    "language_info": {
      "codemirror_mode": {
        "name": "ipython",
        "version": 3
      },
      "file_extension": ".py",
      "mimetype": "text/x-python",
      "name": "python",
      "nbconvert_exporter": "python",
      "pygments_lexer": "ipython3",
      "version": "3.8.5"
    },
    "toc": {
      "base_numbering": 1,
      "nav_menu": {},
      "number_sections": true,
      "sideBar": true,
      "skip_h1_title": false,
      "title_cell": "Tables des matières",
      "title_sidebar": "Contenu",
      "toc_cell": true,
      "toc_position": {},
      "toc_section_display": true,
      "toc_window_display": true
    },
    "colab": {
      "name": "Copie de 01_prod_sport.ipynb",
      "provenance": [],
      "include_colab_link": true
    }
  },
  "nbformat": 4,
  "nbformat_minor": 0
}