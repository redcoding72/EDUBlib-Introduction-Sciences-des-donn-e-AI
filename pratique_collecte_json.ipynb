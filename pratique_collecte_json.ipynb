{
  "cells": [
    {
      "cell_type": "markdown",
      "metadata": {
        "id": "view-in-github",
        "colab_type": "text"
      },
      "source": [
        "<a href=\"https://colab.research.google.com/github/redcoding72/EDUBlib-Introduction-Sciences-des-donn-e-AI/blob/main/pratique_collecte_json.ipynb\" target=\"_parent\"><img src=\"https://colab.research.google.com/assets/colab-badge.svg\" alt=\"Open In Colab\"/></a>"
      ]
    },
    {
      "cell_type": "markdown",
      "metadata": {
        "id": "ghDjo0x5oOMA"
      },
      "source": [
        "# Pratique collect à travers des appels API"
      ]
    },
    {
      "cell_type": "code",
      "execution_count": 2,
      "metadata": {
        "id": "UuNhvaK5oOMG"
      },
      "outputs": [],
      "source": [
        "#Exercice meteo Accuweather\n",
        "\n",
        "import requests\n",
        "import json\n",
        "\n",
        "# --------- valeur de test ---------\n",
        "STATE = \"canada\"\n",
        "ville = \"Montreal\"\n",
        "API_KEY = \"WjvIopAL8A9ViOoArxfZsAmXjkJWebmB\"\n",
        "# ---------------------------------\n",
        "\n"
      ]
    },
    {
      "cell_type": "code",
      "execution_count": 5,
      "metadata": {
        "id": "WYxwAG7EoOMI"
      },
      "outputs": [],
      "source": [
        "#Obtenir la clé de l'emplacement\n",
        "def get_location_key():\n",
        "    api_location_url = \"http://dataservice.accuweather.com/locations/v1/search?q=\"  + ville+\"&apikey=\"+ API_KEY\n",
        " "
      ]
    },
    {
      "cell_type": "code",
      "execution_count": 4,
      "metadata": {
        "id": "H173FeRNoOMJ"
      },
      "outputs": [],
      "source": [
        "#Obtenir les conditions meteo selon l'emplacement\n",
        "def get_meteo(locationkey):\n",
        "    api_conditions_url = \"http://dataservice.accuweather.com/forecasts/v1/daily/1day/\"+locationkey +\"?apikey=\" + API_KEY\n",
        " "
      ]
    },
    {
      "cell_type": "code",
      "execution_count": 21,
      "metadata": {
        "id": "hqZAOAGaoOMK",
        "outputId": "1b392318-64f0-4616-d7c2-2689e83beb5f",
        "colab": {
          "base_uri": "https://localhost:8080/",
          "height": 336
        }
      },
      "outputs": [
        {
          "output_type": "error",
          "ename": "NameError",
          "evalue": "ignored",
          "traceback": [
            "\u001b[0;31m---------------------------------------------------------------------------\u001b[0m",
            "\u001b[0;31mNameError\u001b[0m                                 Traceback (most recent call last)",
            "\u001b[0;32m<ipython-input-21-a9502965de8f>\u001b[0m in \u001b[0;36m<module>\u001b[0;34m()\u001b[0m\n\u001b[1;32m     10\u001b[0m \u001b[0;34m\u001b[0m\u001b[0m\n\u001b[1;32m     11\u001b[0m \u001b[0;32mif\u001b[0m \u001b[0m__name__\u001b[0m \u001b[0;34m==\u001b[0m\u001b[0;34m'__main__'\u001b[0m\u001b[0;34m:\u001b[0m\u001b[0;34m\u001b[0m\u001b[0;34m\u001b[0m\u001b[0m\n\u001b[0;32m---> 12\u001b[0;31m     \u001b[0mmain\u001b[0m\u001b[0;34m(\u001b[0m\u001b[0;34m)\u001b[0m\u001b[0;34m\u001b[0m\u001b[0;34m\u001b[0m\u001b[0m\n\u001b[0m",
            "\u001b[0;32m<ipython-input-21-a9502965de8f>\u001b[0m in \u001b[0;36mmain\u001b[0;34m()\u001b[0m\n\u001b[1;32m      1\u001b[0m \u001b[0;32mdef\u001b[0m \u001b[0mmain\u001b[0m\u001b[0;34m(\u001b[0m\u001b[0;34m)\u001b[0m\u001b[0;34m:\u001b[0m\u001b[0;34m\u001b[0m\u001b[0;34m\u001b[0m\u001b[0m\n\u001b[0;32m----> 2\u001b[0;31m     \u001b[0mprint_header\u001b[0m\u001b[0;34m(\u001b[0m\u001b[0;34m)\u001b[0m\u001b[0;34m\u001b[0m\u001b[0;34m\u001b[0m\u001b[0m\n\u001b[0m\u001b[1;32m      3\u001b[0m     \u001b[0mlocation\u001b[0m \u001b[0;34m=\u001b[0m \u001b[0mget_location_key\u001b[0m\u001b[0;34m(\u001b[0m\u001b[0;34m)\u001b[0m\u001b[0;34m\u001b[0m\u001b[0;34m\u001b[0m\u001b[0m\n\u001b[1;32m      4\u001b[0m     \u001b[0mkey\u001b[0m \u001b[0;34m=\u001b[0m \u001b[0mlocation\u001b[0m\u001b[0;34m[\u001b[0m\u001b[0;36m0\u001b[0m\u001b[0;34m]\u001b[0m\u001b[0;34m[\u001b[0m\u001b[0;34m\"Key\"\u001b[0m\u001b[0;34m]\u001b[0m\u001b[0;34m\u001b[0m\u001b[0;34m\u001b[0m\u001b[0m\n\u001b[1;32m      5\u001b[0m     \u001b[0;31m#obtenir meteo\u001b[0m\u001b[0;34m\u001b[0m\u001b[0;34m\u001b[0m\u001b[0;34m\u001b[0m\u001b[0m\n",
            "\u001b[0;31mNameError\u001b[0m: name 'print_header' is not defined"
          ]
        }
      ],
      "source": [
        "def main():\n",
        "    print_header()\n",
        "    location = get_location_key()\n",
        "    key = location[0][\"Key\"]\n",
        "    #obtenir meteo\n",
        "    conditions_meteo = get_meteo(key)\n",
        "    #Obtenir la température min et max\n",
        "\n",
        "\n",
        "\n",
        "if __name__ =='__main__':\n",
        "    main()"
      ]
    },
    {
      "cell_type": "markdown",
      "metadata": {
        "id": "zBzCYCnqoOML"
      },
      "source": [
        "# Solutionnaires"
      ]
    },
    {
      "cell_type": "code",
      "execution_count": 13,
      "metadata": {
        "id": "EQvbAwGaoOML"
      },
      "outputs": [],
      "source": [
        "#Exercice meteo Accuweather\n",
        "\n",
        "import requests\n",
        "import json\n",
        "\n",
        "# --------- valeur de test ---------\n",
        "STATE = \"canada\"\n",
        "ville = \"Algiers\"\n",
        "API_KEY = \"WjvIopAL8A9ViOoArxfZsAmXjkJWebmB\"\n",
        "\n",
        "# ---------------------------------\n",
        " \n",
        "\n"
      ]
    },
    {
      "cell_type": "code",
      "execution_count": 18,
      "metadata": {
        "id": "Jj-UBLMCoOMM"
      },
      "outputs": [],
      "source": [
        "def get_location_key():\n",
        "    api_location_url = \"http://dataservice.accuweather.com/locations/v1/search?q=\"+ ville +\"&apikey=\"+ API_KEY\n",
        "    try:\n",
        "        f = requests.get(api_location_url)\n",
        "    except:\n",
        "        return []\n",
        "    else:\n",
        "        json_conditions = f.json()\n",
        "        #print(json_conditions)\n",
        "        f.close()\n",
        "    return json_conditions"
      ]
    },
    {
      "cell_type": "code",
      "execution_count": 20,
      "metadata": {
        "id": "TkCZnJ7ZoOMN"
      },
      "outputs": [],
      "source": [
        "def get_meteo(locationkey):\n",
        "    api_conditions_url = \"http://dataservice.accuweather.com/forecasts/v1/daily/1day/\"+locationkey +\"?apikey=\" + API_KEY\n",
        "    try:\n",
        "        f = requests.get(api_conditions_url)\n",
        "    except:\n",
        "        return []\n",
        "    else:\n",
        "        json_conditions = f.json()\n",
        "        #print(json_conditions)\n",
        "        f.close()\n",
        "    return json_conditions"
      ]
    },
    {
      "cell_type": "code",
      "execution_count": 19,
      "metadata": {
        "id": "MUkOHD_8oOMO",
        "outputId": "9e86e1bf-d807-4ac7-9bfe-e6e46410c4e9",
        "colab": {
          "base_uri": "https://localhost:8080/",
          "height": 336
        }
      },
      "outputs": [
        {
          "output_type": "error",
          "ename": "KeyError",
          "evalue": "ignored",
          "traceback": [
            "\u001b[0;31m---------------------------------------------------------------------------\u001b[0m",
            "\u001b[0;31mKeyError\u001b[0m                                  Traceback (most recent call last)",
            "\u001b[0;32m<ipython-input-19-c1982ebe0350>\u001b[0m in \u001b[0;36m<module>\u001b[0;34m()\u001b[0m\n\u001b[1;32m     11\u001b[0m \u001b[0;34m\u001b[0m\u001b[0m\n\u001b[1;32m     12\u001b[0m \u001b[0;32mif\u001b[0m \u001b[0m__name__\u001b[0m \u001b[0;34m==\u001b[0m\u001b[0;34m'__main__'\u001b[0m\u001b[0;34m:\u001b[0m\u001b[0;34m\u001b[0m\u001b[0;34m\u001b[0m\u001b[0m\n\u001b[0;32m---> 13\u001b[0;31m     \u001b[0mmain\u001b[0m\u001b[0;34m(\u001b[0m\u001b[0;34m)\u001b[0m\u001b[0;34m\u001b[0m\u001b[0;34m\u001b[0m\u001b[0m\n\u001b[0m",
            "\u001b[0;32m<ipython-input-19-c1982ebe0350>\u001b[0m in \u001b[0;36mmain\u001b[0;34m()\u001b[0m\n\u001b[1;32m      2\u001b[0m     \u001b[0;31m#print_header()\u001b[0m\u001b[0;34m\u001b[0m\u001b[0;34m\u001b[0m\u001b[0;34m\u001b[0m\u001b[0m\n\u001b[1;32m      3\u001b[0m     \u001b[0mlocation\u001b[0m \u001b[0;34m=\u001b[0m \u001b[0mget_location_key\u001b[0m\u001b[0;34m(\u001b[0m\u001b[0;34m)\u001b[0m\u001b[0;34m\u001b[0m\u001b[0;34m\u001b[0m\u001b[0m\n\u001b[0;32m----> 4\u001b[0;31m     \u001b[0mkey\u001b[0m \u001b[0;34m=\u001b[0m \u001b[0mlocation\u001b[0m\u001b[0;34m[\u001b[0m\u001b[0;36m0\u001b[0m\u001b[0;34m]\u001b[0m\u001b[0;34m[\u001b[0m\u001b[0;34m\"Key\"\u001b[0m\u001b[0;34m]\u001b[0m\u001b[0;34m\u001b[0m\u001b[0;34m\u001b[0m\u001b[0m\n\u001b[0m\u001b[1;32m      5\u001b[0m     \u001b[0;31m#print(\"key:\", key)\u001b[0m\u001b[0;34m\u001b[0m\u001b[0;34m\u001b[0m\u001b[0;34m\u001b[0m\u001b[0m\n\u001b[1;32m      6\u001b[0m     \u001b[0;31m#obtenir meteo\u001b[0m\u001b[0;34m\u001b[0m\u001b[0;34m\u001b[0m\u001b[0;34m\u001b[0m\u001b[0m\n",
            "\u001b[0;31mKeyError\u001b[0m: 0"
          ]
        }
      ],
      "source": [
        "def main():\n",
        "    #print_header()\n",
        "    location = get_location_key()\n",
        "    key = location[0][\"Key\"]\n",
        "    #print(\"key:\", key)\n",
        "    #obtenir meteo\n",
        "    conditions_meteo = get_meteo(key)\n",
        "    print(\"Minimum:\",conditions_meteo['DailyForecasts'][0]['Temperature']['Minimum']['Value'])\n",
        "    print(\"Maximum:\",conditions_meteo['DailyForecasts'][0]['Temperature']['Maximum']['Value'])\n",
        "\n",
        "\n",
        "if __name__ =='__main__':\n",
        "    main()"
      ]
    }
  ],
  "metadata": {
    "kernelspec": {
      "display_name": "Python 3",
      "language": "python",
      "name": "python3"
    },
    "language_info": {
      "codemirror_mode": {
        "name": "ipython",
        "version": 3
      },
      "file_extension": ".py",
      "mimetype": "text/x-python",
      "name": "python",
      "nbconvert_exporter": "python",
      "pygments_lexer": "ipython3",
      "version": "3.8.5"
    },
    "colab": {
      "name": "pratique_collecte_json.ipynb",
      "provenance": [],
      "include_colab_link": true
    }
  },
  "nbformat": 4,
  "nbformat_minor": 0
}