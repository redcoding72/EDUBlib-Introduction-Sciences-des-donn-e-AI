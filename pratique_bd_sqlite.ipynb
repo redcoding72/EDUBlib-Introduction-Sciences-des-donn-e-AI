{
  "cells": [
    {
      "cell_type": "markdown",
      "metadata": {
        "id": "view-in-github",
        "colab_type": "text"
      },
      "source": [
        "<a href=\"https://colab.research.google.com/github/redcoding72/EDUBlib-Introduction-Sciences-des-donn-e-AI/blob/main/pratique_bd_sqlite.ipynb\" target=\"_parent\"><img src=\"https://colab.research.google.com/assets/colab-badge.svg\" alt=\"Open In Colab\"/></a>"
      ]
    },
    {
      "cell_type": "markdown",
      "metadata": {
        "id": "RHI8NeJYjQ14"
      },
      "source": [
        "# Pratique à partir de BD relationnelle SQLite"
      ]
    },
    {
      "cell_type": "code",
      "execution_count": 5,
      "metadata": {
        "id": "UoxttquGjQ1_",
        "outputId": "1640729b-657c-4f58-c5a7-1fc38a28b666",
        "colab": {
          "base_uri": "https://localhost:8080/"
        }
      },
      "outputs": [
        {
          "output_type": "execute_result",
          "data": {
            "text/plain": [
              "<sqlite3.Cursor at 0x7fb137922ea0>"
            ]
          },
          "metadata": {},
          "execution_count": 5
        }
      ],
      "source": [
        "#BD sqlite\n",
        "import sqlite3\n",
        "#creer une connexion sur la BD\n",
        "conn = sqlite3.connect(\"bdeb.dbf\")\n",
        "#script DDL\n",
        "cde_ddl = \"\"\" create table if not exists usagers(id integer primary key autoincrement, nom text, age integer)\n",
        "\"\"\"\n",
        "#créer un curseur\n",
        "curseur = conn.cursor()\n",
        "#créer la table\n",
        "curseur.execute(cde_ddl)\n",
        " \n",
        "\n"
      ]
    },
    {
      "cell_type": "code",
      "execution_count": 9,
      "metadata": {
        "id": "6DszBjrOjQ2C",
        "outputId": "f179d214-e206-4951-8763-cfc05ed50249",
        "colab": {
          "base_uri": "https://localhost:8080/"
        }
      },
      "outputs": [
        {
          "name": "stdout",
          "output_type": "stream",
          "text": [
            "Saisire votre nom: REDA\n",
            "Saisir votre age: 50\n"
          ]
        }
      ],
      "source": [
        "#Insertion des données\n",
        "nom =input(\"Saisire votre nom: \")\n",
        "age = int(input(\"Saisir votre age: \"))\n",
        "commande =\"insert into usagers(nom, age) values (?,?)\"\n",
        "curseur.execute (commande, [nom, age])\n",
        "conn.commit()"
      ]
    },
    {
      "cell_type": "code",
      "execution_count": 12,
      "metadata": {
        "id": "Naetl6hUjQ2D",
        "outputId": "9bb8af06-6963-45b8-96f8-b05eaefe59ab",
        "colab": {
          "base_uri": "https://localhost:8080/"
        }
      },
      "outputs": [
        {
          "output_type": "stream",
          "name": "stdout",
          "text": [
            "==================================================\n",
            "Nom:REDA, Age:50\n"
          ]
        }
      ],
      "source": [
        "#Select des données\n",
        "requete= \"select nom, age from usagers\"\n",
        "curseur.execute(requete)\n",
        "#parcours du curseur\n",
        "print(\"=\" * 50)\n",
        "lignes = curseur.fetchall()\n",
        "for ligne in lignes:\n",
        "  print(\"Nom:{}, Age:{}\".format(ligne[0], ligne[1]))\n",
        "#fermer la BD\n",
        "conn.close()"
      ]
    },
    {
      "cell_type": "markdown",
      "metadata": {
        "id": "K9QC2EXEjQ2D"
      },
      "source": [
        "# Solutionnaires"
      ]
    },
    {
      "cell_type": "code",
      "execution_count": null,
      "metadata": {
        "id": "u8Wy2CU3jQ2E",
        "outputId": "66c7fc5a-10f8-40ab-9a9b-d174d21fed01"
      },
      "outputs": [
        {
          "data": {
            "text/plain": [
              "<sqlite3.Cursor at 0x2c1339c48f0>"
            ]
          },
          "execution_count": 2,
          "metadata": {},
          "output_type": "execute_result"
        }
      ],
      "source": [
        "#BD sqlite\n",
        "import sqlite3\n",
        "#creer une connexion sur la BD\n",
        "conn = sqlite3.connect(\"bdeb.dbf\")\n",
        "#script DDL\n",
        "cde_ddl = \"\"\"create table if not exists usagers(\n",
        "id integer primary key autoincrement,\n",
        "nom text,\n",
        "age integer\n",
        ")\n",
        "\"\"\"\n",
        "#créer un curseur\n",
        "curseur = conn.cursor()\n",
        "#créer la table\n",
        "curseur.execute(cde_ddl)"
      ]
    },
    {
      "cell_type": "code",
      "execution_count": null,
      "metadata": {
        "id": "XQ_XG01PjQ2F"
      },
      "outputs": [],
      "source": [
        "#Insertion des données\n",
        "cde = \"insert into usagers(nom,age) values (?,?)\"\n",
        "nom = input(\"Votre nom:\")\n",
        "age = int(input(\"Votre age:\"))\n",
        "curseur.execute(cde, [nom,age])\n",
        "conn.commit()"
      ]
    },
    {
      "cell_type": "code",
      "execution_count": null,
      "metadata": {
        "id": "_vWftApEjQ2G"
      },
      "outputs": [],
      "source": [
        "#Select des données\n",
        "requete = \"select id, nom, age from usagers where age = ?\"\n",
        "mot_cle = int (input(\"Age recherché:\"))\n",
        "curseur.execute(requete, [mot_cle,])\n",
        "#parcours du curseur\n",
        "print(\"=\" * 50)\n",
        "for ligne in curseur:\n",
        "   print(\"ID:{} Nom:{} et Age:{}\". format(ligne[0], ligne[1], ligne[2]))\n",
        "#fermer la BD\n",
        "conn.close()"
      ]
    }
  ],
  "metadata": {
    "kernelspec": {
      "display_name": "Python 3",
      "language": "python",
      "name": "python3"
    },
    "language_info": {
      "codemirror_mode": {
        "name": "ipython",
        "version": 3
      },
      "file_extension": ".py",
      "mimetype": "text/x-python",
      "name": "python",
      "nbconvert_exporter": "python",
      "pygments_lexer": "ipython3",
      "version": "3.8.5"
    },
    "colab": {
      "name": "pratique_bd_sqlite.ipynb",
      "provenance": [],
      "include_colab_link": true
    }
  },
  "nbformat": 4,
  "nbformat_minor": 0
}

