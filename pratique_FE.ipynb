{
  "cells": [
    {
      "cell_type": "markdown",
      "metadata": {
        "id": "view-in-github",
        "colab_type": "text"
      },
      "source": [
        "<a href=\"https://colab.research.google.com/github/redcoding72/EDUBlib-Introduction-Sciences-des-donn-e-AI/blob/main/pratique_FE.ipynb\" target=\"_parent\"><img src=\"https://colab.research.google.com/assets/colab-badge.svg\" alt=\"Open In Colab\"/></a>"
      ]
    },
    {
      "cell_type": "markdown",
      "id": "reliable-sense",
      "metadata": {
        "id": "reliable-sense"
      },
      "source": [
        "<a href=\"https://colab.research.google.com/github/pia-fcse-bdeb/Cours-EDUlib/blob/master/module-3/Exercices/pratique_FE.ipynb\">\n",
        "  <img src=\"https://colab.research.google.com/assets/colab-badge.svg\" alt=\"Open In Colab\"/>\n",
        "</a>"
      ]
    },
    {
      "cell_type": "markdown",
      "id": "modified-bracelet",
      "metadata": {
        "id": "modified-bracelet"
      },
      "source": [
        "# Pratique Feature Engineering"
      ]
    },
    {
      "cell_type": "markdown",
      "id": "fuzzy-zealand",
      "metadata": {
        "id": "fuzzy-zealand"
      },
      "source": [
        "## Lire le fichier de données en utilisant pandas.read_csv"
      ]
    },
    {
      "cell_type": "markdown",
      "id": "pacific-server",
      "metadata": {
        "id": "pacific-server"
      },
      "source": [
        "On vous fournit les lignes de codes qui permettent de charger les données, vous pouvez soit :\n",
        "* Télécharger le fichier de données et procéder à son chargement sur votre machine locale ou bien sur google Colab. Pour cela, il vous faut décommenter la **cellule A** et commenter la **cellule B**.\n",
        "* Charger les données directement depuis google drive sans avoir à télécharger le fichier sur votre machine locale. Pour ce faire, utilisez les lignes de code de la **cellule B**.\n"
      ]
    },
    {
      "cell_type": "markdown",
      "id": "everyday-knife",
      "metadata": {
        "id": "everyday-knife"
      },
      "source": [
        "### Cellule A"
      ]
    },
    {
      "cell_type": "code",
      "execution_count": null,
      "id": "atomic-gates",
      "metadata": {
        "id": "atomic-gates"
      },
      "outputs": [],
      "source": [
        "# # importer la librairie pandas\n",
        "# import pandas as pd\n",
        "# # lecture du fichier de données\n",
        "# data = pd.read_csv(\"data_spectacle.csv\")"
      ]
    },
    {
      "cell_type": "markdown",
      "id": "educational-synthesis",
      "metadata": {
        "id": "educational-synthesis"
      },
      "source": [
        "### Cellule B"
      ]
    },
    {
      "cell_type": "code",
      "execution_count": 55,
      "id": "outdoor-cooper",
      "metadata": {
        "id": "outdoor-cooper"
      },
      "outputs": [],
      "source": [
        "# importer la librairie pandas\n",
        "import pandas as pd\n",
        "\n",
        "# charger les données contenues dans un fichiers csv se trouvant sur drive\n",
        "URL = 'https://drive.google.com/file/d/1PLwbhFdvisCRmKvaMbQp7NqmDYMQGjTV/view?usp=sharing'\n",
        "\n",
        "data_spectacle = 'https://drive.google.com/uc?export=download&id='+URL.split('/')[-2]\n",
        "data = pd.read_csv(data_spectacle)"
      ]
    },
    {
      "cell_type": "code",
      "execution_count": 56,
      "id": "opened-optimum",
      "metadata": {
        "id": "opened-optimum",
        "outputId": "f7b4cf77-9ac5-435f-c9ae-ace568ea4e31",
        "colab": {
          "base_uri": "https://localhost:8080/",
          "height": 363
        }
      },
      "outputs": [
        {
          "output_type": "execute_result",
          "data": {
            "text/plain": [
              "    Naissance  Date_Achat Num_Billet    Prix\n",
              "0  1997-05-20  2020-06-18     D20103   63.98\n",
              "1  1980-10-21  2018-07-01     F18278   65.98\n",
              "2  2006-04-09  2019-07-19     F19351  149.95\n",
              "3  1981-07-13  2019-07-19     F19351  149.95\n",
              "4  2000-03-03  2018-11-09     S18423   34.99\n",
              "5  1994-01-17  2020-06-18     D20103   63.98\n",
              "6  2009-04-01  2019-07-19     F19351  149.95\n",
              "7  1982-03-27  2019-07-19     F19351  149.95\n",
              "8  2006-10-17  2018-07-01     F18278   65.98\n",
              "9  2009-07-27  2019-07-19     F19351  149.95"
            ],
            "text/html": [
              "\n",
              "  <div id=\"df-900cb5de-d74d-444e-ade7-52e875aa3e75\">\n",
              "    <div class=\"colab-df-container\">\n",
              "      <div>\n",
              "<style scoped>\n",
              "    .dataframe tbody tr th:only-of-type {\n",
              "        vertical-align: middle;\n",
              "    }\n",
              "\n",
              "    .dataframe tbody tr th {\n",
              "        vertical-align: top;\n",
              "    }\n",
              "\n",
              "    .dataframe thead th {\n",
              "        text-align: right;\n",
              "    }\n",
              "</style>\n",
              "<table border=\"1\" class=\"dataframe\">\n",
              "  <thead>\n",
              "    <tr style=\"text-align: right;\">\n",
              "      <th></th>\n",
              "      <th>Naissance</th>\n",
              "      <th>Date_Achat</th>\n",
              "      <th>Num_Billet</th>\n",
              "      <th>Prix</th>\n",
              "    </tr>\n",
              "  </thead>\n",
              "  <tbody>\n",
              "    <tr>\n",
              "      <th>0</th>\n",
              "      <td>1997-05-20</td>\n",
              "      <td>2020-06-18</td>\n",
              "      <td>D20103</td>\n",
              "      <td>63.98</td>\n",
              "    </tr>\n",
              "    <tr>\n",
              "      <th>1</th>\n",
              "      <td>1980-10-21</td>\n",
              "      <td>2018-07-01</td>\n",
              "      <td>F18278</td>\n",
              "      <td>65.98</td>\n",
              "    </tr>\n",
              "    <tr>\n",
              "      <th>2</th>\n",
              "      <td>2006-04-09</td>\n",
              "      <td>2019-07-19</td>\n",
              "      <td>F19351</td>\n",
              "      <td>149.95</td>\n",
              "    </tr>\n",
              "    <tr>\n",
              "      <th>3</th>\n",
              "      <td>1981-07-13</td>\n",
              "      <td>2019-07-19</td>\n",
              "      <td>F19351</td>\n",
              "      <td>149.95</td>\n",
              "    </tr>\n",
              "    <tr>\n",
              "      <th>4</th>\n",
              "      <td>2000-03-03</td>\n",
              "      <td>2018-11-09</td>\n",
              "      <td>S18423</td>\n",
              "      <td>34.99</td>\n",
              "    </tr>\n",
              "    <tr>\n",
              "      <th>5</th>\n",
              "      <td>1994-01-17</td>\n",
              "      <td>2020-06-18</td>\n",
              "      <td>D20103</td>\n",
              "      <td>63.98</td>\n",
              "    </tr>\n",
              "    <tr>\n",
              "      <th>6</th>\n",
              "      <td>2009-04-01</td>\n",
              "      <td>2019-07-19</td>\n",
              "      <td>F19351</td>\n",
              "      <td>149.95</td>\n",
              "    </tr>\n",
              "    <tr>\n",
              "      <th>7</th>\n",
              "      <td>1982-03-27</td>\n",
              "      <td>2019-07-19</td>\n",
              "      <td>F19351</td>\n",
              "      <td>149.95</td>\n",
              "    </tr>\n",
              "    <tr>\n",
              "      <th>8</th>\n",
              "      <td>2006-10-17</td>\n",
              "      <td>2018-07-01</td>\n",
              "      <td>F18278</td>\n",
              "      <td>65.98</td>\n",
              "    </tr>\n",
              "    <tr>\n",
              "      <th>9</th>\n",
              "      <td>2009-07-27</td>\n",
              "      <td>2019-07-19</td>\n",
              "      <td>F19351</td>\n",
              "      <td>149.95</td>\n",
              "    </tr>\n",
              "  </tbody>\n",
              "</table>\n",
              "</div>\n",
              "      <button class=\"colab-df-convert\" onclick=\"convertToInteractive('df-900cb5de-d74d-444e-ade7-52e875aa3e75')\"\n",
              "              title=\"Convert this dataframe to an interactive table.\"\n",
              "              style=\"display:none;\">\n",
              "        \n",
              "  <svg xmlns=\"http://www.w3.org/2000/svg\" height=\"24px\"viewBox=\"0 0 24 24\"\n",
              "       width=\"24px\">\n",
              "    <path d=\"M0 0h24v24H0V0z\" fill=\"none\"/>\n",
              "    <path d=\"M18.56 5.44l.94 2.06.94-2.06 2.06-.94-2.06-.94-.94-2.06-.94 2.06-2.06.94zm-11 1L8.5 8.5l.94-2.06 2.06-.94-2.06-.94L8.5 2.5l-.94 2.06-2.06.94zm10 10l.94 2.06.94-2.06 2.06-.94-2.06-.94-.94-2.06-.94 2.06-2.06.94z\"/><path d=\"M17.41 7.96l-1.37-1.37c-.4-.4-.92-.59-1.43-.59-.52 0-1.04.2-1.43.59L10.3 9.45l-7.72 7.72c-.78.78-.78 2.05 0 2.83L4 21.41c.39.39.9.59 1.41.59.51 0 1.02-.2 1.41-.59l7.78-7.78 2.81-2.81c.8-.78.8-2.07 0-2.86zM5.41 20L4 18.59l7.72-7.72 1.47 1.35L5.41 20z\"/>\n",
              "  </svg>\n",
              "      </button>\n",
              "      \n",
              "  <style>\n",
              "    .colab-df-container {\n",
              "      display:flex;\n",
              "      flex-wrap:wrap;\n",
              "      gap: 12px;\n",
              "    }\n",
              "\n",
              "    .colab-df-convert {\n",
              "      background-color: #E8F0FE;\n",
              "      border: none;\n",
              "      border-radius: 50%;\n",
              "      cursor: pointer;\n",
              "      display: none;\n",
              "      fill: #1967D2;\n",
              "      height: 32px;\n",
              "      padding: 0 0 0 0;\n",
              "      width: 32px;\n",
              "    }\n",
              "\n",
              "    .colab-df-convert:hover {\n",
              "      background-color: #E2EBFA;\n",
              "      box-shadow: 0px 1px 2px rgba(60, 64, 67, 0.3), 0px 1px 3px 1px rgba(60, 64, 67, 0.15);\n",
              "      fill: #174EA6;\n",
              "    }\n",
              "\n",
              "    [theme=dark] .colab-df-convert {\n",
              "      background-color: #3B4455;\n",
              "      fill: #D2E3FC;\n",
              "    }\n",
              "\n",
              "    [theme=dark] .colab-df-convert:hover {\n",
              "      background-color: #434B5C;\n",
              "      box-shadow: 0px 1px 3px 1px rgba(0, 0, 0, 0.15);\n",
              "      filter: drop-shadow(0px 1px 2px rgba(0, 0, 0, 0.3));\n",
              "      fill: #FFFFFF;\n",
              "    }\n",
              "  </style>\n",
              "\n",
              "      <script>\n",
              "        const buttonEl =\n",
              "          document.querySelector('#df-900cb5de-d74d-444e-ade7-52e875aa3e75 button.colab-df-convert');\n",
              "        buttonEl.style.display =\n",
              "          google.colab.kernel.accessAllowed ? 'block' : 'none';\n",
              "\n",
              "        async function convertToInteractive(key) {\n",
              "          const element = document.querySelector('#df-900cb5de-d74d-444e-ade7-52e875aa3e75');\n",
              "          const dataTable =\n",
              "            await google.colab.kernel.invokeFunction('convertToInteractive',\n",
              "                                                     [key], {});\n",
              "          if (!dataTable) return;\n",
              "\n",
              "          const docLinkHtml = 'Like what you see? Visit the ' +\n",
              "            '<a target=\"_blank\" href=https://colab.research.google.com/notebooks/data_table.ipynb>data table notebook</a>'\n",
              "            + ' to learn more about interactive tables.';\n",
              "          element.innerHTML = '';\n",
              "          dataTable['output_type'] = 'display_data';\n",
              "          await google.colab.output.renderOutput(dataTable, element);\n",
              "          const docLink = document.createElement('div');\n",
              "          docLink.innerHTML = docLinkHtml;\n",
              "          element.appendChild(docLink);\n",
              "        }\n",
              "      </script>\n",
              "    </div>\n",
              "  </div>\n",
              "  "
            ]
          },
          "metadata": {},
          "execution_count": 56
        }
      ],
      "source": [
        "# Afficher le dataframe\n",
        "df = data.copy()\n",
        "df"
      ]
    },
    {
      "cell_type": "markdown",
      "id": "stretch-regard",
      "metadata": {
        "id": "stretch-regard"
      },
      "source": [
        "## Pratique 1"
      ]
    },
    {
      "cell_type": "code",
      "execution_count": 57,
      "id": "rolled-victim",
      "metadata": {
        "id": "rolled-victim",
        "outputId": "9372d812-3d0f-45a7-8eb4-f3a569bf88a9",
        "colab": {
          "base_uri": "https://localhost:8080/"
        }
      },
      "outputs": [
        {
          "output_type": "execute_result",
          "data": {
            "text/plain": [
              "Naissance      object\n",
              "Date_Achat     object\n",
              "Num_Billet     object\n",
              "Prix          float64\n",
              "dtype: object"
            ]
          },
          "metadata": {},
          "execution_count": 57
        }
      ],
      "source": [
        "# Procéder à la vérification du type de variables et à la conversion qui vous semble nécessaire.\n",
        "## Vérifier le type des variables \n",
        "df.dtypes"
      ]
    },
    {
      "cell_type": "code",
      "execution_count": 58,
      "id": "distant-translation",
      "metadata": {
        "id": "distant-translation"
      },
      "outputs": [],
      "source": [
        "## faire une conversion de type\n",
        "df[\"Naissance\"] = pd.to_datetime(df.Naissance)\n",
        "df[\"Date_Achat\"] = pd.to_datetime(df.Date_Achat)"
      ]
    },
    {
      "cell_type": "code",
      "execution_count": 59,
      "id": "chicken-bleeding",
      "metadata": {
        "id": "chicken-bleeding"
      },
      "outputs": [],
      "source": [
        "# Procéder à la création d’une colonne qui donne l’âge des clients\n",
        "df[\"Age\"] = df[\"Date_Achat\"].dt.year - df[\"Naissance\"].dt.year"
      ]
    },
    {
      "cell_type": "code",
      "execution_count": 60,
      "id": "convinced-northwest",
      "metadata": {
        "id": "convinced-northwest",
        "outputId": "99573dfe-e776-4609-9720-a0af62caf5a2",
        "colab": {
          "base_uri": "https://localhost:8080/",
          "height": 363
        }
      },
      "outputs": [
        {
          "output_type": "execute_result",
          "data": {
            "text/plain": [
              "   Naissance Date_Achat Num_Billet    Prix  Age\n",
              "0 1997-05-20 2020-06-18     D20103   63.98   23\n",
              "1 1980-10-21 2018-07-01     F18278   65.98   38\n",
              "2 2006-04-09 2019-07-19     F19351  149.95   13\n",
              "3 1981-07-13 2019-07-19     F19351  149.95   38\n",
              "4 2000-03-03 2018-11-09     S18423   34.99   18\n",
              "5 1994-01-17 2020-06-18     D20103   63.98   26\n",
              "6 2009-04-01 2019-07-19     F19351  149.95   10\n",
              "7 1982-03-27 2019-07-19     F19351  149.95   37\n",
              "8 2006-10-17 2018-07-01     F18278   65.98   12\n",
              "9 2009-07-27 2019-07-19     F19351  149.95   10"
            ],
            "text/html": [
              "\n",
              "  <div id=\"df-92ad5af8-1521-4ac1-a878-2fd5ea558ca1\">\n",
              "    <div class=\"colab-df-container\">\n",
              "      <div>\n",
              "<style scoped>\n",
              "    .dataframe tbody tr th:only-of-type {\n",
              "        vertical-align: middle;\n",
              "    }\n",
              "\n",
              "    .dataframe tbody tr th {\n",
              "        vertical-align: top;\n",
              "    }\n",
              "\n",
              "    .dataframe thead th {\n",
              "        text-align: right;\n",
              "    }\n",
              "</style>\n",
              "<table border=\"1\" class=\"dataframe\">\n",
              "  <thead>\n",
              "    <tr style=\"text-align: right;\">\n",
              "      <th></th>\n",
              "      <th>Naissance</th>\n",
              "      <th>Date_Achat</th>\n",
              "      <th>Num_Billet</th>\n",
              "      <th>Prix</th>\n",
              "      <th>Age</th>\n",
              "    </tr>\n",
              "  </thead>\n",
              "  <tbody>\n",
              "    <tr>\n",
              "      <th>0</th>\n",
              "      <td>1997-05-20</td>\n",
              "      <td>2020-06-18</td>\n",
              "      <td>D20103</td>\n",
              "      <td>63.98</td>\n",
              "      <td>23</td>\n",
              "    </tr>\n",
              "    <tr>\n",
              "      <th>1</th>\n",
              "      <td>1980-10-21</td>\n",
              "      <td>2018-07-01</td>\n",
              "      <td>F18278</td>\n",
              "      <td>65.98</td>\n",
              "      <td>38</td>\n",
              "    </tr>\n",
              "    <tr>\n",
              "      <th>2</th>\n",
              "      <td>2006-04-09</td>\n",
              "      <td>2019-07-19</td>\n",
              "      <td>F19351</td>\n",
              "      <td>149.95</td>\n",
              "      <td>13</td>\n",
              "    </tr>\n",
              "    <tr>\n",
              "      <th>3</th>\n",
              "      <td>1981-07-13</td>\n",
              "      <td>2019-07-19</td>\n",
              "      <td>F19351</td>\n",
              "      <td>149.95</td>\n",
              "      <td>38</td>\n",
              "    </tr>\n",
              "    <tr>\n",
              "      <th>4</th>\n",
              "      <td>2000-03-03</td>\n",
              "      <td>2018-11-09</td>\n",
              "      <td>S18423</td>\n",
              "      <td>34.99</td>\n",
              "      <td>18</td>\n",
              "    </tr>\n",
              "    <tr>\n",
              "      <th>5</th>\n",
              "      <td>1994-01-17</td>\n",
              "      <td>2020-06-18</td>\n",
              "      <td>D20103</td>\n",
              "      <td>63.98</td>\n",
              "      <td>26</td>\n",
              "    </tr>\n",
              "    <tr>\n",
              "      <th>6</th>\n",
              "      <td>2009-04-01</td>\n",
              "      <td>2019-07-19</td>\n",
              "      <td>F19351</td>\n",
              "      <td>149.95</td>\n",
              "      <td>10</td>\n",
              "    </tr>\n",
              "    <tr>\n",
              "      <th>7</th>\n",
              "      <td>1982-03-27</td>\n",
              "      <td>2019-07-19</td>\n",
              "      <td>F19351</td>\n",
              "      <td>149.95</td>\n",
              "      <td>37</td>\n",
              "    </tr>\n",
              "    <tr>\n",
              "      <th>8</th>\n",
              "      <td>2006-10-17</td>\n",
              "      <td>2018-07-01</td>\n",
              "      <td>F18278</td>\n",
              "      <td>65.98</td>\n",
              "      <td>12</td>\n",
              "    </tr>\n",
              "    <tr>\n",
              "      <th>9</th>\n",
              "      <td>2009-07-27</td>\n",
              "      <td>2019-07-19</td>\n",
              "      <td>F19351</td>\n",
              "      <td>149.95</td>\n",
              "      <td>10</td>\n",
              "    </tr>\n",
              "  </tbody>\n",
              "</table>\n",
              "</div>\n",
              "      <button class=\"colab-df-convert\" onclick=\"convertToInteractive('df-92ad5af8-1521-4ac1-a878-2fd5ea558ca1')\"\n",
              "              title=\"Convert this dataframe to an interactive table.\"\n",
              "              style=\"display:none;\">\n",
              "        \n",
              "  <svg xmlns=\"http://www.w3.org/2000/svg\" height=\"24px\"viewBox=\"0 0 24 24\"\n",
              "       width=\"24px\">\n",
              "    <path d=\"M0 0h24v24H0V0z\" fill=\"none\"/>\n",
              "    <path d=\"M18.56 5.44l.94 2.06.94-2.06 2.06-.94-2.06-.94-.94-2.06-.94 2.06-2.06.94zm-11 1L8.5 8.5l.94-2.06 2.06-.94-2.06-.94L8.5 2.5l-.94 2.06-2.06.94zm10 10l.94 2.06.94-2.06 2.06-.94-2.06-.94-.94-2.06-.94 2.06-2.06.94z\"/><path d=\"M17.41 7.96l-1.37-1.37c-.4-.4-.92-.59-1.43-.59-.52 0-1.04.2-1.43.59L10.3 9.45l-7.72 7.72c-.78.78-.78 2.05 0 2.83L4 21.41c.39.39.9.59 1.41.59.51 0 1.02-.2 1.41-.59l7.78-7.78 2.81-2.81c.8-.78.8-2.07 0-2.86zM5.41 20L4 18.59l7.72-7.72 1.47 1.35L5.41 20z\"/>\n",
              "  </svg>\n",
              "      </button>\n",
              "      \n",
              "  <style>\n",
              "    .colab-df-container {\n",
              "      display:flex;\n",
              "      flex-wrap:wrap;\n",
              "      gap: 12px;\n",
              "    }\n",
              "\n",
              "    .colab-df-convert {\n",
              "      background-color: #E8F0FE;\n",
              "      border: none;\n",
              "      border-radius: 50%;\n",
              "      cursor: pointer;\n",
              "      display: none;\n",
              "      fill: #1967D2;\n",
              "      height: 32px;\n",
              "      padding: 0 0 0 0;\n",
              "      width: 32px;\n",
              "    }\n",
              "\n",
              "    .colab-df-convert:hover {\n",
              "      background-color: #E2EBFA;\n",
              "      box-shadow: 0px 1px 2px rgba(60, 64, 67, 0.3), 0px 1px 3px 1px rgba(60, 64, 67, 0.15);\n",
              "      fill: #174EA6;\n",
              "    }\n",
              "\n",
              "    [theme=dark] .colab-df-convert {\n",
              "      background-color: #3B4455;\n",
              "      fill: #D2E3FC;\n",
              "    }\n",
              "\n",
              "    [theme=dark] .colab-df-convert:hover {\n",
              "      background-color: #434B5C;\n",
              "      box-shadow: 0px 1px 3px 1px rgba(0, 0, 0, 0.15);\n",
              "      filter: drop-shadow(0px 1px 2px rgba(0, 0, 0, 0.3));\n",
              "      fill: #FFFFFF;\n",
              "    }\n",
              "  </style>\n",
              "\n",
              "      <script>\n",
              "        const buttonEl =\n",
              "          document.querySelector('#df-92ad5af8-1521-4ac1-a878-2fd5ea558ca1 button.colab-df-convert');\n",
              "        buttonEl.style.display =\n",
              "          google.colab.kernel.accessAllowed ? 'block' : 'none';\n",
              "\n",
              "        async function convertToInteractive(key) {\n",
              "          const element = document.querySelector('#df-92ad5af8-1521-4ac1-a878-2fd5ea558ca1');\n",
              "          const dataTable =\n",
              "            await google.colab.kernel.invokeFunction('convertToInteractive',\n",
              "                                                     [key], {});\n",
              "          if (!dataTable) return;\n",
              "\n",
              "          const docLinkHtml = 'Like what you see? Visit the ' +\n",
              "            '<a target=\"_blank\" href=https://colab.research.google.com/notebooks/data_table.ipynb>data table notebook</a>'\n",
              "            + ' to learn more about interactive tables.';\n",
              "          element.innerHTML = '';\n",
              "          dataTable['output_type'] = 'display_data';\n",
              "          await google.colab.output.renderOutput(dataTable, element);\n",
              "          const docLink = document.createElement('div');\n",
              "          docLink.innerHTML = docLinkHtml;\n",
              "          element.appendChild(docLink);\n",
              "        }\n",
              "      </script>\n",
              "    </div>\n",
              "  </div>\n",
              "  "
            ]
          },
          "metadata": {},
          "execution_count": 60
        }
      ],
      "source": [
        "# Afficher le dataframe\n",
        "df"
      ]
    },
    {
      "cell_type": "code",
      "execution_count": 61,
      "id": "documented-pleasure",
      "metadata": {
        "id": "documented-pleasure",
        "outputId": "29906eeb-e3b1-4b25-bfea-c5a5238b90aa",
        "colab": {
          "base_uri": "https://localhost:8080/"
        }
      },
      "outputs": [
        {
          "output_type": "execute_result",
          "data": {
            "text/plain": [
              "Naissance     datetime64[ns]\n",
              "Date_Achat    datetime64[ns]\n",
              "Num_Billet            object\n",
              "Prix                 float64\n",
              "Age                    int64\n",
              "dtype: object"
            ]
          },
          "metadata": {},
          "execution_count": 61
        }
      ],
      "source": [
        "df.dtypes"
      ]
    },
    {
      "cell_type": "markdown",
      "id": "secure-treasury",
      "metadata": {
        "id": "secure-treasury"
      },
      "source": [
        "On désir maintenant connaitre la catégorie d’âge à laquelle appartient chaque client, pour ce faire, on utilisera les correspondances suivantes :\n",
        "* Enfants -- > âge de 0 à 14 ans\n",
        "* Adolescents -- > âge de 15 à 24 ans\n",
        "* Adultes -- > âge de 25 à 64 ans\n",
        "* Aînés -- > âge de 65 et plus\n"
      ]
    },
    {
      "cell_type": "code",
      "execution_count": 62,
      "id": "atmospheric-frontier",
      "metadata": {
        "id": "atmospheric-frontier"
      },
      "outputs": [],
      "source": [
        "# On commence par créer une fonction qui va se charger d'encoder les valeurs\n",
        "## Complétez la fonction age_categories pour créer une colonne qui donnera la catégorie d'âge à l'aide de la fonction map\n",
        "def age_categories(x):\n",
        "    return \"Enfants\" if x <= 14 else \"Adolescents\" if x <= 24 else \"Adultes\" if x <= 64 else \"Aînés\"\n",
        " "
      ]
    },
    {
      "cell_type": "code",
      "execution_count": 63,
      "id": "excited-ordinary",
      "metadata": {
        "id": "excited-ordinary"
      },
      "outputs": [],
      "source": [
        "# Complétez la fonction age_categories pour créer une colonne qui donne la catégorie d'age à l'aide de la fonction map\n",
        "df[\"Age_categories\"] =df[\"Age\"].map(lambda age : age_categories(age))"
      ]
    },
    {
      "cell_type": "code",
      "execution_count": 64,
      "id": "liable-oxford",
      "metadata": {
        "id": "liable-oxford",
        "outputId": "e2a0a6f3-7f0f-497b-c013-e55d94691835",
        "colab": {
          "base_uri": "https://localhost:8080/",
          "height": 363
        }
      },
      "outputs": [
        {
          "output_type": "execute_result",
          "data": {
            "text/plain": [
              "   Naissance Date_Achat Num_Billet    Prix  Age Age_categories\n",
              "0 1997-05-20 2020-06-18     D20103   63.98   23    Adolescents\n",
              "1 1980-10-21 2018-07-01     F18278   65.98   38        Adultes\n",
              "2 2006-04-09 2019-07-19     F19351  149.95   13        Enfants\n",
              "3 1981-07-13 2019-07-19     F19351  149.95   38        Adultes\n",
              "4 2000-03-03 2018-11-09     S18423   34.99   18    Adolescents\n",
              "5 1994-01-17 2020-06-18     D20103   63.98   26        Adultes\n",
              "6 2009-04-01 2019-07-19     F19351  149.95   10        Enfants\n",
              "7 1982-03-27 2019-07-19     F19351  149.95   37        Adultes\n",
              "8 2006-10-17 2018-07-01     F18278   65.98   12        Enfants\n",
              "9 2009-07-27 2019-07-19     F19351  149.95   10        Enfants"
            ],
            "text/html": [
              "\n",
              "  <div id=\"df-8431c578-18e3-44f2-93d2-0eba5a522c24\">\n",
              "    <div class=\"colab-df-container\">\n",
              "      <div>\n",
              "<style scoped>\n",
              "    .dataframe tbody tr th:only-of-type {\n",
              "        vertical-align: middle;\n",
              "    }\n",
              "\n",
              "    .dataframe tbody tr th {\n",
              "        vertical-align: top;\n",
              "    }\n",
              "\n",
              "    .dataframe thead th {\n",
              "        text-align: right;\n",
              "    }\n",
              "</style>\n",
              "<table border=\"1\" class=\"dataframe\">\n",
              "  <thead>\n",
              "    <tr style=\"text-align: right;\">\n",
              "      <th></th>\n",
              "      <th>Naissance</th>\n",
              "      <th>Date_Achat</th>\n",
              "      <th>Num_Billet</th>\n",
              "      <th>Prix</th>\n",
              "      <th>Age</th>\n",
              "      <th>Age_categories</th>\n",
              "    </tr>\n",
              "  </thead>\n",
              "  <tbody>\n",
              "    <tr>\n",
              "      <th>0</th>\n",
              "      <td>1997-05-20</td>\n",
              "      <td>2020-06-18</td>\n",
              "      <td>D20103</td>\n",
              "      <td>63.98</td>\n",
              "      <td>23</td>\n",
              "      <td>Adolescents</td>\n",
              "    </tr>\n",
              "    <tr>\n",
              "      <th>1</th>\n",
              "      <td>1980-10-21</td>\n",
              "      <td>2018-07-01</td>\n",
              "      <td>F18278</td>\n",
              "      <td>65.98</td>\n",
              "      <td>38</td>\n",
              "      <td>Adultes</td>\n",
              "    </tr>\n",
              "    <tr>\n",
              "      <th>2</th>\n",
              "      <td>2006-04-09</td>\n",
              "      <td>2019-07-19</td>\n",
              "      <td>F19351</td>\n",
              "      <td>149.95</td>\n",
              "      <td>13</td>\n",
              "      <td>Enfants</td>\n",
              "    </tr>\n",
              "    <tr>\n",
              "      <th>3</th>\n",
              "      <td>1981-07-13</td>\n",
              "      <td>2019-07-19</td>\n",
              "      <td>F19351</td>\n",
              "      <td>149.95</td>\n",
              "      <td>38</td>\n",
              "      <td>Adultes</td>\n",
              "    </tr>\n",
              "    <tr>\n",
              "      <th>4</th>\n",
              "      <td>2000-03-03</td>\n",
              "      <td>2018-11-09</td>\n",
              "      <td>S18423</td>\n",
              "      <td>34.99</td>\n",
              "      <td>18</td>\n",
              "      <td>Adolescents</td>\n",
              "    </tr>\n",
              "    <tr>\n",
              "      <th>5</th>\n",
              "      <td>1994-01-17</td>\n",
              "      <td>2020-06-18</td>\n",
              "      <td>D20103</td>\n",
              "      <td>63.98</td>\n",
              "      <td>26</td>\n",
              "      <td>Adultes</td>\n",
              "    </tr>\n",
              "    <tr>\n",
              "      <th>6</th>\n",
              "      <td>2009-04-01</td>\n",
              "      <td>2019-07-19</td>\n",
              "      <td>F19351</td>\n",
              "      <td>149.95</td>\n",
              "      <td>10</td>\n",
              "      <td>Enfants</td>\n",
              "    </tr>\n",
              "    <tr>\n",
              "      <th>7</th>\n",
              "      <td>1982-03-27</td>\n",
              "      <td>2019-07-19</td>\n",
              "      <td>F19351</td>\n",
              "      <td>149.95</td>\n",
              "      <td>37</td>\n",
              "      <td>Adultes</td>\n",
              "    </tr>\n",
              "    <tr>\n",
              "      <th>8</th>\n",
              "      <td>2006-10-17</td>\n",
              "      <td>2018-07-01</td>\n",
              "      <td>F18278</td>\n",
              "      <td>65.98</td>\n",
              "      <td>12</td>\n",
              "      <td>Enfants</td>\n",
              "    </tr>\n",
              "    <tr>\n",
              "      <th>9</th>\n",
              "      <td>2009-07-27</td>\n",
              "      <td>2019-07-19</td>\n",
              "      <td>F19351</td>\n",
              "      <td>149.95</td>\n",
              "      <td>10</td>\n",
              "      <td>Enfants</td>\n",
              "    </tr>\n",
              "  </tbody>\n",
              "</table>\n",
              "</div>\n",
              "      <button class=\"colab-df-convert\" onclick=\"convertToInteractive('df-8431c578-18e3-44f2-93d2-0eba5a522c24')\"\n",
              "              title=\"Convert this dataframe to an interactive table.\"\n",
              "              style=\"display:none;\">\n",
              "        \n",
              "  <svg xmlns=\"http://www.w3.org/2000/svg\" height=\"24px\"viewBox=\"0 0 24 24\"\n",
              "       width=\"24px\">\n",
              "    <path d=\"M0 0h24v24H0V0z\" fill=\"none\"/>\n",
              "    <path d=\"M18.56 5.44l.94 2.06.94-2.06 2.06-.94-2.06-.94-.94-2.06-.94 2.06-2.06.94zm-11 1L8.5 8.5l.94-2.06 2.06-.94-2.06-.94L8.5 2.5l-.94 2.06-2.06.94zm10 10l.94 2.06.94-2.06 2.06-.94-2.06-.94-.94-2.06-.94 2.06-2.06.94z\"/><path d=\"M17.41 7.96l-1.37-1.37c-.4-.4-.92-.59-1.43-.59-.52 0-1.04.2-1.43.59L10.3 9.45l-7.72 7.72c-.78.78-.78 2.05 0 2.83L4 21.41c.39.39.9.59 1.41.59.51 0 1.02-.2 1.41-.59l7.78-7.78 2.81-2.81c.8-.78.8-2.07 0-2.86zM5.41 20L4 18.59l7.72-7.72 1.47 1.35L5.41 20z\"/>\n",
              "  </svg>\n",
              "      </button>\n",
              "      \n",
              "  <style>\n",
              "    .colab-df-container {\n",
              "      display:flex;\n",
              "      flex-wrap:wrap;\n",
              "      gap: 12px;\n",
              "    }\n",
              "\n",
              "    .colab-df-convert {\n",
              "      background-color: #E8F0FE;\n",
              "      border: none;\n",
              "      border-radius: 50%;\n",
              "      cursor: pointer;\n",
              "      display: none;\n",
              "      fill: #1967D2;\n",
              "      height: 32px;\n",
              "      padding: 0 0 0 0;\n",
              "      width: 32px;\n",
              "    }\n",
              "\n",
              "    .colab-df-convert:hover {\n",
              "      background-color: #E2EBFA;\n",
              "      box-shadow: 0px 1px 2px rgba(60, 64, 67, 0.3), 0px 1px 3px 1px rgba(60, 64, 67, 0.15);\n",
              "      fill: #174EA6;\n",
              "    }\n",
              "\n",
              "    [theme=dark] .colab-df-convert {\n",
              "      background-color: #3B4455;\n",
              "      fill: #D2E3FC;\n",
              "    }\n",
              "\n",
              "    [theme=dark] .colab-df-convert:hover {\n",
              "      background-color: #434B5C;\n",
              "      box-shadow: 0px 1px 3px 1px rgba(0, 0, 0, 0.15);\n",
              "      filter: drop-shadow(0px 1px 2px rgba(0, 0, 0, 0.3));\n",
              "      fill: #FFFFFF;\n",
              "    }\n",
              "  </style>\n",
              "\n",
              "      <script>\n",
              "        const buttonEl =\n",
              "          document.querySelector('#df-8431c578-18e3-44f2-93d2-0eba5a522c24 button.colab-df-convert');\n",
              "        buttonEl.style.display =\n",
              "          google.colab.kernel.accessAllowed ? 'block' : 'none';\n",
              "\n",
              "        async function convertToInteractive(key) {\n",
              "          const element = document.querySelector('#df-8431c578-18e3-44f2-93d2-0eba5a522c24');\n",
              "          const dataTable =\n",
              "            await google.colab.kernel.invokeFunction('convertToInteractive',\n",
              "                                                     [key], {});\n",
              "          if (!dataTable) return;\n",
              "\n",
              "          const docLinkHtml = 'Like what you see? Visit the ' +\n",
              "            '<a target=\"_blank\" href=https://colab.research.google.com/notebooks/data_table.ipynb>data table notebook</a>'\n",
              "            + ' to learn more about interactive tables.';\n",
              "          element.innerHTML = '';\n",
              "          dataTable['output_type'] = 'display_data';\n",
              "          await google.colab.output.renderOutput(dataTable, element);\n",
              "          const docLink = document.createElement('div');\n",
              "          docLink.innerHTML = docLinkHtml;\n",
              "          element.appendChild(docLink);\n",
              "        }\n",
              "      </script>\n",
              "    </div>\n",
              "  </div>\n",
              "  "
            ]
          },
          "metadata": {},
          "execution_count": 64
        }
      ],
      "source": [
        "# Vérification\n",
        "df"
      ]
    },
    {
      "cell_type": "code",
      "execution_count": 65,
      "id": "parental-breast",
      "metadata": {
        "id": "parental-breast"
      },
      "outputs": [],
      "source": [
        "# Créer une colonne qui donne le prix unitaire des billets, vous pouvez reprendre le code vu dans la vidéo du cours\n",
        "## Créer un dictionnaire quantité billet\n",
        "qte = df[\"Num_Billet\"].value_counts().to_dict()\n"
      ]
    },
    {
      "cell_type": "code",
      "execution_count": 66,
      "id": "cardiac-sperm",
      "metadata": {
        "id": "cardiac-sperm"
      },
      "outputs": [],
      "source": [
        "# Calcule du prix unitaire des billets\n",
        "df[\"Prix_unitaire\"] = df[\"Prix\"]/df[\"Num_Billet\"].map(lambda num : qte [num])"
      ]
    },
    {
      "cell_type": "code",
      "execution_count": 67,
      "id": "decimal-mileage",
      "metadata": {
        "id": "decimal-mileage",
        "outputId": "bf3495ab-904e-477e-9ca0-a4d62b3b2e57",
        "colab": {
          "base_uri": "https://localhost:8080/",
          "height": 363
        }
      },
      "outputs": [
        {
          "output_type": "execute_result",
          "data": {
            "text/plain": [
              "   Naissance Date_Achat Num_Billet    Prix  Age Age_categories  Prix_unitaire\n",
              "0 1997-05-20 2020-06-18     D20103   63.98   23    Adolescents          31.99\n",
              "1 1980-10-21 2018-07-01     F18278   65.98   38        Adultes          32.99\n",
              "2 2006-04-09 2019-07-19     F19351  149.95   13        Enfants          29.99\n",
              "3 1981-07-13 2019-07-19     F19351  149.95   38        Adultes          29.99\n",
              "4 2000-03-03 2018-11-09     S18423   34.99   18    Adolescents          34.99\n",
              "5 1994-01-17 2020-06-18     D20103   63.98   26        Adultes          31.99\n",
              "6 2009-04-01 2019-07-19     F19351  149.95   10        Enfants          29.99\n",
              "7 1982-03-27 2019-07-19     F19351  149.95   37        Adultes          29.99\n",
              "8 2006-10-17 2018-07-01     F18278   65.98   12        Enfants          32.99\n",
              "9 2009-07-27 2019-07-19     F19351  149.95   10        Enfants          29.99"
            ],
            "text/html": [
              "\n",
              "  <div id=\"df-80bcf72e-7311-4ccf-92d0-353b6aed7f2c\">\n",
              "    <div class=\"colab-df-container\">\n",
              "      <div>\n",
              "<style scoped>\n",
              "    .dataframe tbody tr th:only-of-type {\n",
              "        vertical-align: middle;\n",
              "    }\n",
              "\n",
              "    .dataframe tbody tr th {\n",
              "        vertical-align: top;\n",
              "    }\n",
              "\n",
              "    .dataframe thead th {\n",
              "        text-align: right;\n",
              "    }\n",
              "</style>\n",
              "<table border=\"1\" class=\"dataframe\">\n",
              "  <thead>\n",
              "    <tr style=\"text-align: right;\">\n",
              "      <th></th>\n",
              "      <th>Naissance</th>\n",
              "      <th>Date_Achat</th>\n",
              "      <th>Num_Billet</th>\n",
              "      <th>Prix</th>\n",
              "      <th>Age</th>\n",
              "      <th>Age_categories</th>\n",
              "      <th>Prix_unitaire</th>\n",
              "    </tr>\n",
              "  </thead>\n",
              "  <tbody>\n",
              "    <tr>\n",
              "      <th>0</th>\n",
              "      <td>1997-05-20</td>\n",
              "      <td>2020-06-18</td>\n",
              "      <td>D20103</td>\n",
              "      <td>63.98</td>\n",
              "      <td>23</td>\n",
              "      <td>Adolescents</td>\n",
              "      <td>31.99</td>\n",
              "    </tr>\n",
              "    <tr>\n",
              "      <th>1</th>\n",
              "      <td>1980-10-21</td>\n",
              "      <td>2018-07-01</td>\n",
              "      <td>F18278</td>\n",
              "      <td>65.98</td>\n",
              "      <td>38</td>\n",
              "      <td>Adultes</td>\n",
              "      <td>32.99</td>\n",
              "    </tr>\n",
              "    <tr>\n",
              "      <th>2</th>\n",
              "      <td>2006-04-09</td>\n",
              "      <td>2019-07-19</td>\n",
              "      <td>F19351</td>\n",
              "      <td>149.95</td>\n",
              "      <td>13</td>\n",
              "      <td>Enfants</td>\n",
              "      <td>29.99</td>\n",
              "    </tr>\n",
              "    <tr>\n",
              "      <th>3</th>\n",
              "      <td>1981-07-13</td>\n",
              "      <td>2019-07-19</td>\n",
              "      <td>F19351</td>\n",
              "      <td>149.95</td>\n",
              "      <td>38</td>\n",
              "      <td>Adultes</td>\n",
              "      <td>29.99</td>\n",
              "    </tr>\n",
              "    <tr>\n",
              "      <th>4</th>\n",
              "      <td>2000-03-03</td>\n",
              "      <td>2018-11-09</td>\n",
              "      <td>S18423</td>\n",
              "      <td>34.99</td>\n",
              "      <td>18</td>\n",
              "      <td>Adolescents</td>\n",
              "      <td>34.99</td>\n",
              "    </tr>\n",
              "    <tr>\n",
              "      <th>5</th>\n",
              "      <td>1994-01-17</td>\n",
              "      <td>2020-06-18</td>\n",
              "      <td>D20103</td>\n",
              "      <td>63.98</td>\n",
              "      <td>26</td>\n",
              "      <td>Adultes</td>\n",
              "      <td>31.99</td>\n",
              "    </tr>\n",
              "    <tr>\n",
              "      <th>6</th>\n",
              "      <td>2009-04-01</td>\n",
              "      <td>2019-07-19</td>\n",
              "      <td>F19351</td>\n",
              "      <td>149.95</td>\n",
              "      <td>10</td>\n",
              "      <td>Enfants</td>\n",
              "      <td>29.99</td>\n",
              "    </tr>\n",
              "    <tr>\n",
              "      <th>7</th>\n",
              "      <td>1982-03-27</td>\n",
              "      <td>2019-07-19</td>\n",
              "      <td>F19351</td>\n",
              "      <td>149.95</td>\n",
              "      <td>37</td>\n",
              "      <td>Adultes</td>\n",
              "      <td>29.99</td>\n",
              "    </tr>\n",
              "    <tr>\n",
              "      <th>8</th>\n",
              "      <td>2006-10-17</td>\n",
              "      <td>2018-07-01</td>\n",
              "      <td>F18278</td>\n",
              "      <td>65.98</td>\n",
              "      <td>12</td>\n",
              "      <td>Enfants</td>\n",
              "      <td>32.99</td>\n",
              "    </tr>\n",
              "    <tr>\n",
              "      <th>9</th>\n",
              "      <td>2009-07-27</td>\n",
              "      <td>2019-07-19</td>\n",
              "      <td>F19351</td>\n",
              "      <td>149.95</td>\n",
              "      <td>10</td>\n",
              "      <td>Enfants</td>\n",
              "      <td>29.99</td>\n",
              "    </tr>\n",
              "  </tbody>\n",
              "</table>\n",
              "</div>\n",
              "      <button class=\"colab-df-convert\" onclick=\"convertToInteractive('df-80bcf72e-7311-4ccf-92d0-353b6aed7f2c')\"\n",
              "              title=\"Convert this dataframe to an interactive table.\"\n",
              "              style=\"display:none;\">\n",
              "        \n",
              "  <svg xmlns=\"http://www.w3.org/2000/svg\" height=\"24px\"viewBox=\"0 0 24 24\"\n",
              "       width=\"24px\">\n",
              "    <path d=\"M0 0h24v24H0V0z\" fill=\"none\"/>\n",
              "    <path d=\"M18.56 5.44l.94 2.06.94-2.06 2.06-.94-2.06-.94-.94-2.06-.94 2.06-2.06.94zm-11 1L8.5 8.5l.94-2.06 2.06-.94-2.06-.94L8.5 2.5l-.94 2.06-2.06.94zm10 10l.94 2.06.94-2.06 2.06-.94-2.06-.94-.94-2.06-.94 2.06-2.06.94z\"/><path d=\"M17.41 7.96l-1.37-1.37c-.4-.4-.92-.59-1.43-.59-.52 0-1.04.2-1.43.59L10.3 9.45l-7.72 7.72c-.78.78-.78 2.05 0 2.83L4 21.41c.39.39.9.59 1.41.59.51 0 1.02-.2 1.41-.59l7.78-7.78 2.81-2.81c.8-.78.8-2.07 0-2.86zM5.41 20L4 18.59l7.72-7.72 1.47 1.35L5.41 20z\"/>\n",
              "  </svg>\n",
              "      </button>\n",
              "      \n",
              "  <style>\n",
              "    .colab-df-container {\n",
              "      display:flex;\n",
              "      flex-wrap:wrap;\n",
              "      gap: 12px;\n",
              "    }\n",
              "\n",
              "    .colab-df-convert {\n",
              "      background-color: #E8F0FE;\n",
              "      border: none;\n",
              "      border-radius: 50%;\n",
              "      cursor: pointer;\n",
              "      display: none;\n",
              "      fill: #1967D2;\n",
              "      height: 32px;\n",
              "      padding: 0 0 0 0;\n",
              "      width: 32px;\n",
              "    }\n",
              "\n",
              "    .colab-df-convert:hover {\n",
              "      background-color: #E2EBFA;\n",
              "      box-shadow: 0px 1px 2px rgba(60, 64, 67, 0.3), 0px 1px 3px 1px rgba(60, 64, 67, 0.15);\n",
              "      fill: #174EA6;\n",
              "    }\n",
              "\n",
              "    [theme=dark] .colab-df-convert {\n",
              "      background-color: #3B4455;\n",
              "      fill: #D2E3FC;\n",
              "    }\n",
              "\n",
              "    [theme=dark] .colab-df-convert:hover {\n",
              "      background-color: #434B5C;\n",
              "      box-shadow: 0px 1px 3px 1px rgba(0, 0, 0, 0.15);\n",
              "      filter: drop-shadow(0px 1px 2px rgba(0, 0, 0, 0.3));\n",
              "      fill: #FFFFFF;\n",
              "    }\n",
              "  </style>\n",
              "\n",
              "      <script>\n",
              "        const buttonEl =\n",
              "          document.querySelector('#df-80bcf72e-7311-4ccf-92d0-353b6aed7f2c button.colab-df-convert');\n",
              "        buttonEl.style.display =\n",
              "          google.colab.kernel.accessAllowed ? 'block' : 'none';\n",
              "\n",
              "        async function convertToInteractive(key) {\n",
              "          const element = document.querySelector('#df-80bcf72e-7311-4ccf-92d0-353b6aed7f2c');\n",
              "          const dataTable =\n",
              "            await google.colab.kernel.invokeFunction('convertToInteractive',\n",
              "                                                     [key], {});\n",
              "          if (!dataTable) return;\n",
              "\n",
              "          const docLinkHtml = 'Like what you see? Visit the ' +\n",
              "            '<a target=\"_blank\" href=https://colab.research.google.com/notebooks/data_table.ipynb>data table notebook</a>'\n",
              "            + ' to learn more about interactive tables.';\n",
              "          element.innerHTML = '';\n",
              "          dataTable['output_type'] = 'display_data';\n",
              "          await google.colab.output.renderOutput(dataTable, element);\n",
              "          const docLink = document.createElement('div');\n",
              "          docLink.innerHTML = docLinkHtml;\n",
              "          element.appendChild(docLink);\n",
              "        }\n",
              "      </script>\n",
              "    </div>\n",
              "  </div>\n",
              "  "
            ]
          },
          "metadata": {},
          "execution_count": 67
        }
      ],
      "source": [
        "# Vérification, afficher le dataframe\n",
        "df"
      ]
    },
    {
      "cell_type": "markdown",
      "id": "frequent-chair",
      "metadata": {
        "id": "frequent-chair"
      },
      "source": [
        "## pratique 2"
      ]
    },
    {
      "cell_type": "markdown",
      "id": "scenic-shooting",
      "metadata": {
        "id": "scenic-shooting"
      },
      "source": [
        "## list comprehension"
      ]
    },
    {
      "cell_type": "markdown",
      "id": "prepared-partner",
      "metadata": {
        "id": "prepared-partner"
      },
      "source": [
        "La technique dite de liste compréhension consiste à insérer une boucle for à l’intérieur d’une liste. Pour mieux comprendre, on donne l’exemple suivant qui consiste à ajouter les nombres de 0 à 4 dans une liste."
      ]
    },
    {
      "cell_type": "markdown",
      "id": "latest-import",
      "metadata": {
        "id": "latest-import"
      },
      "source": [
        "### méthode classique"
      ]
    },
    {
      "cell_type": "code",
      "execution_count": 68,
      "id": "integrated-flash",
      "metadata": {
        "id": "integrated-flash"
      },
      "outputs": [],
      "source": [
        "# déclarer une liste vide\n",
        "liste_1 = []\n",
        "# dans une boucle, ajouter les éléments à la liste\n",
        "for i in range(5):\n",
        "    liste_1.append(i)    "
      ]
    },
    {
      "cell_type": "code",
      "execution_count": 69,
      "id": "quarterly-consideration",
      "metadata": {
        "id": "quarterly-consideration",
        "outputId": "43537606-04c3-41a1-9194-a29bfd06922c",
        "colab": {
          "base_uri": "https://localhost:8080/"
        }
      },
      "outputs": [
        {
          "output_type": "stream",
          "name": "stdout",
          "text": [
            "[0, 1, 2, 3, 4]\n"
          ]
        }
      ],
      "source": [
        "# afficher la liste_1\n",
        "print(liste_1)"
      ]
    },
    {
      "cell_type": "markdown",
      "id": "bronze-horizon",
      "metadata": {
        "id": "bronze-horizon"
      },
      "source": [
        "### list comprehension"
      ]
    },
    {
      "cell_type": "code",
      "execution_count": 70,
      "id": "qualified-vintage",
      "metadata": {
        "id": "qualified-vintage"
      },
      "outputs": [],
      "source": [
        "liste_2 = [i for i in range(5)]"
      ]
    },
    {
      "cell_type": "code",
      "execution_count": 71,
      "id": "scientific-width",
      "metadata": {
        "id": "scientific-width",
        "outputId": "e5f5803b-566c-4ae6-8860-139eef29cc6f",
        "colab": {
          "base_uri": "https://localhost:8080/"
        }
      },
      "outputs": [
        {
          "output_type": "execute_result",
          "data": {
            "text/plain": [
              "[0, 1, 2, 3, 4]"
            ]
          },
          "metadata": {},
          "execution_count": 71
        }
      ],
      "source": [
        "# afficher la liste_2\n",
        "liste_2"
      ]
    },
    {
      "cell_type": "markdown",
      "id": "biblical-philippines",
      "metadata": {
        "id": "biblical-philippines"
      },
      "source": [
        "* Notes et explications:\n",
        "    * **[ i for i in range(5) ]** : signifie, générer une liste (car le code est entre crochets **[...]** ) qui contient les éléments \"i\" pour \"i\" dans range(5)\n",
        "    *  Les list comprehension sont très utilisées car: \n",
        "        * Car elles permettent de réduire le nombre de lignes de code nécessaires\n",
        "        * Elles font partie des bonnes pratiques\n",
        "        * Offrent un gain de temps en calcule     "
      ]
    },
    {
      "cell_type": "markdown",
      "id": "opposite-desktop",
      "metadata": {
        "id": "opposite-desktop"
      },
      "source": [
        "#### exemple 2"
      ]
    },
    {
      "cell_type": "code",
      "execution_count": 72,
      "id": "mature-finland",
      "metadata": {
        "id": "mature-finland"
      },
      "outputs": [],
      "source": [
        "# soit la liste d'éléments suivant:\n",
        "maliste = [\"1\",\"A\", \"B\", \"2\", \"C\", \"3\"]"
      ]
    },
    {
      "cell_type": "code",
      "execution_count": 73,
      "id": "exciting-correspondence",
      "metadata": {
        "id": "exciting-correspondence"
      },
      "outputs": [],
      "source": [
        "# On peut facilement générer une liste contenant que les numéros et une autre que les lettres\n",
        "liste_num     = [element for element in maliste if     element.isdigit()]\n",
        "liste_lettres = [element for element in maliste if not element.isdigit()]"
      ]
    },
    {
      "cell_type": "code",
      "execution_count": 74,
      "id": "oriented-correlation",
      "metadata": {
        "id": "oriented-correlation",
        "outputId": "bae926e3-2d7f-433b-8669-2a21da8fad19",
        "colab": {
          "base_uri": "https://localhost:8080/"
        }
      },
      "outputs": [
        {
          "output_type": "stream",
          "name": "stdout",
          "text": [
            "liste_num =  ['1', '2', '3'] et liste_lettres =  ['A', 'B', 'C']\n"
          ]
        }
      ],
      "source": [
        "# affichage\n",
        "print(\"liste_num = \", liste_num,  \"et liste_lettres = \", liste_lettres)"
      ]
    },
    {
      "cell_type": "markdown",
      "id": "shaped-extreme",
      "metadata": {
        "id": "shaped-extreme"
      },
      "source": [
        "* Note:\n",
        "    * **Essayez d'utiliser list comprehension pour le reste de l'exercice**"
      ]
    },
    {
      "cell_type": "markdown",
      "id": "egyptian-indie",
      "metadata": {
        "id": "egyptian-indie"
      },
      "source": [
        "## charger les données"
      ]
    },
    {
      "cell_type": "code",
      "execution_count": 75,
      "id": "divine-medication",
      "metadata": {
        "id": "divine-medication",
        "outputId": "254b0e40-2604-43c3-e2a6-a0112d8a7d91",
        "colab": {
          "base_uri": "https://localhost:8080/",
          "height": 206
        }
      },
      "outputs": [
        {
          "output_type": "execute_result",
          "data": {
            "text/plain": [
              "                                           Documents\n",
              "0  La connaissance s'acquiert par l'expérience, t...\n",
              "1             Qui veut aller loin ménage sa monture.\n",
              "2  Un arbre qui tombe fait plus de bruit qu'une f...\n",
              "3    À vaincre sans péril, on triomphe sans gloire! \n",
              "4  Un homme n'est jamais si grand que lorsqu'il e..."
            ],
            "text/html": [
              "\n",
              "  <div id=\"df-e3f76f78-524d-4130-9ef7-767488aa736c\">\n",
              "    <div class=\"colab-df-container\">\n",
              "      <div>\n",
              "<style scoped>\n",
              "    .dataframe tbody tr th:only-of-type {\n",
              "        vertical-align: middle;\n",
              "    }\n",
              "\n",
              "    .dataframe tbody tr th {\n",
              "        vertical-align: top;\n",
              "    }\n",
              "\n",
              "    .dataframe thead th {\n",
              "        text-align: right;\n",
              "    }\n",
              "</style>\n",
              "<table border=\"1\" class=\"dataframe\">\n",
              "  <thead>\n",
              "    <tr style=\"text-align: right;\">\n",
              "      <th></th>\n",
              "      <th>Documents</th>\n",
              "    </tr>\n",
              "  </thead>\n",
              "  <tbody>\n",
              "    <tr>\n",
              "      <th>0</th>\n",
              "      <td>La connaissance s'acquiert par l'expérience, t...</td>\n",
              "    </tr>\n",
              "    <tr>\n",
              "      <th>1</th>\n",
              "      <td>Qui veut aller loin ménage sa monture.</td>\n",
              "    </tr>\n",
              "    <tr>\n",
              "      <th>2</th>\n",
              "      <td>Un arbre qui tombe fait plus de bruit qu'une f...</td>\n",
              "    </tr>\n",
              "    <tr>\n",
              "      <th>3</th>\n",
              "      <td>À vaincre sans péril, on triomphe sans gloire!</td>\n",
              "    </tr>\n",
              "    <tr>\n",
              "      <th>4</th>\n",
              "      <td>Un homme n'est jamais si grand que lorsqu'il e...</td>\n",
              "    </tr>\n",
              "  </tbody>\n",
              "</table>\n",
              "</div>\n",
              "      <button class=\"colab-df-convert\" onclick=\"convertToInteractive('df-e3f76f78-524d-4130-9ef7-767488aa736c')\"\n",
              "              title=\"Convert this dataframe to an interactive table.\"\n",
              "              style=\"display:none;\">\n",
              "        \n",
              "  <svg xmlns=\"http://www.w3.org/2000/svg\" height=\"24px\"viewBox=\"0 0 24 24\"\n",
              "       width=\"24px\">\n",
              "    <path d=\"M0 0h24v24H0V0z\" fill=\"none\"/>\n",
              "    <path d=\"M18.56 5.44l.94 2.06.94-2.06 2.06-.94-2.06-.94-.94-2.06-.94 2.06-2.06.94zm-11 1L8.5 8.5l.94-2.06 2.06-.94-2.06-.94L8.5 2.5l-.94 2.06-2.06.94zm10 10l.94 2.06.94-2.06 2.06-.94-2.06-.94-.94-2.06-.94 2.06-2.06.94z\"/><path d=\"M17.41 7.96l-1.37-1.37c-.4-.4-.92-.59-1.43-.59-.52 0-1.04.2-1.43.59L10.3 9.45l-7.72 7.72c-.78.78-.78 2.05 0 2.83L4 21.41c.39.39.9.59 1.41.59.51 0 1.02-.2 1.41-.59l7.78-7.78 2.81-2.81c.8-.78.8-2.07 0-2.86zM5.41 20L4 18.59l7.72-7.72 1.47 1.35L5.41 20z\"/>\n",
              "  </svg>\n",
              "      </button>\n",
              "      \n",
              "  <style>\n",
              "    .colab-df-container {\n",
              "      display:flex;\n",
              "      flex-wrap:wrap;\n",
              "      gap: 12px;\n",
              "    }\n",
              "\n",
              "    .colab-df-convert {\n",
              "      background-color: #E8F0FE;\n",
              "      border: none;\n",
              "      border-radius: 50%;\n",
              "      cursor: pointer;\n",
              "      display: none;\n",
              "      fill: #1967D2;\n",
              "      height: 32px;\n",
              "      padding: 0 0 0 0;\n",
              "      width: 32px;\n",
              "    }\n",
              "\n",
              "    .colab-df-convert:hover {\n",
              "      background-color: #E2EBFA;\n",
              "      box-shadow: 0px 1px 2px rgba(60, 64, 67, 0.3), 0px 1px 3px 1px rgba(60, 64, 67, 0.15);\n",
              "      fill: #174EA6;\n",
              "    }\n",
              "\n",
              "    [theme=dark] .colab-df-convert {\n",
              "      background-color: #3B4455;\n",
              "      fill: #D2E3FC;\n",
              "    }\n",
              "\n",
              "    [theme=dark] .colab-df-convert:hover {\n",
              "      background-color: #434B5C;\n",
              "      box-shadow: 0px 1px 3px 1px rgba(0, 0, 0, 0.15);\n",
              "      filter: drop-shadow(0px 1px 2px rgba(0, 0, 0, 0.3));\n",
              "      fill: #FFFFFF;\n",
              "    }\n",
              "  </style>\n",
              "\n",
              "      <script>\n",
              "        const buttonEl =\n",
              "          document.querySelector('#df-e3f76f78-524d-4130-9ef7-767488aa736c button.colab-df-convert');\n",
              "        buttonEl.style.display =\n",
              "          google.colab.kernel.accessAllowed ? 'block' : 'none';\n",
              "\n",
              "        async function convertToInteractive(key) {\n",
              "          const element = document.querySelector('#df-e3f76f78-524d-4130-9ef7-767488aa736c');\n",
              "          const dataTable =\n",
              "            await google.colab.kernel.invokeFunction('convertToInteractive',\n",
              "                                                     [key], {});\n",
              "          if (!dataTable) return;\n",
              "\n",
              "          const docLinkHtml = 'Like what you see? Visit the ' +\n",
              "            '<a target=\"_blank\" href=https://colab.research.google.com/notebooks/data_table.ipynb>data table notebook</a>'\n",
              "            + ' to learn more about interactive tables.';\n",
              "          element.innerHTML = '';\n",
              "          dataTable['output_type'] = 'display_data';\n",
              "          await google.colab.output.renderOutput(dataTable, element);\n",
              "          const docLink = document.createElement('div');\n",
              "          docLink.innerHTML = docLinkHtml;\n",
              "          element.appendChild(docLink);\n",
              "        }\n",
              "      </script>\n",
              "    </div>\n",
              "  </div>\n",
              "  "
            ]
          },
          "metadata": {},
          "execution_count": 75
        }
      ],
      "source": [
        "# Importer pandas\n",
        "import pandas as pd\n",
        "\n",
        "# charger les données contenues dans un fichiers csv se trouvant sur drive\n",
        "URL = 'https://drive.google.com/file/d/1nihuawEZ18ljI83_ajW8sR4xF2ckO-b1/view?usp=sharing'\n",
        "data_texte = 'https://drive.google.com/uc?export=download&id='+URL.split('/')[-2]\n",
        "\n",
        "# Charger les données\n",
        "df = pd.read_csv(data_texte)\n",
        "# Afficher dataframe\n",
        "df"
      ]
    },
    {
      "cell_type": "code",
      "execution_count": 84,
      "id": "recreational-yeast",
      "metadata": {
        "id": "recreational-yeast",
        "outputId": "b0d7c7dc-d502-4ed6-bdf5-8cdce443c9df",
        "colab": {
          "base_uri": "https://localhost:8080/"
        }
      },
      "outputs": [
        {
          "output_type": "stream",
          "name": "stdout",
          "text": [
            "Looking in indexes: https://pypi.org/simple, https://us-python.pkg.dev/colab-wheels/public/simple/\n",
            "Requirement already satisfied: TextBlob in /usr/local/lib/python3.7/dist-packages (0.15.3)\n",
            "Requirement already satisfied: nltk>=3.1 in /usr/local/lib/python3.7/dist-packages (from TextBlob) (3.2.5)\n",
            "Requirement already satisfied: six in /usr/local/lib/python3.7/dist-packages (from nltk>=3.1->TextBlob) (1.15.0)\n"
          ]
        }
      ],
      "source": [
        "# Installer TextBlob\n",
        "!pip install  TextBlob"
      ]
    },
    {
      "cell_type": "code",
      "execution_count": 98,
      "id": "historical-muslim",
      "metadata": {
        "id": "historical-muslim",
        "outputId": "3fc083c3-c972-4774-e76c-910d689333b7",
        "colab": {
          "base_uri": "https://localhost:8080/"
        }
      },
      "outputs": [
        {
          "output_type": "stream",
          "name": "stdout",
          "text": [
            "[nltk_data] Downloading package punkt to /root/nltk_data...\n",
            "[nltk_data]   Unzipping tokenizers/punkt.zip.\n"
          ]
        },
        {
          "output_type": "execute_result",
          "data": {
            "text/plain": [
              "True"
            ]
          },
          "metadata": {},
          "execution_count": 98
        }
      ],
      "source": [
        "# importer TextBlob\n",
        "from textblob import TextBlob\n",
        "import nltk\n",
        "nltk.download('punkt')\n"
      ]
    },
    {
      "cell_type": "code",
      "execution_count": 99,
      "id": "brave-lodging",
      "metadata": {
        "id": "brave-lodging"
      },
      "outputs": [],
      "source": [
        "# Comme on l'a vu dans la vidéo du cours, à l'aide de TextBlob, proceder à la tokenisation des documents, \n",
        "df[\"tokens\"] = df[\"Documents\"].map(lambda doc: TextBlob(doc.lower()).words)"
      ]
    },
    {
      "cell_type": "code",
      "execution_count": 100,
      "id": "collect-receptor",
      "metadata": {
        "id": "collect-receptor",
        "outputId": "c368dda1-4ff5-4c37-9ad9-586b583a60c8",
        "colab": {
          "base_uri": "https://localhost:8080/",
          "height": 206
        }
      },
      "outputs": [
        {
          "output_type": "execute_result",
          "data": {
            "text/plain": [
              "                                           Documents  \\\n",
              "0  La connaissance s'acquiert par l'expérience, t...   \n",
              "1             Qui veut aller loin ménage sa monture.   \n",
              "2  Un arbre qui tombe fait plus de bruit qu'une f...   \n",
              "3    À vaincre sans péril, on triomphe sans gloire!    \n",
              "4  Un homme n'est jamais si grand que lorsqu'il e...   \n",
              "\n",
              "                                              tokens  \n",
              "0  [la, connaissance, s'acquiert, par, l'expérien...  \n",
              "1      [qui, veut, aller, loin, ménage, sa, monture]  \n",
              "2  [un, arbre, qui, tombe, fait, plus, de, bruit,...  \n",
              "3  [à, vaincre, sans, péril, on, triomphe, sans, ...  \n",
              "4  [un, homme, n'est, jamais, si, grand, que, lor...  "
            ],
            "text/html": [
              "\n",
              "  <div id=\"df-b0934704-535d-4753-a1be-1706ef57f034\">\n",
              "    <div class=\"colab-df-container\">\n",
              "      <div>\n",
              "<style scoped>\n",
              "    .dataframe tbody tr th:only-of-type {\n",
              "        vertical-align: middle;\n",
              "    }\n",
              "\n",
              "    .dataframe tbody tr th {\n",
              "        vertical-align: top;\n",
              "    }\n",
              "\n",
              "    .dataframe thead th {\n",
              "        text-align: right;\n",
              "    }\n",
              "</style>\n",
              "<table border=\"1\" class=\"dataframe\">\n",
              "  <thead>\n",
              "    <tr style=\"text-align: right;\">\n",
              "      <th></th>\n",
              "      <th>Documents</th>\n",
              "      <th>tokens</th>\n",
              "    </tr>\n",
              "  </thead>\n",
              "  <tbody>\n",
              "    <tr>\n",
              "      <th>0</th>\n",
              "      <td>La connaissance s'acquiert par l'expérience, t...</td>\n",
              "      <td>[la, connaissance, s'acquiert, par, l'expérien...</td>\n",
              "    </tr>\n",
              "    <tr>\n",
              "      <th>1</th>\n",
              "      <td>Qui veut aller loin ménage sa monture.</td>\n",
              "      <td>[qui, veut, aller, loin, ménage, sa, monture]</td>\n",
              "    </tr>\n",
              "    <tr>\n",
              "      <th>2</th>\n",
              "      <td>Un arbre qui tombe fait plus de bruit qu'une f...</td>\n",
              "      <td>[un, arbre, qui, tombe, fait, plus, de, bruit,...</td>\n",
              "    </tr>\n",
              "    <tr>\n",
              "      <th>3</th>\n",
              "      <td>À vaincre sans péril, on triomphe sans gloire!</td>\n",
              "      <td>[à, vaincre, sans, péril, on, triomphe, sans, ...</td>\n",
              "    </tr>\n",
              "    <tr>\n",
              "      <th>4</th>\n",
              "      <td>Un homme n'est jamais si grand que lorsqu'il e...</td>\n",
              "      <td>[un, homme, n'est, jamais, si, grand, que, lor...</td>\n",
              "    </tr>\n",
              "  </tbody>\n",
              "</table>\n",
              "</div>\n",
              "      <button class=\"colab-df-convert\" onclick=\"convertToInteractive('df-b0934704-535d-4753-a1be-1706ef57f034')\"\n",
              "              title=\"Convert this dataframe to an interactive table.\"\n",
              "              style=\"display:none;\">\n",
              "        \n",
              "  <svg xmlns=\"http://www.w3.org/2000/svg\" height=\"24px\"viewBox=\"0 0 24 24\"\n",
              "       width=\"24px\">\n",
              "    <path d=\"M0 0h24v24H0V0z\" fill=\"none\"/>\n",
              "    <path d=\"M18.56 5.44l.94 2.06.94-2.06 2.06-.94-2.06-.94-.94-2.06-.94 2.06-2.06.94zm-11 1L8.5 8.5l.94-2.06 2.06-.94-2.06-.94L8.5 2.5l-.94 2.06-2.06.94zm10 10l.94 2.06.94-2.06 2.06-.94-2.06-.94-.94-2.06-.94 2.06-2.06.94z\"/><path d=\"M17.41 7.96l-1.37-1.37c-.4-.4-.92-.59-1.43-.59-.52 0-1.04.2-1.43.59L10.3 9.45l-7.72 7.72c-.78.78-.78 2.05 0 2.83L4 21.41c.39.39.9.59 1.41.59.51 0 1.02-.2 1.41-.59l7.78-7.78 2.81-2.81c.8-.78.8-2.07 0-2.86zM5.41 20L4 18.59l7.72-7.72 1.47 1.35L5.41 20z\"/>\n",
              "  </svg>\n",
              "      </button>\n",
              "      \n",
              "  <style>\n",
              "    .colab-df-container {\n",
              "      display:flex;\n",
              "      flex-wrap:wrap;\n",
              "      gap: 12px;\n",
              "    }\n",
              "\n",
              "    .colab-df-convert {\n",
              "      background-color: #E8F0FE;\n",
              "      border: none;\n",
              "      border-radius: 50%;\n",
              "      cursor: pointer;\n",
              "      display: none;\n",
              "      fill: #1967D2;\n",
              "      height: 32px;\n",
              "      padding: 0 0 0 0;\n",
              "      width: 32px;\n",
              "    }\n",
              "\n",
              "    .colab-df-convert:hover {\n",
              "      background-color: #E2EBFA;\n",
              "      box-shadow: 0px 1px 2px rgba(60, 64, 67, 0.3), 0px 1px 3px 1px rgba(60, 64, 67, 0.15);\n",
              "      fill: #174EA6;\n",
              "    }\n",
              "\n",
              "    [theme=dark] .colab-df-convert {\n",
              "      background-color: #3B4455;\n",
              "      fill: #D2E3FC;\n",
              "    }\n",
              "\n",
              "    [theme=dark] .colab-df-convert:hover {\n",
              "      background-color: #434B5C;\n",
              "      box-shadow: 0px 1px 3px 1px rgba(0, 0, 0, 0.15);\n",
              "      filter: drop-shadow(0px 1px 2px rgba(0, 0, 0, 0.3));\n",
              "      fill: #FFFFFF;\n",
              "    }\n",
              "  </style>\n",
              "\n",
              "      <script>\n",
              "        const buttonEl =\n",
              "          document.querySelector('#df-b0934704-535d-4753-a1be-1706ef57f034 button.colab-df-convert');\n",
              "        buttonEl.style.display =\n",
              "          google.colab.kernel.accessAllowed ? 'block' : 'none';\n",
              "\n",
              "        async function convertToInteractive(key) {\n",
              "          const element = document.querySelector('#df-b0934704-535d-4753-a1be-1706ef57f034');\n",
              "          const dataTable =\n",
              "            await google.colab.kernel.invokeFunction('convertToInteractive',\n",
              "                                                     [key], {});\n",
              "          if (!dataTable) return;\n",
              "\n",
              "          const docLinkHtml = 'Like what you see? Visit the ' +\n",
              "            '<a target=\"_blank\" href=https://colab.research.google.com/notebooks/data_table.ipynb>data table notebook</a>'\n",
              "            + ' to learn more about interactive tables.';\n",
              "          element.innerHTML = '';\n",
              "          dataTable['output_type'] = 'display_data';\n",
              "          await google.colab.output.renderOutput(dataTable, element);\n",
              "          const docLink = document.createElement('div');\n",
              "          docLink.innerHTML = docLinkHtml;\n",
              "          element.appendChild(docLink);\n",
              "        }\n",
              "      </script>\n",
              "    </div>\n",
              "  </div>\n",
              "  "
            ]
          },
          "metadata": {},
          "execution_count": 100
        }
      ],
      "source": [
        "# Afficher le dataframe\n",
        "df"
      ]
    },
    {
      "cell_type": "markdown",
      "id": "median-sense",
      "metadata": {
        "id": "median-sense"
      },
      "source": [
        "#### nombre de mots"
      ]
    },
    {
      "cell_type": "code",
      "execution_count": 102,
      "id": "wooden-spare",
      "metadata": {
        "id": "wooden-spare"
      },
      "outputs": [],
      "source": [
        "# Créer la colonne qui donne le nombre de mots dans chaque document\n",
        "df[\"nbr_mot\"] = df[\"tokens\"].map( lambda mot: len(mot) )"
      ]
    },
    {
      "cell_type": "code",
      "execution_count": 103,
      "id": "consistent-crawford",
      "metadata": {
        "id": "consistent-crawford",
        "outputId": "881ad091-b783-4e69-e77c-3569635ce69b",
        "colab": {
          "base_uri": "https://localhost:8080/",
          "height": 206
        }
      },
      "outputs": [
        {
          "output_type": "execute_result",
          "data": {
            "text/plain": [
              "                                           Documents  \\\n",
              "0  La connaissance s'acquiert par l'expérience, t...   \n",
              "1             Qui veut aller loin ménage sa monture.   \n",
              "2  Un arbre qui tombe fait plus de bruit qu'une f...   \n",
              "3    À vaincre sans péril, on triomphe sans gloire!    \n",
              "4  Un homme n'est jamais si grand que lorsqu'il e...   \n",
              "\n",
              "                                              tokens  nbr_mot  \n",
              "0  [la, connaissance, s'acquiert, par, l'expérien...       12  \n",
              "1      [qui, veut, aller, loin, ménage, sa, monture]        7  \n",
              "2  [un, arbre, qui, tombe, fait, plus, de, bruit,...       12  \n",
              "3  [à, vaincre, sans, péril, on, triomphe, sans, ...        8  \n",
              "4  [un, homme, n'est, jamais, si, grand, que, lor...       15  "
            ],
            "text/html": [
              "\n",
              "  <div id=\"df-2200cce9-e1a4-4644-8d4a-18be42322008\">\n",
              "    <div class=\"colab-df-container\">\n",
              "      <div>\n",
              "<style scoped>\n",
              "    .dataframe tbody tr th:only-of-type {\n",
              "        vertical-align: middle;\n",
              "    }\n",
              "\n",
              "    .dataframe tbody tr th {\n",
              "        vertical-align: top;\n",
              "    }\n",
              "\n",
              "    .dataframe thead th {\n",
              "        text-align: right;\n",
              "    }\n",
              "</style>\n",
              "<table border=\"1\" class=\"dataframe\">\n",
              "  <thead>\n",
              "    <tr style=\"text-align: right;\">\n",
              "      <th></th>\n",
              "      <th>Documents</th>\n",
              "      <th>tokens</th>\n",
              "      <th>nbr_mot</th>\n",
              "    </tr>\n",
              "  </thead>\n",
              "  <tbody>\n",
              "    <tr>\n",
              "      <th>0</th>\n",
              "      <td>La connaissance s'acquiert par l'expérience, t...</td>\n",
              "      <td>[la, connaissance, s'acquiert, par, l'expérien...</td>\n",
              "      <td>12</td>\n",
              "    </tr>\n",
              "    <tr>\n",
              "      <th>1</th>\n",
              "      <td>Qui veut aller loin ménage sa monture.</td>\n",
              "      <td>[qui, veut, aller, loin, ménage, sa, monture]</td>\n",
              "      <td>7</td>\n",
              "    </tr>\n",
              "    <tr>\n",
              "      <th>2</th>\n",
              "      <td>Un arbre qui tombe fait plus de bruit qu'une f...</td>\n",
              "      <td>[un, arbre, qui, tombe, fait, plus, de, bruit,...</td>\n",
              "      <td>12</td>\n",
              "    </tr>\n",
              "    <tr>\n",
              "      <th>3</th>\n",
              "      <td>À vaincre sans péril, on triomphe sans gloire!</td>\n",
              "      <td>[à, vaincre, sans, péril, on, triomphe, sans, ...</td>\n",
              "      <td>8</td>\n",
              "    </tr>\n",
              "    <tr>\n",
              "      <th>4</th>\n",
              "      <td>Un homme n'est jamais si grand que lorsqu'il e...</td>\n",
              "      <td>[un, homme, n'est, jamais, si, grand, que, lor...</td>\n",
              "      <td>15</td>\n",
              "    </tr>\n",
              "  </tbody>\n",
              "</table>\n",
              "</div>\n",
              "      <button class=\"colab-df-convert\" onclick=\"convertToInteractive('df-2200cce9-e1a4-4644-8d4a-18be42322008')\"\n",
              "              title=\"Convert this dataframe to an interactive table.\"\n",
              "              style=\"display:none;\">\n",
              "        \n",
              "  <svg xmlns=\"http://www.w3.org/2000/svg\" height=\"24px\"viewBox=\"0 0 24 24\"\n",
              "       width=\"24px\">\n",
              "    <path d=\"M0 0h24v24H0V0z\" fill=\"none\"/>\n",
              "    <path d=\"M18.56 5.44l.94 2.06.94-2.06 2.06-.94-2.06-.94-.94-2.06-.94 2.06-2.06.94zm-11 1L8.5 8.5l.94-2.06 2.06-.94-2.06-.94L8.5 2.5l-.94 2.06-2.06.94zm10 10l.94 2.06.94-2.06 2.06-.94-2.06-.94-.94-2.06-.94 2.06-2.06.94z\"/><path d=\"M17.41 7.96l-1.37-1.37c-.4-.4-.92-.59-1.43-.59-.52 0-1.04.2-1.43.59L10.3 9.45l-7.72 7.72c-.78.78-.78 2.05 0 2.83L4 21.41c.39.39.9.59 1.41.59.51 0 1.02-.2 1.41-.59l7.78-7.78 2.81-2.81c.8-.78.8-2.07 0-2.86zM5.41 20L4 18.59l7.72-7.72 1.47 1.35L5.41 20z\"/>\n",
              "  </svg>\n",
              "      </button>\n",
              "      \n",
              "  <style>\n",
              "    .colab-df-container {\n",
              "      display:flex;\n",
              "      flex-wrap:wrap;\n",
              "      gap: 12px;\n",
              "    }\n",
              "\n",
              "    .colab-df-convert {\n",
              "      background-color: #E8F0FE;\n",
              "      border: none;\n",
              "      border-radius: 50%;\n",
              "      cursor: pointer;\n",
              "      display: none;\n",
              "      fill: #1967D2;\n",
              "      height: 32px;\n",
              "      padding: 0 0 0 0;\n",
              "      width: 32px;\n",
              "    }\n",
              "\n",
              "    .colab-df-convert:hover {\n",
              "      background-color: #E2EBFA;\n",
              "      box-shadow: 0px 1px 2px rgba(60, 64, 67, 0.3), 0px 1px 3px 1px rgba(60, 64, 67, 0.15);\n",
              "      fill: #174EA6;\n",
              "    }\n",
              "\n",
              "    [theme=dark] .colab-df-convert {\n",
              "      background-color: #3B4455;\n",
              "      fill: #D2E3FC;\n",
              "    }\n",
              "\n",
              "    [theme=dark] .colab-df-convert:hover {\n",
              "      background-color: #434B5C;\n",
              "      box-shadow: 0px 1px 3px 1px rgba(0, 0, 0, 0.15);\n",
              "      filter: drop-shadow(0px 1px 2px rgba(0, 0, 0, 0.3));\n",
              "      fill: #FFFFFF;\n",
              "    }\n",
              "  </style>\n",
              "\n",
              "      <script>\n",
              "        const buttonEl =\n",
              "          document.querySelector('#df-2200cce9-e1a4-4644-8d4a-18be42322008 button.colab-df-convert');\n",
              "        buttonEl.style.display =\n",
              "          google.colab.kernel.accessAllowed ? 'block' : 'none';\n",
              "\n",
              "        async function convertToInteractive(key) {\n",
              "          const element = document.querySelector('#df-2200cce9-e1a4-4644-8d4a-18be42322008');\n",
              "          const dataTable =\n",
              "            await google.colab.kernel.invokeFunction('convertToInteractive',\n",
              "                                                     [key], {});\n",
              "          if (!dataTable) return;\n",
              "\n",
              "          const docLinkHtml = 'Like what you see? Visit the ' +\n",
              "            '<a target=\"_blank\" href=https://colab.research.google.com/notebooks/data_table.ipynb>data table notebook</a>'\n",
              "            + ' to learn more about interactive tables.';\n",
              "          element.innerHTML = '';\n",
              "          dataTable['output_type'] = 'display_data';\n",
              "          await google.colab.output.renderOutput(dataTable, element);\n",
              "          const docLink = document.createElement('div');\n",
              "          docLink.innerHTML = docLinkHtml;\n",
              "          element.appendChild(docLink);\n",
              "        }\n",
              "      </script>\n",
              "    </div>\n",
              "  </div>\n",
              "  "
            ]
          },
          "metadata": {},
          "execution_count": 103
        }
      ],
      "source": [
        "# Afficher le dataframe\n",
        "df"
      ]
    },
    {
      "cell_type": "markdown",
      "id": "graphic-depth",
      "metadata": {
        "id": "graphic-depth"
      },
      "source": [
        "#### longueur moyenne des mots"
      ]
    },
    {
      "cell_type": "code",
      "execution_count": 109,
      "id": "beginning-adoption",
      "metadata": {
        "id": "beginning-adoption"
      },
      "outputs": [],
      "source": [
        "# Créer la colonne qui donne la longueur moyenne des mots dans chaque document\n",
        "df[\"longueur_moyenne\"] = df[\"tokens\"].map( lambda doc : round(sum(len(mot) for mot in doc)/len(doc)))\n",
        "#df[\"longueur_moyenne\"] = df[\"tokens\"].map(lambda document : sum(len(mot) for mot in document) / len(document))"
      ]
    },
    {
      "cell_type": "code",
      "execution_count": 110,
      "id": "advance-entry",
      "metadata": {
        "id": "advance-entry",
        "outputId": "56cc2ddc-15e5-401f-a46d-7fc8da087e9e",
        "colab": {
          "base_uri": "https://localhost:8080/",
          "height": 206
        }
      },
      "outputs": [
        {
          "output_type": "execute_result",
          "data": {
            "text/plain": [
              "                                           Documents  \\\n",
              "0  La connaissance s'acquiert par l'expérience, t...   \n",
              "1             Qui veut aller loin ménage sa monture.   \n",
              "2  Un arbre qui tombe fait plus de bruit qu'une f...   \n",
              "3    À vaincre sans péril, on triomphe sans gloire!    \n",
              "4  Un homme n'est jamais si grand que lorsqu'il e...   \n",
              "\n",
              "                                              tokens  nbr_mot  \\\n",
              "0  [la, connaissance, s'acquiert, par, l'expérien...       12   \n",
              "1      [qui, veut, aller, loin, ménage, sa, monture]        7   \n",
              "2  [un, arbre, qui, tombe, fait, plus, de, bruit,...       12   \n",
              "3  [à, vaincre, sans, péril, on, triomphe, sans, ...        8   \n",
              "4  [un, homme, n'est, jamais, si, grand, que, lor...       15   \n",
              "\n",
              "   longueur_moyenne  \n",
              "0                 6  \n",
              "1                 4  \n",
              "2                 4  \n",
              "3                 5  \n",
              "4                 4  "
            ],
            "text/html": [
              "\n",
              "  <div id=\"df-bc308593-9e4b-4854-bc2c-f23a310b6178\">\n",
              "    <div class=\"colab-df-container\">\n",
              "      <div>\n",
              "<style scoped>\n",
              "    .dataframe tbody tr th:only-of-type {\n",
              "        vertical-align: middle;\n",
              "    }\n",
              "\n",
              "    .dataframe tbody tr th {\n",
              "        vertical-align: top;\n",
              "    }\n",
              "\n",
              "    .dataframe thead th {\n",
              "        text-align: right;\n",
              "    }\n",
              "</style>\n",
              "<table border=\"1\" class=\"dataframe\">\n",
              "  <thead>\n",
              "    <tr style=\"text-align: right;\">\n",
              "      <th></th>\n",
              "      <th>Documents</th>\n",
              "      <th>tokens</th>\n",
              "      <th>nbr_mot</th>\n",
              "      <th>longueur_moyenne</th>\n",
              "    </tr>\n",
              "  </thead>\n",
              "  <tbody>\n",
              "    <tr>\n",
              "      <th>0</th>\n",
              "      <td>La connaissance s'acquiert par l'expérience, t...</td>\n",
              "      <td>[la, connaissance, s'acquiert, par, l'expérien...</td>\n",
              "      <td>12</td>\n",
              "      <td>6</td>\n",
              "    </tr>\n",
              "    <tr>\n",
              "      <th>1</th>\n",
              "      <td>Qui veut aller loin ménage sa monture.</td>\n",
              "      <td>[qui, veut, aller, loin, ménage, sa, monture]</td>\n",
              "      <td>7</td>\n",
              "      <td>4</td>\n",
              "    </tr>\n",
              "    <tr>\n",
              "      <th>2</th>\n",
              "      <td>Un arbre qui tombe fait plus de bruit qu'une f...</td>\n",
              "      <td>[un, arbre, qui, tombe, fait, plus, de, bruit,...</td>\n",
              "      <td>12</td>\n",
              "      <td>4</td>\n",
              "    </tr>\n",
              "    <tr>\n",
              "      <th>3</th>\n",
              "      <td>À vaincre sans péril, on triomphe sans gloire!</td>\n",
              "      <td>[à, vaincre, sans, péril, on, triomphe, sans, ...</td>\n",
              "      <td>8</td>\n",
              "      <td>5</td>\n",
              "    </tr>\n",
              "    <tr>\n",
              "      <th>4</th>\n",
              "      <td>Un homme n'est jamais si grand que lorsqu'il e...</td>\n",
              "      <td>[un, homme, n'est, jamais, si, grand, que, lor...</td>\n",
              "      <td>15</td>\n",
              "      <td>4</td>\n",
              "    </tr>\n",
              "  </tbody>\n",
              "</table>\n",
              "</div>\n",
              "      <button class=\"colab-df-convert\" onclick=\"convertToInteractive('df-bc308593-9e4b-4854-bc2c-f23a310b6178')\"\n",
              "              title=\"Convert this dataframe to an interactive table.\"\n",
              "              style=\"display:none;\">\n",
              "        \n",
              "  <svg xmlns=\"http://www.w3.org/2000/svg\" height=\"24px\"viewBox=\"0 0 24 24\"\n",
              "       width=\"24px\">\n",
              "    <path d=\"M0 0h24v24H0V0z\" fill=\"none\"/>\n",
              "    <path d=\"M18.56 5.44l.94 2.06.94-2.06 2.06-.94-2.06-.94-.94-2.06-.94 2.06-2.06.94zm-11 1L8.5 8.5l.94-2.06 2.06-.94-2.06-.94L8.5 2.5l-.94 2.06-2.06.94zm10 10l.94 2.06.94-2.06 2.06-.94-2.06-.94-.94-2.06-.94 2.06-2.06.94z\"/><path d=\"M17.41 7.96l-1.37-1.37c-.4-.4-.92-.59-1.43-.59-.52 0-1.04.2-1.43.59L10.3 9.45l-7.72 7.72c-.78.78-.78 2.05 0 2.83L4 21.41c.39.39.9.59 1.41.59.51 0 1.02-.2 1.41-.59l7.78-7.78 2.81-2.81c.8-.78.8-2.07 0-2.86zM5.41 20L4 18.59l7.72-7.72 1.47 1.35L5.41 20z\"/>\n",
              "  </svg>\n",
              "      </button>\n",
              "      \n",
              "  <style>\n",
              "    .colab-df-container {\n",
              "      display:flex;\n",
              "      flex-wrap:wrap;\n",
              "      gap: 12px;\n",
              "    }\n",
              "\n",
              "    .colab-df-convert {\n",
              "      background-color: #E8F0FE;\n",
              "      border: none;\n",
              "      border-radius: 50%;\n",
              "      cursor: pointer;\n",
              "      display: none;\n",
              "      fill: #1967D2;\n",
              "      height: 32px;\n",
              "      padding: 0 0 0 0;\n",
              "      width: 32px;\n",
              "    }\n",
              "\n",
              "    .colab-df-convert:hover {\n",
              "      background-color: #E2EBFA;\n",
              "      box-shadow: 0px 1px 2px rgba(60, 64, 67, 0.3), 0px 1px 3px 1px rgba(60, 64, 67, 0.15);\n",
              "      fill: #174EA6;\n",
              "    }\n",
              "\n",
              "    [theme=dark] .colab-df-convert {\n",
              "      background-color: #3B4455;\n",
              "      fill: #D2E3FC;\n",
              "    }\n",
              "\n",
              "    [theme=dark] .colab-df-convert:hover {\n",
              "      background-color: #434B5C;\n",
              "      box-shadow: 0px 1px 3px 1px rgba(0, 0, 0, 0.15);\n",
              "      filter: drop-shadow(0px 1px 2px rgba(0, 0, 0, 0.3));\n",
              "      fill: #FFFFFF;\n",
              "    }\n",
              "  </style>\n",
              "\n",
              "      <script>\n",
              "        const buttonEl =\n",
              "          document.querySelector('#df-bc308593-9e4b-4854-bc2c-f23a310b6178 button.colab-df-convert');\n",
              "        buttonEl.style.display =\n",
              "          google.colab.kernel.accessAllowed ? 'block' : 'none';\n",
              "\n",
              "        async function convertToInteractive(key) {\n",
              "          const element = document.querySelector('#df-bc308593-9e4b-4854-bc2c-f23a310b6178');\n",
              "          const dataTable =\n",
              "            await google.colab.kernel.invokeFunction('convertToInteractive',\n",
              "                                                     [key], {});\n",
              "          if (!dataTable) return;\n",
              "\n",
              "          const docLinkHtml = 'Like what you see? Visit the ' +\n",
              "            '<a target=\"_blank\" href=https://colab.research.google.com/notebooks/data_table.ipynb>data table notebook</a>'\n",
              "            + ' to learn more about interactive tables.';\n",
              "          element.innerHTML = '';\n",
              "          dataTable['output_type'] = 'display_data';\n",
              "          await google.colab.output.renderOutput(dataTable, element);\n",
              "          const docLink = document.createElement('div');\n",
              "          docLink.innerHTML = docLinkHtml;\n",
              "          element.appendChild(docLink);\n",
              "        }\n",
              "      </script>\n",
              "    </div>\n",
              "  </div>\n",
              "  "
            ]
          },
          "metadata": {},
          "execution_count": 110
        }
      ],
      "source": [
        "# Afficher le dataframe\n",
        "df"
      ]
    },
    {
      "cell_type": "markdown",
      "id": "sharp-target",
      "metadata": {
        "id": "sharp-target"
      },
      "source": [
        "#### nombre de stop words fr"
      ]
    },
    {
      "cell_type": "code",
      "execution_count": 116,
      "id": "signed-israeli",
      "metadata": {
        "id": "signed-israeli"
      },
      "outputs": [],
      "source": [
        "# On vous donne la liste de stop words en français suivante:\n",
        "liste_sw_fr = ['au', 'aux', 'avec', 'qui', 'ce', 'ces', 'dans', 'sa', 'de', 'des', 'du', 'elle', 'en', 'et', 'eux','à', 'on',\n",
        "              'la', 'par', 'le', 'que', 'un', 'est', 'pour']"
      ]
    },
    {
      "cell_type": "code",
      "execution_count": 117,
      "id": "composite-demographic",
      "metadata": {
        "id": "composite-demographic"
      },
      "outputs": [],
      "source": [
        "# Créer la colonne qui donne le nombre de sopt words en français dans chaque document\n",
        "# df[\"nbr_stop_words\"] = df.tokens.map(lambda doc :len([mot for mot in doc if mot in liste_sw_fr]))\n",
        "df[\"nbr_stop_words\"] = df.tokens.map(lambda doc: len([mot for mot in doc if mot in liste_sw_fr]))"
      ]
    },
    {
      "cell_type": "code",
      "execution_count": 118,
      "id": "helpful-vulnerability",
      "metadata": {
        "id": "helpful-vulnerability",
        "outputId": "8155dddc-cab4-462d-cad9-7f8c66fec2e0",
        "colab": {
          "base_uri": "https://localhost:8080/",
          "height": 206
        }
      },
      "outputs": [
        {
          "output_type": "execute_result",
          "data": {
            "text/plain": [
              "                                           Documents  \\\n",
              "0  La connaissance s'acquiert par l'expérience, t...   \n",
              "1             Qui veut aller loin ménage sa monture.   \n",
              "2  Un arbre qui tombe fait plus de bruit qu'une f...   \n",
              "3    À vaincre sans péril, on triomphe sans gloire!    \n",
              "4  Un homme n'est jamais si grand que lorsqu'il e...   \n",
              "\n",
              "                                              tokens  nbr_mot  \\\n",
              "0  [la, connaissance, s'acquiert, par, l'expérien...       12   \n",
              "1      [qui, veut, aller, loin, ménage, sa, monture]        7   \n",
              "2  [un, arbre, qui, tombe, fait, plus, de, bruit,...       12   \n",
              "3  [à, vaincre, sans, péril, on, triomphe, sans, ...        8   \n",
              "4  [un, homme, n'est, jamais, si, grand, que, lor...       15   \n",
              "\n",
              "   longueur_moyenne  nbr_stop_words  \n",
              "0                 6               5  \n",
              "1                 4               2  \n",
              "2                 4               4  \n",
              "3                 5               2  \n",
              "4                 4               6  "
            ],
            "text/html": [
              "\n",
              "  <div id=\"df-2aa851b7-77b9-482a-9210-b9e414b4fd9f\">\n",
              "    <div class=\"colab-df-container\">\n",
              "      <div>\n",
              "<style scoped>\n",
              "    .dataframe tbody tr th:only-of-type {\n",
              "        vertical-align: middle;\n",
              "    }\n",
              "\n",
              "    .dataframe tbody tr th {\n",
              "        vertical-align: top;\n",
              "    }\n",
              "\n",
              "    .dataframe thead th {\n",
              "        text-align: right;\n",
              "    }\n",
              "</style>\n",
              "<table border=\"1\" class=\"dataframe\">\n",
              "  <thead>\n",
              "    <tr style=\"text-align: right;\">\n",
              "      <th></th>\n",
              "      <th>Documents</th>\n",
              "      <th>tokens</th>\n",
              "      <th>nbr_mot</th>\n",
              "      <th>longueur_moyenne</th>\n",
              "      <th>nbr_stop_words</th>\n",
              "    </tr>\n",
              "  </thead>\n",
              "  <tbody>\n",
              "    <tr>\n",
              "      <th>0</th>\n",
              "      <td>La connaissance s'acquiert par l'expérience, t...</td>\n",
              "      <td>[la, connaissance, s'acquiert, par, l'expérien...</td>\n",
              "      <td>12</td>\n",
              "      <td>6</td>\n",
              "      <td>5</td>\n",
              "    </tr>\n",
              "    <tr>\n",
              "      <th>1</th>\n",
              "      <td>Qui veut aller loin ménage sa monture.</td>\n",
              "      <td>[qui, veut, aller, loin, ménage, sa, monture]</td>\n",
              "      <td>7</td>\n",
              "      <td>4</td>\n",
              "      <td>2</td>\n",
              "    </tr>\n",
              "    <tr>\n",
              "      <th>2</th>\n",
              "      <td>Un arbre qui tombe fait plus de bruit qu'une f...</td>\n",
              "      <td>[un, arbre, qui, tombe, fait, plus, de, bruit,...</td>\n",
              "      <td>12</td>\n",
              "      <td>4</td>\n",
              "      <td>4</td>\n",
              "    </tr>\n",
              "    <tr>\n",
              "      <th>3</th>\n",
              "      <td>À vaincre sans péril, on triomphe sans gloire!</td>\n",
              "      <td>[à, vaincre, sans, péril, on, triomphe, sans, ...</td>\n",
              "      <td>8</td>\n",
              "      <td>5</td>\n",
              "      <td>2</td>\n",
              "    </tr>\n",
              "    <tr>\n",
              "      <th>4</th>\n",
              "      <td>Un homme n'est jamais si grand que lorsqu'il e...</td>\n",
              "      <td>[un, homme, n'est, jamais, si, grand, que, lor...</td>\n",
              "      <td>15</td>\n",
              "      <td>4</td>\n",
              "      <td>6</td>\n",
              "    </tr>\n",
              "  </tbody>\n",
              "</table>\n",
              "</div>\n",
              "      <button class=\"colab-df-convert\" onclick=\"convertToInteractive('df-2aa851b7-77b9-482a-9210-b9e414b4fd9f')\"\n",
              "              title=\"Convert this dataframe to an interactive table.\"\n",
              "              style=\"display:none;\">\n",
              "        \n",
              "  <svg xmlns=\"http://www.w3.org/2000/svg\" height=\"24px\"viewBox=\"0 0 24 24\"\n",
              "       width=\"24px\">\n",
              "    <path d=\"M0 0h24v24H0V0z\" fill=\"none\"/>\n",
              "    <path d=\"M18.56 5.44l.94 2.06.94-2.06 2.06-.94-2.06-.94-.94-2.06-.94 2.06-2.06.94zm-11 1L8.5 8.5l.94-2.06 2.06-.94-2.06-.94L8.5 2.5l-.94 2.06-2.06.94zm10 10l.94 2.06.94-2.06 2.06-.94-2.06-.94-.94-2.06-.94 2.06-2.06.94z\"/><path d=\"M17.41 7.96l-1.37-1.37c-.4-.4-.92-.59-1.43-.59-.52 0-1.04.2-1.43.59L10.3 9.45l-7.72 7.72c-.78.78-.78 2.05 0 2.83L4 21.41c.39.39.9.59 1.41.59.51 0 1.02-.2 1.41-.59l7.78-7.78 2.81-2.81c.8-.78.8-2.07 0-2.86zM5.41 20L4 18.59l7.72-7.72 1.47 1.35L5.41 20z\"/>\n",
              "  </svg>\n",
              "      </button>\n",
              "      \n",
              "  <style>\n",
              "    .colab-df-container {\n",
              "      display:flex;\n",
              "      flex-wrap:wrap;\n",
              "      gap: 12px;\n",
              "    }\n",
              "\n",
              "    .colab-df-convert {\n",
              "      background-color: #E8F0FE;\n",
              "      border: none;\n",
              "      border-radius: 50%;\n",
              "      cursor: pointer;\n",
              "      display: none;\n",
              "      fill: #1967D2;\n",
              "      height: 32px;\n",
              "      padding: 0 0 0 0;\n",
              "      width: 32px;\n",
              "    }\n",
              "\n",
              "    .colab-df-convert:hover {\n",
              "      background-color: #E2EBFA;\n",
              "      box-shadow: 0px 1px 2px rgba(60, 64, 67, 0.3), 0px 1px 3px 1px rgba(60, 64, 67, 0.15);\n",
              "      fill: #174EA6;\n",
              "    }\n",
              "\n",
              "    [theme=dark] .colab-df-convert {\n",
              "      background-color: #3B4455;\n",
              "      fill: #D2E3FC;\n",
              "    }\n",
              "\n",
              "    [theme=dark] .colab-df-convert:hover {\n",
              "      background-color: #434B5C;\n",
              "      box-shadow: 0px 1px 3px 1px rgba(0, 0, 0, 0.15);\n",
              "      filter: drop-shadow(0px 1px 2px rgba(0, 0, 0, 0.3));\n",
              "      fill: #FFFFFF;\n",
              "    }\n",
              "  </style>\n",
              "\n",
              "      <script>\n",
              "        const buttonEl =\n",
              "          document.querySelector('#df-2aa851b7-77b9-482a-9210-b9e414b4fd9f button.colab-df-convert');\n",
              "        buttonEl.style.display =\n",
              "          google.colab.kernel.accessAllowed ? 'block' : 'none';\n",
              "\n",
              "        async function convertToInteractive(key) {\n",
              "          const element = document.querySelector('#df-2aa851b7-77b9-482a-9210-b9e414b4fd9f');\n",
              "          const dataTable =\n",
              "            await google.colab.kernel.invokeFunction('convertToInteractive',\n",
              "                                                     [key], {});\n",
              "          if (!dataTable) return;\n",
              "\n",
              "          const docLinkHtml = 'Like what you see? Visit the ' +\n",
              "            '<a target=\"_blank\" href=https://colab.research.google.com/notebooks/data_table.ipynb>data table notebook</a>'\n",
              "            + ' to learn more about interactive tables.';\n",
              "          element.innerHTML = '';\n",
              "          dataTable['output_type'] = 'display_data';\n",
              "          await google.colab.output.renderOutput(dataTable, element);\n",
              "          const docLink = document.createElement('div');\n",
              "          docLink.innerHTML = docLinkHtml;\n",
              "          element.appendChild(docLink);\n",
              "        }\n",
              "      </script>\n",
              "    </div>\n",
              "  </div>\n",
              "  "
            ]
          },
          "metadata": {},
          "execution_count": 118
        }
      ],
      "source": [
        "# Afficher le dataframe\n",
        "df"
      ]
    }
  ],
  "metadata": {
    "kernelspec": {
      "display_name": "Python 3",
      "language": "python",
      "name": "python3"
    },
    "language_info": {
      "codemirror_mode": {
        "name": "ipython",
        "version": 3
      },
      "file_extension": ".py",
      "mimetype": "text/x-python",
      "name": "python",
      "nbconvert_exporter": "python",
      "pygments_lexer": "ipython3",
      "version": "3.8.5"
    },
    "toc": {
      "base_numbering": 1,
      "nav_menu": {},
      "number_sections": false,
      "sideBar": true,
      "skip_h1_title": false,
      "title_cell": "Table of Contents",
      "title_sidebar": "Contents",
      "toc_cell": false,
      "toc_position": {
        "height": "calc(100% - 180px)",
        "left": "10px",
        "top": "150px",
        "width": "349.091px"
      },
      "toc_section_display": true,
      "toc_window_display": true
    },
    "colab": {
      "name": "pratique_FE.ipynb",
      "provenance": [],
      "include_colab_link": true
    }
  },
  "nbformat": 4,
  "nbformat_minor": 5
}